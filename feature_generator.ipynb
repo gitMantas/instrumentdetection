{
 "cells": [
  {
   "cell_type": "code",
   "execution_count": 121,
   "metadata": {},
   "outputs": [],
   "source": [
    "import numpy as np\n",
    "import pandas as pd\n",
    "import os\n",
    "import librosa\n",
    "import librosa.display as display\n",
    "import matplotlib.pyplot as plt\n",
    "import soundfile as sf\n",
    "import matplotlib.pyplot as plt\n",
    "import json\n",
    "import math"
   ]
  },
  {
   "cell_type": "code",
   "execution_count": null,
   "metadata": {},
   "outputs": [],
   "source": []
  },
  {
   "cell_type": "code",
   "execution_count": 122,
   "metadata": {},
   "outputs": [],
   "source": [
    "with open('Model_1_Feature.txt', 'r') as file:\n",
    "    Feature_Params = json.load(file)\n",
    "  "
   ]
  },
  {
   "cell_type": "code",
   "execution_count": null,
   "metadata": {},
   "outputs": [],
   "source": [
    "with open('Dataset_1.txt', 'r') as file:\n",
    "    Data = json.load(file)  "
   ]
  },
  {
   "cell_type": "code",
   "execution_count": 93,
   "metadata": {},
   "outputs": [
    {
     "data": {
      "text/html": [
       "<div>\n",
       "<style scoped>\n",
       "    .dataframe tbody tr th:only-of-type {\n",
       "        vertical-align: middle;\n",
       "    }\n",
       "\n",
       "    .dataframe tbody tr th {\n",
       "        vertical-align: top;\n",
       "    }\n",
       "\n",
       "    .dataframe thead th {\n",
       "        text-align: right;\n",
       "    }\n",
       "</style>\n",
       "<table border=\"1\" class=\"dataframe\">\n",
       "  <thead>\n",
       "    <tr style=\"text-align: right;\">\n",
       "      <th></th>\n",
       "      <th>tags</th>\n",
       "      <th>wav_path</th>\n",
       "      <th>raw_sounds</th>\n",
       "      <th>sample_rate</th>\n",
       "    </tr>\n",
       "  </thead>\n",
       "  <tbody>\n",
       "    <tr>\n",
       "      <th>0</th>\n",
       "      <td>org</td>\n",
       "      <td>data/IRMAS-TrainingData/org/[org][pop_roc]1223...</td>\n",
       "      <td>[-0.09614563, -0.09008789, -0.13934326, -0.125...</td>\n",
       "      <td>44100</td>\n",
       "    </tr>\n",
       "    <tr>\n",
       "      <th>1</th>\n",
       "      <td>cel</td>\n",
       "      <td>data/IRMAS-TrainingData/cel/[cel][pop_roc]0006...</td>\n",
       "      <td>[0.027709961, 0.029022217, 0.01751709, 0.00451...</td>\n",
       "      <td>44100</td>\n",
       "    </tr>\n",
       "    <tr>\n",
       "      <th>2</th>\n",
       "      <td>tru</td>\n",
       "      <td>data/IRMAS-TrainingData/tru/[tru][pop_roc]1921...</td>\n",
       "      <td>[0.003189087, 0.00340271, 0.00340271, 0.003143...</td>\n",
       "      <td>44100</td>\n",
       "    </tr>\n",
       "    <tr>\n",
       "      <th>3</th>\n",
       "      <td>cel</td>\n",
       "      <td>data/IRMAS-TrainingData/cel/[cel][jaz_blu]0011...</td>\n",
       "      <td>[-0.05470276, -0.07841492, -0.10015869, -0.113...</td>\n",
       "      <td>44100</td>\n",
       "    </tr>\n",
       "    <tr>\n",
       "      <th>4</th>\n",
       "      <td>vio</td>\n",
       "      <td>data/IRMAS-TrainingData/vio/[vio][pop_roc]2128...</td>\n",
       "      <td>[0.07650757, 0.103149414, 0.093673706, 0.07023...</td>\n",
       "      <td>44100</td>\n",
       "    </tr>\n",
       "  </tbody>\n",
       "</table>\n",
       "</div>"
      ],
      "text/plain": [
       "  tags                                           wav_path  \\\n",
       "0  org  data/IRMAS-TrainingData/org/[org][pop_roc]1223...   \n",
       "1  cel  data/IRMAS-TrainingData/cel/[cel][pop_roc]0006...   \n",
       "2  tru  data/IRMAS-TrainingData/tru/[tru][pop_roc]1921...   \n",
       "3  cel  data/IRMAS-TrainingData/cel/[cel][jaz_blu]0011...   \n",
       "4  vio  data/IRMAS-TrainingData/vio/[vio][pop_roc]2128...   \n",
       "\n",
       "                                          raw_sounds  sample_rate  \n",
       "0  [-0.09614563, -0.09008789, -0.13934326, -0.125...        44100  \n",
       "1  [0.027709961, 0.029022217, 0.01751709, 0.00451...        44100  \n",
       "2  [0.003189087, 0.00340271, 0.00340271, 0.003143...        44100  \n",
       "3  [-0.05470276, -0.07841492, -0.10015869, -0.113...        44100  \n",
       "4  [0.07650757, 0.103149414, 0.093673706, 0.07023...        44100  "
      ]
     },
     "execution_count": 93,
     "metadata": {},
     "output_type": "execute_result"
    }
   ],
   "source": [
    "from DataLoad import load_to_dataframe\n",
    "_, data = load_to_dataframe()\n",
    "\n",
    "data.head()"
   ]
  },
  {
   "cell_type": "code",
   "execution_count": 167,
   "metadata": {},
   "outputs": [],
   "source": [
    "def create_features(data, parameter=Feature_Params):\n",
    "    desc = parameter['Description']\n",
    "    Transformation = parameter['Transformation']\n",
    "    srs = parameter['sampling_rate']\n",
    "    hl = parameter['hop_length']\n",
    "    fft = parameter['fft_window']\n",
    "    n_mel = parameter['no_mel_bin']\n",
    "    norm = parameter['loudness_normalization']\n",
    "    shape = Feature_Params['Input_Dim']\n",
    "    fmin = Feature_Params['fmin']\n",
    "    fmax = Feature_Params['fmax']\n",
    "    \n",
    "    if Transformation == 'MEL_linear':\n",
    "        print(desc)\n",
    "        print('Hop_length: ', hl)\n",
    "        print('Sampling Rate:', srs)\n",
    "        print('Fast Fourier Window:', fft)\n",
    "        print('Number of MEL Bins:', n_mel)\n",
    "        print('Shape of Feature: ', shape)\n",
    "        print('Minimum Frequency: ', fmin )\n",
    "        print('Maximum Frequency: ', fmax )\n",
    "        \n",
    "        features = MEL_linear(data, srs, hl, fft, n_mel, fmin, fmax)\n",
    "        \n",
    "        data['MEL_linear'] = features\n",
    "        \n",
    "        return data\n",
    "            \n",
    "        "
   ]
  },
  {
   "cell_type": "code",
   "execution_count": 168,
   "metadata": {},
   "outputs": [],
   "source": [
    "def MEL_linear(data, srs, hl, fft, n_mel, fmin, fmax):\n",
    "    result = []\n",
    "    \n",
    "    for index, row in data.iterrows():\n",
    "\n",
    "        ft = librosa.stft(row[2], hop_length=hl, n_fft = fft, window='hann')\n",
    "        D = np.abs(ft)**2 #Calculaing the Power\n",
    "        mels = librosa.feature.melspectrogram(S=D, sr=srs, n_mels=n_mel, fmin=fmin, fmax=fmax)\n",
    "        result.append(mels)\n",
    "    \n",
    "    return result\n",
    "    "
   ]
  },
  {
   "cell_type": "code",
   "execution_count": 176,
   "metadata": {},
   "outputs": [
    {
     "name": "stdout",
     "output_type": "stream",
     "text": [
      "A simple Feature shaped as Matix, frequencies biased to MEL, linear absolute values\n",
      "Hop_length:  2048\n",
      "Sampling Rate: 44100\n",
      "Fast Fourier Window: 1024\n",
      "Number of MEL Bins: 13\n",
      "Shape of Feature:  [13, 65]\n",
      "Minimum Frequency:  0.0\n",
      "Maximum Frequency:  11025.0\n"
     ]
    }
   ],
   "source": [
    "Feature_Model_1 = create_features(data, parameter=Feature_Params)"
   ]
  },
  {
   "cell_type": "code",
   "execution_count": 177,
   "metadata": {},
   "outputs": [
    {
     "data": {
      "text/plain": [
       "(13, 65)"
      ]
     },
     "execution_count": 177,
     "metadata": {},
     "output_type": "execute_result"
    }
   ],
   "source": [
    "back['MEL_linear'][1].shape"
   ]
  },
  {
   "cell_type": "code",
   "execution_count": null,
   "metadata": {},
   "outputs": [],
   "source": []
  }
 ],
 "metadata": {
  "kernelspec": {
   "display_name": "mir",
   "language": "python",
   "name": "mir"
  },
  "language_info": {
   "codemirror_mode": {
    "name": "ipython",
    "version": 3
   },
   "file_extension": ".py",
   "mimetype": "text/x-python",
   "name": "python",
   "nbconvert_exporter": "python",
   "pygments_lexer": "ipython3",
   "version": "3.8.2"
  }
 },
 "nbformat": 4,
 "nbformat_minor": 4
}
