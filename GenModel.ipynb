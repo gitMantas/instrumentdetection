{
 "cells": [
  {
   "cell_type": "code",
   "execution_count": 18,
   "metadata": {},
   "outputs": [],
   "source": [
    "import numpy as np"
   ]
  },
  {
   "cell_type": "code",
   "execution_count": 1,
   "metadata": {},
   "outputs": [],
   "source": [
    "from DataLoad import load_to_dataframe\n",
    "df, df_raw, class_dict = load_to_dataframe()"
   ]
  },
  {
   "cell_type": "code",
   "execution_count": 7,
   "metadata": {},
   "outputs": [],
   "source": [
    "from feature_generator import create_features"
   ]
  },
  {
   "cell_type": "code",
   "execution_count": 8,
   "metadata": {},
   "outputs": [
    {
     "name": "stdout",
     "output_type": "stream",
     "text": [
      "Only FFT transformation with 2 channels for real and imaginary part, linear absolute values between 0 and 1\n",
      "Hop_length:  1024\n",
      "Sampling Rate: 44100\n",
      "Fast Fourier Window: 1024\n",
      "Number of MEL Bins: 15\n",
      "Shape of Feature:  [15, 130, 1]\n",
      "Minimum Frequency:  0.0\n",
      "Maximum Frequency:  11025.0\n"
     ]
    }
   ],
   "source": [
    "features, labels = create_features(df_raw, 'Mel_Linear_2_Param.txt')"
   ]
  },
  {
   "cell_type": "code",
   "execution_count": 9,
   "metadata": {},
   "outputs": [],
   "source": [
    "from sklearn.model_selection import train_test_split"
   ]
  },
  {
   "cell_type": "code",
   "execution_count": 24,
   "metadata": {},
   "outputs": [],
   "source": [
    "X_train, X_test, y_train, y_test = train_test_split(features,labels, test_size=0.3)"
   ]
  },
  {
   "cell_type": "code",
   "execution_count": 11,
   "metadata": {},
   "outputs": [],
   "source": [
    "from tensorflow.keras.utils import Sequence"
   ]
  },
  {
   "cell_type": "code",
   "execution_count": 46,
   "metadata": {},
   "outputs": [],
   "source": [
    "class SoundSequence(Sequence):\n",
    "\n",
    "    def __init__(self, x_set, y_set, batch_size):\n",
    "        self.x, self.y = x_set, y_set\n",
    "        self.batch_size = batch_size\n",
    "\n",
    "    def __len__(self):\n",
    "        return int(np.ceil(len(self.x) / float(self.batch_size)))\n",
    "\n",
    "    def __getitem__(self, idx):\n",
    "        batch_x = self.x[idx * self.batch_size:(idx + 1) * self.batch_size]\n",
    "        batch_y = self.y[idx * self.batch_size:(idx + 1) * self.batch_size]\n",
    "\n",
    "        return (np.array(batch_x), np.array(batch_y))"
   ]
  },
  {
   "cell_type": "code",
   "execution_count": 76,
   "metadata": {},
   "outputs": [],
   "source": [
    "train_gen = SoundSequence(X_train, y_train, 30)"
   ]
  },
  {
   "cell_type": "code",
   "execution_count": 77,
   "metadata": {},
   "outputs": [],
   "source": [
    "test_gen = SoundSequence(X_test, y_test, 30)"
   ]
  },
  {
   "cell_type": "code",
   "execution_count": 130,
   "metadata": {},
   "outputs": [
    {
     "data": {
      "text/plain": [
       "array([ 4, 10,  6,  4,  9,  8,  8,  4,  8,  8,  8,  4, 10,  1,  6,  4, 10,\n",
       "        1,  9, 10,  8,  2,  1,  9,  3,  0, 10,  6,  3,  5])"
      ]
     },
     "execution_count": 130,
     "metadata": {},
     "output_type": "execute_result"
    }
   ],
   "source": [
    "train_gen[8][1]"
   ]
  },
  {
   "cell_type": "code",
   "execution_count": 134,
   "metadata": {},
   "outputs": [
    {
     "data": {
      "text/plain": [
       "(15, 130, 1)"
      ]
     },
     "execution_count": 134,
     "metadata": {},
     "output_type": "execute_result"
    }
   ],
   "source": [
    "features.shape[1:]"
   ]
  },
  {
   "cell_type": "code",
   "execution_count": 121,
   "metadata": {},
   "outputs": [
    {
     "name": "stdout",
     "output_type": "stream",
     "text": [
      "Model: \"sequential_25\"\n",
      "_________________________________________________________________\n",
      "Layer (type)                 Output Shape              Param #   \n",
      "=================================================================\n",
      "conv2d_59 (Conv2D)           (None, 14, 126, 32)       352       \n",
      "_________________________________________________________________\n",
      "max_pooling2d_46 (MaxPooling (None, 7, 63, 32)         0         \n",
      "_________________________________________________________________\n",
      "conv2d_60 (Conv2D)           (None, 6, 59, 64)         20544     \n",
      "_________________________________________________________________\n",
      "max_pooling2d_47 (MaxPooling (None, 3, 29, 64)         0         \n",
      "_________________________________________________________________\n",
      "conv2d_61 (Conv2D)           (None, 2, 25, 128)        82048     \n",
      "_________________________________________________________________\n",
      "max_pooling2d_48 (MaxPooling (None, 1, 12, 128)        0         \n",
      "_________________________________________________________________\n",
      "spatial_dropout2d (SpatialDr (None, 1, 12, 128)        0         \n",
      "_________________________________________________________________\n",
      "flatten_6 (Flatten)          (None, 1536)              0         \n",
      "_________________________________________________________________\n",
      "dense_6 (Dense)              (None, 11)                16907     \n",
      "=================================================================\n",
      "Total params: 119,851\n",
      "Trainable params: 119,851\n",
      "Non-trainable params: 0\n",
      "_________________________________________________________________\n"
     ]
    }
   ],
   "source": [
    "from tensorflow.keras import layers, models\n",
    "input_shape = features.shape\n",
    "\n",
    "num_filters = 8\n",
    "filter_size = 3\n",
    "\n",
    "model = models.Sequential()\n",
    "#model.add(layers.Conv1D(1, kernel_size = 200, input_shape=(13299,1))) #\n",
    "model.add(layers.Conv2D(32,(2,5), activation=\"relu\", input_shape=(X_train.shape[1:])))#(15,130,1)))\n",
    "model.add(layers.MaxPooling2D((2, 2)))\n",
    "#model.add(LSTM(64))\n",
    "model.add(layers.Conv2D(64, (2,5), activation=\"relu\"))\n",
    "model.add(layers.MaxPooling2D((2, 2)))\n",
    "model.add(layers.Conv2D(128, (2, 5), activation=\"relu\"))\n",
    "model.add(layers.MaxPooling2D((2, 2)))\n",
    "model.add(layers.SpatialDropout2D(0.5))\n",
    "#model.add(layers.Dropout(0.5))\n",
    "#\n",
    "model.add(layers.Flatten())\n",
    "model.add(layers.Dense(11, activation=\"softmax\"))\n",
    "model.summary()"
   ]
  },
  {
   "cell_type": "code",
   "execution_count": 122,
   "metadata": {},
   "outputs": [],
   "source": [
    "model.compile(loss='sparse_categorical_crossentropy', optimizer='adam', metrics=['accuracy'])"
   ]
  },
  {
   "cell_type": "code",
   "execution_count": 132,
   "metadata": {},
   "outputs": [
    {
     "name": "stdout",
     "output_type": "stream",
     "text": [
      "WARNING:tensorflow:sample_weight modes were coerced from\n",
      "  ...\n",
      "    to  \n",
      "  ['...']\n",
      "WARNING:tensorflow:sample_weight modes were coerced from\n",
      "  ...\n",
      "    to  \n",
      "  ['...']\n",
      "Train for 30 steps, validate for 30 steps\n",
      "Epoch 1/20\n",
      "30/30 [==============================] - 2s 51ms/step - loss: 1.7903 - accuracy: 0.3794 - val_loss: 2.0176 - val_accuracy: 0.3222\n",
      "Epoch 2/20\n",
      "30/30 [==============================] - 2s 56ms/step - loss: 1.7686 - accuracy: 0.3783 - val_loss: 2.0165 - val_accuracy: 0.3256\n",
      "Epoch 3/20\n",
      "30/30 [==============================] - 2s 58ms/step - loss: 1.7929 - accuracy: 0.3733 - val_loss: 1.9469 - val_accuracy: 0.3389\n",
      "Epoch 4/20\n",
      "30/30 [==============================] - 2s 52ms/step - loss: 1.7233 - accuracy: 0.4122 - val_loss: 1.9580 - val_accuracy: 0.3133\n",
      "Epoch 5/20\n",
      "30/30 [==============================] - 1s 47ms/step - loss: 1.7380 - accuracy: 0.4189 - val_loss: 1.9427 - val_accuracy: 0.3467\n",
      "Epoch 6/20\n",
      "30/30 [==============================] - 2s 53ms/step - loss: 1.7352 - accuracy: 0.3956 - val_loss: 1.9662 - val_accuracy: 0.3456\n",
      "Epoch 7/20\n",
      "30/30 [==============================] - 2s 53ms/step - loss: 1.7464 - accuracy: 0.3978 - val_loss: 1.9511 - val_accuracy: 0.3567\n",
      "Epoch 8/20\n",
      "30/30 [==============================] - 2s 58ms/step - loss: 1.7866 - accuracy: 0.3767 - val_loss: 1.9595 - val_accuracy: 0.3389\n",
      "Epoch 9/20\n",
      "30/30 [==============================] - 2s 65ms/step - loss: 1.7874 - accuracy: 0.3633 - val_loss: 1.9458 - val_accuracy: 0.3389\n",
      "Epoch 10/20\n",
      "30/30 [==============================] - 2s 52ms/step - loss: 1.7455 - accuracy: 0.3867 - val_loss: 1.9967 - val_accuracy: 0.3622\n",
      "Epoch 11/20\n",
      "30/30 [==============================] - 2s 60ms/step - loss: 1.8406 - accuracy: 0.3722 - val_loss: 1.9880 - val_accuracy: 0.3389\n",
      "Epoch 12/20\n",
      "30/30 [==============================] - 2s 54ms/step - loss: 1.7714 - accuracy: 0.3967 - val_loss: 1.9649 - val_accuracy: 0.3456\n",
      "Epoch 13/20\n",
      "30/30 [==============================] - 2s 50ms/step - loss: 1.7578 - accuracy: 0.4000 - val_loss: 2.0350 - val_accuracy: 0.3244\n",
      "Epoch 14/20\n",
      "30/30 [==============================] - 2s 56ms/step - loss: 1.7534 - accuracy: 0.3956 - val_loss: 1.9407 - val_accuracy: 0.3567\n",
      "Epoch 15/20\n",
      "30/30 [==============================] - 2s 52ms/step - loss: 1.7596 - accuracy: 0.3989 - val_loss: 1.9713 - val_accuracy: 0.3333\n",
      "Epoch 16/20\n",
      "30/30 [==============================] - 2s 53ms/step - loss: 1.7692 - accuracy: 0.3811 - val_loss: 1.9406 - val_accuracy: 0.3544\n",
      "Epoch 17/20\n",
      "30/30 [==============================] - 2s 54ms/step - loss: 1.8053 - accuracy: 0.3922 - val_loss: 1.9410 - val_accuracy: 0.3533\n",
      "Epoch 18/20\n",
      "30/30 [==============================] - 2s 61ms/step - loss: 1.7085 - accuracy: 0.4134 - val_loss: 1.9497 - val_accuracy: 0.3667\n",
      "Epoch 19/20\n",
      "30/30 [==============================] - 2s 54ms/step - loss: 1.7134 - accuracy: 0.4111 - val_loss: 1.9705 - val_accuracy: 0.3400\n",
      "Epoch 20/20\n",
      "30/30 [==============================] - 2s 53ms/step - loss: 1.7618 - accuracy: 0.3867 - val_loss: 1.9753 - val_accuracy: 0.3300\n"
     ]
    }
   ],
   "source": [
    "history = model.fit(\n",
    "    train_gen,\n",
    "    steps_per_epoch=30,\n",
    "    epochs=20,\n",
    "    validation_data=test_gen,\n",
    "    validation_steps=30\n",
    "    )"
   ]
  },
  {
   "cell_type": "code",
   "execution_count": 123,
   "metadata": {},
   "outputs": [
    {
     "name": "stdout",
     "output_type": "stream",
     "text": [
      "Train on 4693 samples, validate on 2012 samples\n",
      "Epoch 1/30\n",
      "4693/4693 [==============================] - 5s 1ms/sample - loss: 2.3414 - accuracy: 0.1481 - val_loss: 2.3035 - val_accuracy: 0.1605\n",
      "Epoch 2/30\n",
      "4693/4693 [==============================] - 5s 1ms/sample - loss: 2.2882 - accuracy: 0.1818 - val_loss: 2.2464 - val_accuracy: 0.1948\n",
      "Epoch 3/30\n",
      "4693/4693 [==============================] - 5s 1ms/sample - loss: 2.2374 - accuracy: 0.1916 - val_loss: 2.2242 - val_accuracy: 0.2137\n",
      "Epoch 4/30\n",
      "4693/4693 [==============================] - 5s 1ms/sample - loss: 2.2169 - accuracy: 0.2188 - val_loss: 2.1673 - val_accuracy: 0.2584\n",
      "Epoch 5/30\n",
      "4693/4693 [==============================] - 5s 1ms/sample - loss: 2.1829 - accuracy: 0.2306 - val_loss: 2.1490 - val_accuracy: 0.2604\n",
      "Epoch 6/30\n",
      "4693/4693 [==============================] - 5s 1ms/sample - loss: 2.1582 - accuracy: 0.2389 - val_loss: 2.1295 - val_accuracy: 0.2470\n",
      "Epoch 7/30\n",
      "4693/4693 [==============================] - 5s 1ms/sample - loss: 2.1303 - accuracy: 0.2504 - val_loss: 2.1492 - val_accuracy: 0.2396\n",
      "Epoch 8/30\n",
      "4693/4693 [==============================] - 5s 1ms/sample - loss: 2.1233 - accuracy: 0.2555 - val_loss: 2.0902 - val_accuracy: 0.2629\n",
      "Epoch 9/30\n",
      "4693/4693 [==============================] - 5s 1ms/sample - loss: 2.0955 - accuracy: 0.2608 - val_loss: 2.0802 - val_accuracy: 0.2793\n",
      "Epoch 10/30\n",
      "4693/4693 [==============================] - 5s 1ms/sample - loss: 2.0849 - accuracy: 0.2766 - val_loss: 2.0737 - val_accuracy: 0.2848\n",
      "Epoch 11/30\n",
      "4693/4693 [==============================] - 5s 1ms/sample - loss: 2.0585 - accuracy: 0.2776 - val_loss: 2.0554 - val_accuracy: 0.2893\n",
      "Epoch 12/30\n",
      "4693/4693 [==============================] - 5s 1ms/sample - loss: 2.0502 - accuracy: 0.2975 - val_loss: 2.0537 - val_accuracy: 0.2917\n",
      "Epoch 13/30\n",
      "4693/4693 [==============================] - 5s 1ms/sample - loss: 2.0257 - accuracy: 0.2941 - val_loss: 2.0361 - val_accuracy: 0.3022\n",
      "Epoch 14/30\n",
      "4693/4693 [==============================] - 5s 1ms/sample - loss: 2.0205 - accuracy: 0.3113 - val_loss: 2.0421 - val_accuracy: 0.2962\n",
      "Epoch 15/30\n",
      "4693/4693 [==============================] - 5s 1ms/sample - loss: 2.0022 - accuracy: 0.3096 - val_loss: 2.0252 - val_accuracy: 0.2947\n",
      "Epoch 16/30\n",
      "4693/4693 [==============================] - 6s 1ms/sample - loss: 1.9826 - accuracy: 0.3115 - val_loss: 2.0019 - val_accuracy: 0.3037\n",
      "Epoch 17/30\n",
      "4693/4693 [==============================] - 5s 1ms/sample - loss: 1.9781 - accuracy: 0.3160 - val_loss: 2.0036 - val_accuracy: 0.3096\n",
      "Epoch 18/30\n",
      "4693/4693 [==============================] - 5s 1ms/sample - loss: 1.9487 - accuracy: 0.3318 - val_loss: 2.0162 - val_accuracy: 0.3072\n",
      "Epoch 19/30\n",
      "4693/4693 [==============================] - 5s 1ms/sample - loss: 1.9545 - accuracy: 0.3264 - val_loss: 1.9816 - val_accuracy: 0.3176\n",
      "Epoch 20/30\n",
      "4693/4693 [==============================] - 5s 1ms/sample - loss: 1.9429 - accuracy: 0.3313 - val_loss: 2.0185 - val_accuracy: 0.3131\n",
      "Epoch 21/30\n",
      "4693/4693 [==============================] - 5s 1ms/sample - loss: 1.9132 - accuracy: 0.3371 - val_loss: 2.0172 - val_accuracy: 0.3116\n",
      "Epoch 22/30\n",
      "4693/4693 [==============================] - 5s 1ms/sample - loss: 1.9054 - accuracy: 0.3377 - val_loss: 1.9884 - val_accuracy: 0.3305\n",
      "Epoch 23/30\n",
      "4693/4693 [==============================] - 5s 1ms/sample - loss: 1.8873 - accuracy: 0.3569 - val_loss: 1.9677 - val_accuracy: 0.3211\n",
      "Epoch 24/30\n",
      "4693/4693 [==============================] - 5s 1ms/sample - loss: 1.8662 - accuracy: 0.3529 - val_loss: 1.9572 - val_accuracy: 0.3216\n",
      "Epoch 25/30\n",
      "4693/4693 [==============================] - 5s 1ms/sample - loss: 1.8709 - accuracy: 0.3561 - val_loss: 1.9668 - val_accuracy: 0.3310\n",
      "Epoch 26/30\n",
      "4693/4693 [==============================] - 5s 1ms/sample - loss: 1.8710 - accuracy: 0.3533 - val_loss: 1.9642 - val_accuracy: 0.3226\n",
      "Epoch 27/30\n",
      "4693/4693 [==============================] - 5s 1ms/sample - loss: 1.8455 - accuracy: 0.3720 - val_loss: 1.9928 - val_accuracy: 0.3181\n",
      "Epoch 28/30\n",
      "4693/4693 [==============================] - 5s 1ms/sample - loss: 1.8309 - accuracy: 0.3718 - val_loss: 1.9725 - val_accuracy: 0.3350\n",
      "Epoch 29/30\n",
      "4693/4693 [==============================] - 5s 1ms/sample - loss: 1.8243 - accuracy: 0.3784 - val_loss: 1.9276 - val_accuracy: 0.3330\n",
      "Epoch 30/30\n",
      "4693/4693 [==============================] - 5s 1ms/sample - loss: 1.7980 - accuracy: 0.3861 - val_loss: 1.9471 - val_accuracy: 0.3405\n"
     ]
    }
   ],
   "source": [
    "history = model.fit(\n",
    "    X_train, y_train,\n",
    "#    steps_per_epoch=10,\n",
    "    epochs=30,\n",
    "    validation_data=(X_test, y_test)\n",
    "#    validation_steps=50\n",
    ")"
   ]
  },
  {
   "cell_type": "code",
   "execution_count": null,
   "metadata": {},
   "outputs": [],
   "source": []
  },
  {
   "cell_type": "code",
   "execution_count": null,
   "metadata": {},
   "outputs": [],
   "source": []
  },
  {
   "cell_type": "code",
   "execution_count": 107,
   "metadata": {},
   "outputs": [
    {
     "data": {
      "image/png": "[encoded data removed]",
      "text/plain": [
       "<Figure size 432x288 with 1 Axes>"
      ]
     },
     "metadata": {
      "needs_background": "light"
     },
     "output_type": "display_data"
    },
    {
     "data": {
      "image/png": "[encoded data removed]",
      "text/plain": [
       "<Figure size 432x288 with 1 Axes>"
      ]
     },
     "metadata": {
      "needs_background": "light"
     },
     "output_type": "display_data"
    }
   ],
   "source": [
    "import matplotlib.pyplot as plt\n",
    "plt.plot(model.history.history[\"loss\"], label=\"loss\")\n",
    "plt.plot(model.history.history[\"val_loss\"], label=\"val_loss\")\n",
    "plt.legend()\n",
    "plt.show()\n",
    "plt.close()\n",
    "\n",
    "plt.plot(model.history.history[\"accuracy\"], label=\"accuracy\")\n",
    "plt.plot(model.history.history[\"val_accuracy\"], label=\"val_accuracy\")\n",
    "plt.legend()\n",
    "plt.show()\n",
    "plt.close()"
   ]
  },
  {
   "cell_type": "code",
   "execution_count": null,
   "metadata": {},
   "outputs": [],
   "source": []
  }
 ],
 "metadata": {
  "kernelspec": {
   "display_name": "dsr-dl",
   "language": "python",
   "name": "dl"
  },
  "language_info": {
   "codemirror_mode": {
    "name": "ipython",
    "version": 3
   },
   "file_extension": ".py",
   "mimetype": "text/x-python",
   "name": "python",
   "nbconvert_exporter": "python",
   "pygments_lexer": "ipython3",
   "version": "3.7.6"
  }
 },
 "nbformat": 4,
 "nbformat_minor": 4
}
