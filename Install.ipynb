{
 "cells": [
  {
   "cell_type": "markdown",
   "metadata": {},
   "source": [
    "### Installation"
   ]
  },
  {
   "cell_type": "code",
   "execution_count": null,
   "metadata": {},
   "outputs": [],
   "source": [
    "conda create --name mir\n",
    "\n",
    "conda install -c conda-forge jupyterlab\n",
    "conda install pip\n",
    "conda install ipykernel\n",
    "python -m ipykernel install --user --name mir\n",
    "\n",
    "conda install numpy\n",
    "conda install pandas\n",
    "conda install matplotlib\n",
    "conda install -c conda-forge librosa\n",
    "pip install presets"
   ]
  }
 ],
 "metadata": {
  "kernelspec": {
   "display_name": "dsr",
   "language": "python",
   "name": "dsr"
  },
  "language_info": {
   "codemirror_mode": {
    "name": "ipython",
    "version": 3
   },
   "file_extension": ".py",
   "mimetype": "text/x-python",
   "name": "python",
   "nbconvert_exporter": "python",
   "pygments_lexer": "ipython3",
   "version": "3.6.9"
  }
 },
 "nbformat": 4,
 "nbformat_minor": 4
}
