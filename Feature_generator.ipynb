{
 "cells": [
  {
   "cell_type": "code",
   "execution_count": 4,
   "metadata": {},
   "outputs": [],
   "source": [
    "import numpy as np\n",
    "import pandas as pd\n",
    "import os\n",
    "import librosa\n",
    "import librosa.display as display\n",
    "import matplotlib.pyplot as plt\n",
    "import soundfile as sf\n",
    "import matplotlib.pyplot as plt\n",
    "import json\n",
    "import math\n",
    "import pickle\n",
    "from pathlib import Path"
   ]
  },
  {
   "cell_type": "code",
   "execution_count": 2,
   "metadata": {},
   "outputs": [
    {
     "ename": "FileNotFoundError",
     "evalue": "[Errno 2] No such file or directory: '/home/mirko/git/instrumentdetection/models/MEL_Linear_1_Param.txt'",
     "output_type": "error",
     "traceback": [
      "\u001b[0;31m---------------------------------------------------------------------------\u001b[0m",
      "\u001b[0;31mFileNotFoundError\u001b[0m                         Traceback (most recent call last)",
      "\u001b[0;32m<ipython-input-2-87be2e51b470>\u001b[0m in \u001b[0;36m<module>\u001b[0;34m\u001b[0m\n\u001b[1;32m      4\u001b[0m \u001b[0mmodelstore\u001b[0m \u001b[0;34m=\u001b[0m \u001b[0mPath\u001b[0m\u001b[0;34m.\u001b[0m\u001b[0mcwd\u001b[0m\u001b[0;34m(\u001b[0m\u001b[0;34m)\u001b[0m \u001b[0;34m/\u001b[0m \u001b[0;34m'models'\u001b[0m\u001b[0;34m\u001b[0m\u001b[0;34m\u001b[0m\u001b[0m\n\u001b[1;32m      5\u001b[0m \u001b[0;34m\u001b[0m\u001b[0m\n\u001b[0;32m----> 6\u001b[0;31m \u001b[0;32mwith\u001b[0m \u001b[0mopen\u001b[0m\u001b[0;34m(\u001b[0m\u001b[0mmodelstore\u001b[0m \u001b[0;34m/\u001b[0m \u001b[0mparam_file\u001b[0m\u001b[0;34m,\u001b[0m \u001b[0;34m'r'\u001b[0m\u001b[0;34m)\u001b[0m \u001b[0;32mas\u001b[0m \u001b[0mfile\u001b[0m\u001b[0;34m:\u001b[0m\u001b[0;34m\u001b[0m\u001b[0;34m\u001b[0m\u001b[0m\n\u001b[0m\u001b[1;32m      7\u001b[0m     \u001b[0mFeature_Params\u001b[0m \u001b[0;34m=\u001b[0m \u001b[0mjson\u001b[0m\u001b[0;34m.\u001b[0m\u001b[0mload\u001b[0m\u001b[0;34m(\u001b[0m\u001b[0mfile\u001b[0m\u001b[0;34m)\u001b[0m\u001b[0;34m\u001b[0m\u001b[0;34m\u001b[0m\u001b[0m\n\u001b[1;32m      8\u001b[0m \u001b[0;34m\u001b[0m\u001b[0m\n",
      "\u001b[0;31mFileNotFoundError\u001b[0m: [Errno 2] No such file or directory: '/home/mirko/git/instrumentdetection/models/MEL_Linear_1_Param.txt'"
     ]
    }
   ],
   "source": [
    "Model_Name = 'MEL_Linear_1'\n",
    "\n",
    "param_file = Model_Name + '_Param.txt'\n",
    "modelstore = Path.cwd() / 'models'\n",
    "\n",
    "with open(modelstore / param_file, 'r') as file:\n",
    "    Feature_Params = json.load(file)\n",
    "    \n",
    "Feature_Params    "
   ]
  },
  {
   "cell_type": "code",
   "execution_count": 3,
   "metadata": {},
   "outputs": [
    {
     "name": "stdout",
     "output_type": "stream",
     "text": [
      "Creating new Model File\n"
     ]
    },
    {
     "ename": "FileNotFoundError",
     "evalue": "[Errno 2] No such file or directory: '/home/mirko/git/instrumentdetection/models/MEL_Linear_1_Param.txt'",
     "output_type": "error",
     "traceback": [
      "\u001b[0;31m---------------------------------------------------------------------------\u001b[0m",
      "\u001b[0;31mFileNotFoundError\u001b[0m                         Traceback (most recent call last)",
      "\u001b[0;32m<ipython-input-3-4ddd67587b47>\u001b[0m in \u001b[0;36m<module>\u001b[0;34m\u001b[0m\n\u001b[1;32m     37\u001b[0m     \u001b[0mFeature_Params\u001b[0m\u001b[0;34m[\u001b[0m\u001b[0;34m'Input_Dim'\u001b[0m\u001b[0;34m]\u001b[0m \u001b[0;34m=\u001b[0m \u001b[0;34m[\u001b[0m\u001b[0mFrequencies\u001b[0m\u001b[0;34m,\u001b[0m \u001b[0mFrames\u001b[0m\u001b[0;34m]\u001b[0m\u001b[0;34m\u001b[0m\u001b[0;34m\u001b[0m\u001b[0m\n\u001b[1;32m     38\u001b[0m \u001b[0;34m\u001b[0m\u001b[0m\n\u001b[0;32m---> 39\u001b[0;31m     \u001b[0;32mwith\u001b[0m \u001b[0mopen\u001b[0m\u001b[0;34m(\u001b[0m\u001b[0mmodelstore\u001b[0m \u001b[0;34m/\u001b[0m \u001b[0mparam_file\u001b[0m\u001b[0;34m,\u001b[0m \u001b[0;34m'w'\u001b[0m\u001b[0;34m)\u001b[0m \u001b[0;32mas\u001b[0m \u001b[0mfile\u001b[0m\u001b[0;34m:\u001b[0m\u001b[0;34m\u001b[0m\u001b[0;34m\u001b[0m\u001b[0m\n\u001b[0m\u001b[1;32m     40\u001b[0m         \u001b[0mjson\u001b[0m\u001b[0;34m.\u001b[0m\u001b[0mdump\u001b[0m\u001b[0;34m(\u001b[0m\u001b[0mFeature_Params\u001b[0m\u001b[0;34m,\u001b[0m \u001b[0mfile\u001b[0m\u001b[0;34m)\u001b[0m\u001b[0;34m\u001b[0m\u001b[0;34m\u001b[0m\u001b[0m\n",
      "\u001b[0;31mFileNotFoundError\u001b[0m: [Errno 2] No such file or directory: '/home/mirko/git/instrumentdetection/models/MEL_Linear_1_Param.txt'"
     ]
    }
   ],
   "source": [
    "# Define Parameter Dictionary for Feature Extraction for a new Model\n",
    "\n",
    "New_Model_Name = 'MEL_Linear_1'\n",
    "\n",
    "param_file = New_Model_Name + '_Param.txt'\n",
    "\n",
    "\n",
    "if Path(modelstore / param_file).is_file():\n",
    "    print (\"Modelname is used already!\")\n",
    "    \n",
    "else:\n",
    "    print (\"Creating new Model File\")\n",
    "\n",
    "\n",
    "    Feature_Params = {}\n",
    "\n",
    "    # Input DIM for fft = fft_window/2 +1, 3 * sampling_rate / hop_length\n",
    "\n",
    "\n",
    "\n",
    "    Feature_Params['Description'] = 'Only FFT transformation with 2 channels for real and imaginary part, linear absolute values between 0 and 1'\n",
    "    Feature_Params['Data'] = '/home/mirko/Downloads/IRMAS_Raw.pkl'\n",
    "    Feature_Params['Transformation'] = 'FFT_Complex_1'\n",
    "    Feature_Params['sampling_rate'] = 44100\n",
    "    Feature_Params['hop_length'] = 2048\n",
    "    Feature_Params['fft_window'] = 1024\n",
    "    Feature_Params['no_mel_bin'] = 27\n",
    "    Feature_Params['loudness_normalization'] = 'linear'\n",
    "    Feature_Params['fmin'] = 0.0\n",
    "    Feature_Params['fmax'] = 11025.0\n",
    "    Feature_Params['length_s'] = 3\n",
    "\n",
    "    Frequencies = math.ceil(Feature_Params['fft_window'] / 2 +1)\n",
    "    # Frequencies = Feature_Params['no_mel_bin']\n",
    "    Frames = math.ceil(Feature_Params['length_s'] * Feature_Params['sampling_rate'] / Feature_Params['hop_length'])\n",
    "\n",
    "    Feature_Params['Input_Dim'] = [Frequencies, Frames]\n",
    "\n",
    "    with open(modelstore / param_file, 'w') as file:\n",
    "        json.dump(Feature_Params, file)"
   ]
  },
  {
   "cell_type": "code",
   "execution_count": 47,
   "metadata": {},
   "outputs": [
    {
     "data": {
      "text/plain": [
       "'/home/mirko/Downloads/IRMAS_Raw.pkl'"
      ]
     },
     "execution_count": 47,
     "metadata": {},
     "output_type": "execute_result"
    }
   ],
   "source": [
    "# Read the raw Data\n",
    "\n",
    "path = Feature_Params['Data']\n",
    "data = pd.read_pickle(path)\n",
    "path"
   ]
  },
  {
   "cell_type": "code",
   "execution_count": 48,
   "metadata": {},
   "outputs": [],
   "source": [
    "def create_features(data, parameter=Feature_Params):\n",
    "\n",
    "    desc = parameter['Description']\n",
    "    Transformation = parameter['Transformation']\n",
    "    srs = parameter['sampling_rate']\n",
    "    hl = parameter['hop_length']\n",
    "    fft = parameter['fft_window']\n",
    "    n_mel = parameter['no_mel_bin']\n",
    "    norm = parameter['loudness_normalization']\n",
    "    shape = parameter['Input_Dim']\n",
    "    fmin = parameter['fmin']\n",
    "    fmax = parameter['fmax']\n",
    "    \n",
    "    if Transformation == 'MEL_linear':\n",
    "        print(desc)\n",
    "        print('Hop_length: ', hl)\n",
    "        print('Sampling Rate:', srs)\n",
    "        print('Fast Fourier Window:', fft)\n",
    "        print('Number of MEL Bins:', n_mel)\n",
    "        print('Shape of Feature: ', shape)\n",
    "        print('Minimum Frequency: ', fmin )\n",
    "        print('Maximum Frequency: ', fmax )\n",
    "        \n",
    "        features = MEL_linear(data, srs, hl, fft, n_mel, fmin, fmax)\n",
    "        features = Scale_0_1(features)\n",
    "        features = np.expand_dims(features, axis=3) #This adds a channel dimension of 1\n",
    "        labels = np.array(data['labels'])\n",
    "    \n",
    "    if Transformation == 'FFT_Complex_1':\n",
    "        print(desc)\n",
    "        print('Hop_length: ', hl)\n",
    "        print('Sampling Rate:', srs)\n",
    "        print('Fast Fourier Window:', fft)\n",
    "        print('Shape of Feature: ', shape)\n",
    "       \n",
    "        features = fft_complex(data, srs, hl, fft)\n",
    "        labels = np.array(data['labels'])\n",
    "        \n",
    "    return features, labels\n",
    "            \n",
    "        "
   ]
  },
  {
   "cell_type": "code",
   "execution_count": 49,
   "metadata": {},
   "outputs": [],
   "source": [
    "#Calculate the MEL Spectogramm with given Parameters, returns numpy array\n",
    "\n",
    "def MEL_linear(data, srs, hl, fft, n_mel, fmin, fmax):\n",
    "    \n",
    "    sample_vector = np.array(data['raw_sounds'])\n",
    "    result = []\n",
    "    \n",
    "    for sample in sample_vector:\n",
    "        ft = librosa.stft(sample, hop_length=hl, n_fft = fft, window='hann') #Calculate Fast Fourier Transform\n",
    "        D = np.abs(ft)**2 #Calculaing the Power\n",
    "        mels = librosa.feature.melspectrogram(S=D, sr=srs, n_mels=n_mel, fmin=fmin, fmax=fmax) # Calculate MEL Spectogramm\n",
    "        result.append(mels)\n",
    "        \n",
    "    return np.array(result)"
   ]
  },
  {
   "cell_type": "code",
   "execution_count": 50,
   "metadata": {},
   "outputs": [],
   "source": [
    "#Calculate complex fft Transformation in 2 channels\n",
    "\n",
    "def fft_complex(data, srs, hl, fft):\n",
    "    sample_vector = np.array(data['raw_sounds'])\n",
    "    result = []\n",
    "    \n",
    "    for sample in sample_vector:\n",
    "        ft = librosa.stft(sample, hop_length=hl, n_fft = fft, window='hann') #Calculate Fast Fourier Transform\n",
    "        result.append(ft)\n",
    "        \n",
    "    return np.array(result)    "
   ]
  },
  {
   "cell_type": "code",
   "execution_count": 51,
   "metadata": {},
   "outputs": [],
   "source": [
    "# Too simple MinMax Scaler\n",
    "\n",
    "def Scale_0_1(features):\n",
    "    maximum = np.max(features)\n",
    "    minimum = np.min(features)\n",
    "    features = (features - minimum) / (maximum - minimum)\n",
    "    \n",
    "    return features"
   ]
  },
  {
   "cell_type": "code",
   "execution_count": 52,
   "metadata": {},
   "outputs": [
    {
     "name": "stdout",
     "output_type": "stream",
     "text": [
      "A simple Feature shaped as Matix, frequencies biased to MEL, linear absolute values between 0 and 1\n",
      "Hop_length:  2048\n",
      "Sampling Rate: 44100\n",
      "Fast Fourier Window: 1024\n",
      "Number of MEL Bins: 13\n",
      "Shape of Feature:  [13, 65]\n",
      "Minimum Frequency:  0.0\n",
      "Maximum Frequency:  11025.0\n"
     ]
    }
   ],
   "source": [
    "features, labels = create_features(data, parameter=Feature_Params)"
   ]
  },
  {
   "cell_type": "code",
   "execution_count": 53,
   "metadata": {},
   "outputs": [],
   "source": [
    "f_name = Model_Name + '_features.npy' \n",
    "l_name = Model_Name + '_labels.npy' \n",
    "np.save(modelstore / f_name, features)\n",
    "np.save(modelstore / l_name, labels)"
   ]
  },
  {
   "cell_type": "code",
   "execution_count": 54,
   "metadata": {},
   "outputs": [
    {
     "data": {
      "text/plain": [
       "(6705, 13, 65, 1)"
      ]
     },
     "execution_count": 54,
     "metadata": {},
     "output_type": "execute_result"
    }
   ],
   "source": [
    "features.shape"
   ]
  },
  {
   "cell_type": "code",
   "execution_count": null,
   "metadata": {},
   "outputs": [],
   "source": []
  }
 ],
 "metadata": {
  "kernelspec": {
   "display_name": "mir",
   "language": "python",
   "name": "mir"
  },
  "language_info": {
   "codemirror_mode": {
    "name": "ipython",
    "version": 3
   },
   "file_extension": ".py",
   "mimetype": "text/x-python",
   "name": "python",
   "nbconvert_exporter": "python",
   "pygments_lexer": "ipython3",
   "version": "3.8.2"
  }
 },
 "nbformat": 4,
 "nbformat_minor": 4
}
