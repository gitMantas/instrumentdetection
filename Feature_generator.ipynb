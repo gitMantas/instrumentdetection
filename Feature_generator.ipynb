{
 "cells": [
  {
   "cell_type": "code",
   "execution_count": 74,
   "metadata": {},
   "outputs": [],
   "source": [
    "import numpy as np\n",
    "import pandas as pd\n",
    "import os\n",
    "import librosa\n",
    "import librosa.display as display\n",
    "import matplotlib.pyplot as plt\n",
    "import soundfile as sf\n",
    "import matplotlib.pyplot as plt\n",
    "import json\n",
    "import math\n",
    "import pickle\n",
    "from pathlib import Path\n",
    "from DataLoad import load_to_dataframe"
   ]
  },
  {
   "cell_type": "code",
   "execution_count": 75,
   "metadata": {},
   "outputs": [],
   "source": [
    "# Runtime environment variables\n",
    "\n",
    "local_Dump = False\n",
    "\n",
    "modelstore = Path.cwd() / 'models'\n",
    "if not os.path.exists(modelstore):\n",
    "    os.makedirs(modelstore)  \n"
   ]
  },
  {
   "cell_type": "code",
   "execution_count": 76,
   "metadata": {},
   "outputs": [
    {
     "name": "stdout",
     "output_type": "stream",
     "text": [
      "No such Model Definition: MEL_Linear_1\n"
     ]
    },
    {
     "data": {
      "text/plain": [
       "{}"
      ]
     },
     "execution_count": 76,
     "metadata": {},
     "output_type": "execute_result"
    }
   ],
   "source": [
    "# Run this cell if you want to read a model only that exist already\n",
    "\n",
    "\n",
    "Model_Name = 'MEL_Linear_1'\n",
    "\n",
    "param_file = Model_Name + '_Param.txt'\n",
    "\n",
    "Feature_Params = {}\n",
    "\n",
    "if Path(modelstore / param_file).is_file():\n",
    "\n",
    "    with open(modelstore / param_file, 'r') as file:\n",
    "        Feature_Params = json.load(file)\n",
    "    \n",
    "else:\n",
    "    print('No such Model Definition:', Model_Name )\n",
    "\n",
    "Feature_Params\n",
    "    "
   ]
  },
  {
   "cell_type": "code",
   "execution_count": 77,
   "metadata": {},
   "outputs": [
    {
     "name": "stdout",
     "output_type": "stream",
     "text": [
      "Creating new Model File\n"
     ]
    }
   ],
   "source": [
    "# Define Parameter Dictionary for Feature Extraction for a new Model, run only for a new model\n",
    "\n",
    "New_Model_Name = 'MEL_Linear_1'\n",
    "\n",
    "param_file = New_Model_Name + '_Param.txt'\n",
    "\n",
    "\n",
    "if Path(modelstore / param_file).is_file():\n",
    "    print (\"Modelname is used already!\")\n",
    "    \n",
    "else:\n",
    "    print (\"Creating new Model File\")\n",
    "\n",
    " \n",
    "\n",
    "    Feature_Params = {}\n",
    "\n",
    "    # Input DIM for fft = fft_window/2 +1, 3 * sampling_rate / hop_length\n",
    "\n",
    "\n",
    "\n",
    "    Feature_Params['Description'] = 'Only FFT transformation with 2 channels for real and imaginary part, linear absolute values between 0 and 1'\n",
    "    Feature_Params['Data'] = '/home/mirko/Downloads/IRMAS_Raw.pkl'\n",
    "    Feature_Params['Transformation'] = 'MEL_linear'\n",
    "    Feature_Params['sampling_rate'] = 44100\n",
    "    Feature_Params['hop_length'] = 1024\n",
    "    Feature_Params['fft_window'] = 1024\n",
    "    Feature_Params['no_mel_bin'] = 13\n",
    "    Feature_Params['loudness_normalization'] = 'linear'\n",
    "    Feature_Params['fmin'] = 0.0\n",
    "    Feature_Params['fmax'] = 11025.0\n",
    "    Feature_Params['length_s'] = 3\n",
    "\n",
    "    # Frequencies = math.ceil(Feature_Params['fft_window'] / 2 +1)\n",
    "    Frequencies = Feature_Params['no_mel_bin']\n",
    "    Frames = math.ceil(Feature_Params['length_s'] * Feature_Params['sampling_rate'] / Feature_Params['hop_length'])\n",
    "    channels = 1\n",
    "    Feature_Params['Input_Dim'] = [Frequencies, Frames, channels]\n",
    "\n",
    "    with open(modelstore / param_file, 'w') as file:\n",
    "        json.dump(Feature_Params, file)"
   ]
  },
  {
   "cell_type": "code",
   "execution_count": 78,
   "metadata": {},
   "outputs": [],
   "source": [
    "# Read the raw Data\n",
    "\n",
    "if local_Dump:\n",
    "    \n",
    "    path = Feature_Params['Data']\n",
    "    \n",
    "    if not Path(path).is_file():\n",
    "        print ('No such Raw Data')\n",
    "        \n",
    "    data = pd.read_pickle(path)\n",
    "    path\n",
    "    \n",
    "else:\n",
    "    df, data, class_dict = load_to_dataframe()"
   ]
  },
  {
   "cell_type": "code",
   "execution_count": 79,
   "metadata": {},
   "outputs": [],
   "source": [
    "def create_features(data, parameter=Feature_Params):\n",
    "\n",
    "    desc = parameter['Description']\n",
    "    Transformation = parameter['Transformation']\n",
    "    srs = parameter['sampling_rate']\n",
    "    hl = parameter['hop_length']\n",
    "    fft = parameter['fft_window']\n",
    "    n_mel = parameter['no_mel_bin']\n",
    "    norm = parameter['loudness_normalization']\n",
    "    shape = parameter['Input_Dim']\n",
    "    fmin = parameter['fmin']\n",
    "    fmax = parameter['fmax']\n",
    "    \n",
    "    if Transformation == 'MEL_linear':\n",
    "        print(desc)\n",
    "        print('Hop_length: ', hl)\n",
    "        print('Sampling Rate:', srs)\n",
    "        print('Fast Fourier Window:', fft)\n",
    "        print('Number of MEL Bins:', n_mel)\n",
    "        print('Shape of Feature: ', shape)\n",
    "        print('Minimum Frequency: ', fmin )\n",
    "        print('Maximum Frequency: ', fmax )\n",
    "        \n",
    "        features = MEL_linear(data, srs, hl, fft, n_mel, fmin, fmax)\n",
    "        features = Scale_0_1(features)\n",
    "        features = np.expand_dims(features, axis=3) #This adds a channel dimension of 1\n",
    "        labels = np.array(data['labels'])\n",
    "    \n",
    "    if Transformation == 'FFT_Complex_1':\n",
    "        print(desc)\n",
    "        print('Hop_length: ', hl)\n",
    "        print('Sampling Rate:', srs)\n",
    "        print('Fast Fourier Window:', fft)\n",
    "        print('Shape of Feature: ', shape)\n",
    "       \n",
    "        features = fft_complex(data, srs, hl, fft)\n",
    "        labels = np.array(data['labels'])\n",
    "        \n",
    "    return features, labels\n",
    "            \n",
    "        "
   ]
  },
  {
   "cell_type": "code",
   "execution_count": 80,
   "metadata": {},
   "outputs": [],
   "source": [
    "#Calculate the MEL Spectogramm with given Parameters, returns numpy array\n",
    "\n",
    "def MEL_linear(data, srs, hl, fft, n_mel, fmin, fmax):\n",
    "    \n",
    "    sample_vector = np.array(data['raw_sounds'])\n",
    "    result = []\n",
    "    \n",
    "    for sample in sample_vector:\n",
    "        ft = librosa.stft(sample, hop_length=hl, n_fft = fft, window='hann') #Calculate Fast Fourier Transform\n",
    "        D = np.abs(ft)**2 #Calculaing the Power\n",
    "        mels = librosa.feature.melspectrogram(S=D, sr=srs, n_mels=n_mel, fmin=fmin, fmax=fmax) # Calculate MEL Spectogramm\n",
    "        result.append(mels)\n",
    "        \n",
    "    return np.array(result)"
   ]
  },
  {
   "cell_type": "code",
   "execution_count": 81,
   "metadata": {},
   "outputs": [],
   "source": [
    "#Calculate complex fft Transformation in 2 channels\n",
    "\n",
    "def fft_complex(data, srs, hl, fft):\n",
    "    sample_vector = np.array(data['raw_sounds'])\n",
    "    result = []\n",
    "    \n",
    "    for sample in sample_vector:\n",
    "        ft = librosa.stft(sample, hop_length=hl, n_fft = fft, window='hann') #Calculate Fast Fourier Transform\n",
    "        result.append(ft)\n",
    "        \n",
    "    return np.array(result)    "
   ]
  },
  {
   "cell_type": "code",
   "execution_count": 82,
   "metadata": {},
   "outputs": [],
   "source": [
    "# Too simple MinMax Scaler\n",
    "\n",
    "def Scale_0_1(features):\n",
    "    maximum = np.max(features)\n",
    "    minimum = np.min(features)\n",
    "    features = (features - minimum) / (maximum - minimum)\n",
    "    \n",
    "    return features"
   ]
  },
  {
   "cell_type": "code",
   "execution_count": 83,
   "metadata": {},
   "outputs": [
    {
     "name": "stdout",
     "output_type": "stream",
     "text": [
      "Only FFT transformation with 2 channels for real and imaginary part, linear absolute values between 0 and 1\n",
      "Hop_length:  1024\n",
      "Sampling Rate: 44100\n",
      "Fast Fourier Window: 1024\n",
      "Number of MEL Bins: 13\n",
      "Shape of Feature:  [13, 130, 1]\n",
      "Minimum Frequency:  0.0\n",
      "Maximum Frequency:  11025.0\n"
     ]
    },
    {
     "ename": "ValueError",
     "evalue": "zero-size array to reduction operation maximum which has no identity",
     "output_type": "error",
     "traceback": [
      "\u001b[0;31m---------------------------------------------------------------------------\u001b[0m",
      "\u001b[0;31mValueError\u001b[0m                                Traceback (most recent call last)",
      "\u001b[0;32m<ipython-input-83-8411169940bd>\u001b[0m in \u001b[0;36m<module>\u001b[0;34m\u001b[0m\n\u001b[0;32m----> 1\u001b[0;31m \u001b[0mfeatures\u001b[0m\u001b[0;34m,\u001b[0m \u001b[0mlabels\u001b[0m \u001b[0;34m=\u001b[0m \u001b[0mcreate_features\u001b[0m\u001b[0;34m(\u001b[0m\u001b[0mdata\u001b[0m\u001b[0;34m,\u001b[0m \u001b[0mparameter\u001b[0m\u001b[0;34m=\u001b[0m\u001b[0mFeature_Params\u001b[0m\u001b[0;34m)\u001b[0m\u001b[0;34m\u001b[0m\u001b[0;34m\u001b[0m\u001b[0m\n\u001b[0m",
      "\u001b[0;32m<ipython-input-79-05d5c16c0934>\u001b[0m in \u001b[0;36mcreate_features\u001b[0;34m(data, parameter)\u001b[0m\n\u001b[1;32m     23\u001b[0m \u001b[0;34m\u001b[0m\u001b[0m\n\u001b[1;32m     24\u001b[0m         \u001b[0mfeatures\u001b[0m \u001b[0;34m=\u001b[0m \u001b[0mMEL_linear\u001b[0m\u001b[0;34m(\u001b[0m\u001b[0mdata\u001b[0m\u001b[0;34m,\u001b[0m \u001b[0msrs\u001b[0m\u001b[0;34m,\u001b[0m \u001b[0mhl\u001b[0m\u001b[0;34m,\u001b[0m \u001b[0mfft\u001b[0m\u001b[0;34m,\u001b[0m \u001b[0mn_mel\u001b[0m\u001b[0;34m,\u001b[0m \u001b[0mfmin\u001b[0m\u001b[0;34m,\u001b[0m \u001b[0mfmax\u001b[0m\u001b[0;34m)\u001b[0m\u001b[0;34m\u001b[0m\u001b[0;34m\u001b[0m\u001b[0m\n\u001b[0;32m---> 25\u001b[0;31m         \u001b[0mfeatures\u001b[0m \u001b[0;34m=\u001b[0m \u001b[0mScale_0_1\u001b[0m\u001b[0;34m(\u001b[0m\u001b[0mfeatures\u001b[0m\u001b[0;34m)\u001b[0m\u001b[0;34m\u001b[0m\u001b[0;34m\u001b[0m\u001b[0m\n\u001b[0m\u001b[1;32m     26\u001b[0m         \u001b[0mfeatures\u001b[0m \u001b[0;34m=\u001b[0m \u001b[0mnp\u001b[0m\u001b[0;34m.\u001b[0m\u001b[0mexpand_dims\u001b[0m\u001b[0;34m(\u001b[0m\u001b[0mfeatures\u001b[0m\u001b[0;34m,\u001b[0m \u001b[0maxis\u001b[0m\u001b[0;34m=\u001b[0m\u001b[0;36m3\u001b[0m\u001b[0;34m)\u001b[0m \u001b[0;31m#This adds a channel dimension of 1\u001b[0m\u001b[0;34m\u001b[0m\u001b[0;34m\u001b[0m\u001b[0m\n\u001b[1;32m     27\u001b[0m         \u001b[0mlabels\u001b[0m \u001b[0;34m=\u001b[0m \u001b[0mnp\u001b[0m\u001b[0;34m.\u001b[0m\u001b[0marray\u001b[0m\u001b[0;34m(\u001b[0m\u001b[0mdata\u001b[0m\u001b[0;34m[\u001b[0m\u001b[0;34m'labels'\u001b[0m\u001b[0;34m]\u001b[0m\u001b[0;34m)\u001b[0m\u001b[0;34m\u001b[0m\u001b[0;34m\u001b[0m\u001b[0m\n",
      "\u001b[0;32m<ipython-input-82-5049a4eafae9>\u001b[0m in \u001b[0;36mScale_0_1\u001b[0;34m(features)\u001b[0m\n\u001b[1;32m      2\u001b[0m \u001b[0;34m\u001b[0m\u001b[0m\n\u001b[1;32m      3\u001b[0m \u001b[0;32mdef\u001b[0m \u001b[0mScale_0_1\u001b[0m\u001b[0;34m(\u001b[0m\u001b[0mfeatures\u001b[0m\u001b[0;34m)\u001b[0m\u001b[0;34m:\u001b[0m\u001b[0;34m\u001b[0m\u001b[0;34m\u001b[0m\u001b[0m\n\u001b[0;32m----> 4\u001b[0;31m     \u001b[0mmaximum\u001b[0m \u001b[0;34m=\u001b[0m \u001b[0mnp\u001b[0m\u001b[0;34m.\u001b[0m\u001b[0mmax\u001b[0m\u001b[0;34m(\u001b[0m\u001b[0mfeatures\u001b[0m\u001b[0;34m)\u001b[0m\u001b[0;34m\u001b[0m\u001b[0;34m\u001b[0m\u001b[0m\n\u001b[0m\u001b[1;32m      5\u001b[0m     \u001b[0mminimum\u001b[0m \u001b[0;34m=\u001b[0m \u001b[0mnp\u001b[0m\u001b[0;34m.\u001b[0m\u001b[0mmin\u001b[0m\u001b[0;34m(\u001b[0m\u001b[0mfeatures\u001b[0m\u001b[0;34m)\u001b[0m\u001b[0;34m\u001b[0m\u001b[0;34m\u001b[0m\u001b[0m\n\u001b[1;32m      6\u001b[0m     \u001b[0mfeatures\u001b[0m \u001b[0;34m=\u001b[0m \u001b[0;34m(\u001b[0m\u001b[0mfeatures\u001b[0m \u001b[0;34m-\u001b[0m \u001b[0mminimum\u001b[0m\u001b[0;34m)\u001b[0m \u001b[0;34m/\u001b[0m \u001b[0;34m(\u001b[0m\u001b[0mmaximum\u001b[0m \u001b[0;34m-\u001b[0m \u001b[0mminimum\u001b[0m\u001b[0;34m)\u001b[0m\u001b[0;34m\u001b[0m\u001b[0;34m\u001b[0m\u001b[0m\n",
      "\u001b[0;32m<__array_function__ internals>\u001b[0m in \u001b[0;36mamax\u001b[0;34m(*args, **kwargs)\u001b[0m\n",
      "\u001b[0;32m~/anaconda3/envs/mir/lib/python3.8/site-packages/numpy/core/fromnumeric.py\u001b[0m in \u001b[0;36mamax\u001b[0;34m(a, axis, out, keepdims, initial, where)\u001b[0m\n\u001b[1;32m   2665\u001b[0m     \u001b[0;36m5\u001b[0m\u001b[0;34m\u001b[0m\u001b[0;34m\u001b[0m\u001b[0m\n\u001b[1;32m   2666\u001b[0m     \"\"\"\n\u001b[0;32m-> 2667\u001b[0;31m     return _wrapreduction(a, np.maximum, 'max', axis, None, out,\n\u001b[0m\u001b[1;32m   2668\u001b[0m                           keepdims=keepdims, initial=initial, where=where)\n\u001b[1;32m   2669\u001b[0m \u001b[0;34m\u001b[0m\u001b[0m\n",
      "\u001b[0;32m~/anaconda3/envs/mir/lib/python3.8/site-packages/numpy/core/fromnumeric.py\u001b[0m in \u001b[0;36m_wrapreduction\u001b[0;34m(obj, ufunc, method, axis, dtype, out, **kwargs)\u001b[0m\n\u001b[1;32m     88\u001b[0m                 \u001b[0;32mreturn\u001b[0m \u001b[0mreduction\u001b[0m\u001b[0;34m(\u001b[0m\u001b[0maxis\u001b[0m\u001b[0;34m=\u001b[0m\u001b[0maxis\u001b[0m\u001b[0;34m,\u001b[0m \u001b[0mout\u001b[0m\u001b[0;34m=\u001b[0m\u001b[0mout\u001b[0m\u001b[0;34m,\u001b[0m \u001b[0;34m**\u001b[0m\u001b[0mpasskwargs\u001b[0m\u001b[0;34m)\u001b[0m\u001b[0;34m\u001b[0m\u001b[0;34m\u001b[0m\u001b[0m\n\u001b[1;32m     89\u001b[0m \u001b[0;34m\u001b[0m\u001b[0m\n\u001b[0;32m---> 90\u001b[0;31m     \u001b[0;32mreturn\u001b[0m \u001b[0mufunc\u001b[0m\u001b[0;34m.\u001b[0m\u001b[0mreduce\u001b[0m\u001b[0;34m(\u001b[0m\u001b[0mobj\u001b[0m\u001b[0;34m,\u001b[0m \u001b[0maxis\u001b[0m\u001b[0;34m,\u001b[0m \u001b[0mdtype\u001b[0m\u001b[0;34m,\u001b[0m \u001b[0mout\u001b[0m\u001b[0;34m,\u001b[0m \u001b[0;34m**\u001b[0m\u001b[0mpasskwargs\u001b[0m\u001b[0;34m)\u001b[0m\u001b[0;34m\u001b[0m\u001b[0;34m\u001b[0m\u001b[0m\n\u001b[0m\u001b[1;32m     91\u001b[0m \u001b[0;34m\u001b[0m\u001b[0m\n\u001b[1;32m     92\u001b[0m \u001b[0;34m\u001b[0m\u001b[0m\n",
      "\u001b[0;31mValueError\u001b[0m: zero-size array to reduction operation maximum which has no identity"
     ]
    }
   ],
   "source": [
    "features, labels = create_features(data, parameter=Feature_Params)"
   ]
  },
  {
   "cell_type": "code",
   "execution_count": 84,
   "metadata": {},
   "outputs": [],
   "source": [
    "if local_Dump:\n",
    "\n",
    "    f_name = Model_Name + '_features.npy' \n",
    "    l_name = Model_Name + '_labels.npy' \n",
    "    np.save(modelstore / f_name, features)\n",
    "    np.save(modelstore / l_name, labels)"
   ]
  },
  {
   "cell_type": "code",
   "execution_count": 85,
   "metadata": {},
   "outputs": [
    {
     "data": {
      "text/plain": [
       "(6705, 13, 130, 1)"
      ]
     },
     "execution_count": 85,
     "metadata": {},
     "output_type": "execute_result"
    }
   ],
   "source": [
    "features.shape"
   ]
  },
  {
   "cell_type": "code",
   "execution_count": null,
   "metadata": {},
   "outputs": [],
   "source": []
  }
 ],
 "metadata": {
  "kernelspec": {
   "display_name": "mir",
   "language": "python",
   "name": "mir"
  },
  "language_info": {
   "codemirror_mode": {
    "name": "ipython",
    "version": 3
   },
   "file_extension": ".py",
   "mimetype": "text/x-python",
   "name": "python",
   "nbconvert_exporter": "python",
   "pygments_lexer": "ipython3",
   "version": "3.8.2"
  }
 },
 "nbformat": 4,
 "nbformat_minor": 4
}
