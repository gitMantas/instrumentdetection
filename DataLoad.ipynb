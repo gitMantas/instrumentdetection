{
 "cells": [
  {
   "cell_type": "markdown",
   "metadata": {},
   "source": [
    "##### *Reminder - use daily log to track progress"
   ]
  },
  {
   "cell_type": "code",
   "execution_count": null,
   "metadata": {},
   "outputs": [],
   "source": [
    "!pip install librosa"
   ]
  },
  {
   "cell_type": "code",
   "execution_count": 22,
   "metadata": {},
   "outputs": [],
   "source": [
    "import pandas as pd\n",
    "import os, pathlib\n",
    "from sklearn.model_selection import train_test_split\n",
    "import librosa"
   ]
  },
  {
   "cell_type": "code",
   "execution_count": null,
   "metadata": {},
   "outputs": [],
   "source": [
    "!sudo apt-get install wget unzip"
   ]
  },
  {
   "cell_type": "code",
   "execution_count": null,
   "metadata": {},
   "outputs": [],
   "source": [
    "# Download training data\n",
    "!mkdir -p data && cd data && wget https://irmas-dataset.s3-eu-west-1.amazonaws.com/IRMAS-TrainingData.zip && unzip IRMAS-TrainingData.zip "
   ]
  },
  {
   "cell_type": "code",
   "execution_count": null,
   "metadata": {},
   "outputs": [],
   "source": [
    "#Download testing data (Around 2GB each)\n",
    "wget https://irmas-dataset.s3-eu-west-1.amazonaws.com/IRMAS-TestingData-Part1.zip && IRMAS-TestingData-Part1.zip\n",
    "wget https://irmas-dataset.s3-eu-west-1.amazonaws.com/IRMAS-TestingData-Part2.zip && IRMAS-TestingData-Part2.zip\n",
    "wget https://irmas-dataset.s3-eu-west-1.amazonaws.com/IRMAS-TestingData-Part3.zip && IRMAS-TestingData-Part3.zip    "
   ]
  },
  {
   "cell_type": "markdown",
   "metadata": {},
   "source": [
    "IRMAS dataset (training)\n",
    " \n",
    "Audio files: 6705 audio files in 16 bit stereo wav format sampled at 44.1kHz. They are excerpts of 3 seconds from more than 2000 distinct recordings. \n",
    "\n",
    "Annotations: The annotation of the predominant instrument of each excerpt is both in the name of the containing folder, and in the file name: cello (cel), clarinet (cla), flute (flu), acoustic guitar (gac), electric guitar (gel), organ (org), piano (pia), saxophone (sax), trumpet (tru), violin (vio), and human singing voice (voi). The number of files per instrument are: cel(388), cla(505), flu(451), gac(637), gel(760), org(682), pia(721), sax(626), tru(577), vio(580), voi(778). \n",
    "\n",
    "Additionally, some of the files have annotations in the filename regarding the presence ([dru]) or non presence([nod]) of drums, and the musical genre: country-folk ([cou_fol]), classical ([cla]), pop-rock ([pop-roc]), latin-soul ([lat-sou])."
   ]
  },
  {
   "cell_type": "code",
   "execution_count": 2,
   "metadata": {},
   "outputs": [
    {
     "data": {
      "text/html": [
       "<div>\n",
       "<style scoped>\n",
       "    .dataframe tbody tr th:only-of-type {\n",
       "        vertical-align: middle;\n",
       "    }\n",
       "\n",
       "    .dataframe tbody tr th {\n",
       "        vertical-align: top;\n",
       "    }\n",
       "\n",
       "    .dataframe thead th {\n",
       "        text-align: right;\n",
       "    }\n",
       "</style>\n",
       "<table border=\"1\" class=\"dataframe\">\n",
       "  <thead>\n",
       "    <tr style=\"text-align: right;\">\n",
       "      <th></th>\n",
       "      <th>index</th>\n",
       "      <th>tags</th>\n",
       "      <th>wav_path</th>\n",
       "    </tr>\n",
       "  </thead>\n",
       "  <tbody>\n",
       "    <tr>\n",
       "      <th>0</th>\n",
       "      <td>2592</td>\n",
       "      <td>sax</td>\n",
       "      <td>Data/IRMAS-TrainingData/sax/081__[sax][nod][cl...</td>\n",
       "    </tr>\n",
       "    <tr>\n",
       "      <th>1</th>\n",
       "      <td>6001</td>\n",
       "      <td>gel</td>\n",
       "      <td>Data/IRMAS-TrainingData/gel/[gel][pop_roc]0888...</td>\n",
       "    </tr>\n",
       "    <tr>\n",
       "      <th>2</th>\n",
       "      <td>2764</td>\n",
       "      <td>org</td>\n",
       "      <td>Data/IRMAS-TrainingData/org/[org][jaz_blu]1232...</td>\n",
       "    </tr>\n",
       "    <tr>\n",
       "      <th>3</th>\n",
       "      <td>3792</td>\n",
       "      <td>cla</td>\n",
       "      <td>Data/IRMAS-TrainingData/cla/[cla][jaz_blu]0325...</td>\n",
       "    </tr>\n",
       "    <tr>\n",
       "      <th>4</th>\n",
       "      <td>4673</td>\n",
       "      <td>vio</td>\n",
       "      <td>Data/IRMAS-TrainingData/vio/[vio][jaz_blu]2108...</td>\n",
       "    </tr>\n",
       "  </tbody>\n",
       "</table>\n",
       "</div>"
      ],
      "text/plain": [
       "   index tags                                           wav_path\n",
       "0   2592  sax  Data/IRMAS-TrainingData/sax/081__[sax][nod][cl...\n",
       "1   6001  gel  Data/IRMAS-TrainingData/gel/[gel][pop_roc]0888...\n",
       "2   2764  org  Data/IRMAS-TrainingData/org/[org][jaz_blu]1232...\n",
       "3   3792  cla  Data/IRMAS-TrainingData/cla/[cla][jaz_blu]0325...\n",
       "4   4673  vio  Data/IRMAS-TrainingData/vio/[vio][jaz_blu]2108..."
      ]
     },
     "execution_count": 2,
     "metadata": {},
     "output_type": "execute_result"
    }
   ],
   "source": [
    "IRMAS_TRAINING = 'data/IRMAS-TrainingData'\n",
    "base_path = pathlib.Path(IRMAS_TRAINING)\n",
    "classes, paths = [], []\n",
    "\n",
    "for p in base_path.glob('*/*'):\n",
    "    relative_path = p.relative_to(base_path)\n",
    "    classes.append(str(relative_path.parent))\n",
    "    paths.append(p)\n",
    "    \n",
    "#classes = set(classes)\n",
    "df = pd.DataFrame({\"tags\": classes, \"wav_path\": paths}).sample(frac=1).reset_index()\n",
    "#df_training.piano = df.tags.map({'pia': True, '': 0})\n",
    "#df.tags = df.tags.map({'pia': True, })\n",
    "\n",
    "df.head(5)"
   ]
  },
  {
   "cell_type": "code",
   "execution_count": 3,
   "metadata": {},
   "outputs": [
    {
     "data": {
      "text/plain": [
       "(6705, 3)"
      ]
     },
     "execution_count": 3,
     "metadata": {},
     "output_type": "execute_result"
    }
   ],
   "source": [
    "df.shape"
   ]
  },
  {
   "cell_type": "code",
   "execution_count": 4,
   "metadata": {},
   "outputs": [
    {
     "data": {
      "text/plain": [
       "{'cel', 'cla', 'flu', 'gac', 'gel', 'org', 'pia', 'sax', 'tru', 'vio', 'voi'}"
      ]
     },
     "execution_count": 4,
     "metadata": {},
     "output_type": "execute_result"
    }
   ],
   "source": [
    "set(classes)"
   ]
  },
  {
   "cell_type": "code",
   "execution_count": 23,
   "metadata": {},
   "outputs": [],
   "source": [
    "df_train, df_test = train_test_split(df, test_size=0.3)"
   ]
  },
  {
   "cell_type": "code",
   "execution_count": 25,
   "metadata": {},
   "outputs": [
    {
     "data": {
      "text/plain": [
       "(4693, 3)"
      ]
     },
     "execution_count": 25,
     "metadata": {},
     "output_type": "execute_result"
    }
   ],
   "source": []
  },
  {
   "cell_type": "code",
   "execution_count": 26,
   "metadata": {},
   "outputs": [
    {
     "data": {
      "text/plain": [
       "(2012, 3)"
      ]
     },
     "execution_count": 26,
     "metadata": {},
     "output_type": "execute_result"
    }
   ],
   "source": []
  },
  {
   "cell_type": "code",
   "execution_count": 27,
   "metadata": {},
   "outputs": [
    {
     "data": {
      "text/plain": [
       "(6705, 0)"
      ]
     },
     "execution_count": 27,
     "metadata": {},
     "output_type": "execute_result"
    }
   ],
   "source": [
    "# Test if files are loading\n",
    "successful, corrupted = [], []\n",
    "len_x, sample_rates = [], []\n",
    "for p in df.wav_path:\n",
    "    try:\n",
    "        x, sr = librosa.load(p, sr=None)\n",
    "        successful.append(p)\n",
    "        len_x.append(len(x))\n",
    "        sample_rates.append(sr)\n",
    "    except:\n",
    "        corrupted.append(p)\n",
    "#       print(p)\n",
    "###df = df[~df.wav_path.isin(corrupted)]\n",
    "len(successful), len(corrupted)"
   ]
  },
  {
   "cell_type": "code",
   "execution_count": 29,
   "metadata": {},
   "outputs": [
    {
     "data": {
      "text/plain": [
       "{132299}"
      ]
     },
     "execution_count": 29,
     "metadata": {},
     "output_type": "execute_result"
    }
   ],
   "source": [
    "set(len_x)"
   ]
  },
  {
   "cell_type": "code",
   "execution_count": 30,
   "metadata": {},
   "outputs": [
    {
     "data": {
      "text/plain": [
       "{44100}"
      ]
     },
     "execution_count": 30,
     "metadata": {},
     "output_type": "execute_result"
    }
   ],
   "source": [
    "set(sample_rates)"
   ]
  },
  {
   "cell_type": "code",
   "execution_count": 31,
   "metadata": {},
   "outputs": [
    {
     "data": {
      "text/plain": [
       "2.9999773242630385"
      ]
     },
     "execution_count": 31,
     "metadata": {},
     "output_type": "execute_result"
    }
   ],
   "source": [
    "132299/44100"
   ]
  },
  {
   "cell_type": "code",
   "execution_count": 20,
   "metadata": {},
   "outputs": [
    {
     "data": {
      "text/plain": [
       "44100"
      ]
     },
     "execution_count": 20,
     "metadata": {},
     "output_type": "execute_result"
    }
   ],
   "source": [
    "sr"
   ]
  },
  {
   "cell_type": "code",
   "execution_count": null,
   "metadata": {},
   "outputs": [],
   "source": [
    "df_test.shape"
   ]
  },
  {
   "cell_type": "code",
   "execution_count": null,
   "metadata": {},
   "outputs": [],
   "source": [
    "class InstrumentClassificationDataset(Dataset):\n",
    "    def __init__(self, annotations):\n",
    "        super().__init__()\n",
    "        self.annotations = annotations.copy()\n",
    "#        self.image_transform = image_transform\n",
    "\n",
    "    def __len__(self):\n",
    "        return len(self.annotations)\n",
    "\n",
    "    def __getitem__(self, index):\n",
    "        sound = self.load_from_disk(index)\n",
    "        label = self.load_label(index)\n",
    "#        Xi = self.image_transform(Xi)\n",
    "        return sound, label\n",
    "\n",
    "    def load_to_librosa(self, uri):\n",
    "        image = PIL.Image.open(uri)\n",
    "        return image\n",
    "\n",
    "    def load_from_disk(self, index):\n",
    "        image_path = df.iloc[index].wav_path \n",
    "        return self.load_to_librosa(wav_path)\n",
    "\n",
    "    def load_label(self, index):\n",
    "        label = df.iloc[index].tags\n",
    "        return label"
   ]
  },
  {
   "cell_type": "code",
   "execution_count": null,
   "metadata": {},
   "outputs": [],
   "source": [
    "class BaseSampler(Sampler):\n",
    "    def __init__(self, df, list_of_instruments, n_samples):\n",
    "        self.df = df.copy()\n",
    "        self.n_samples = n_samples\n",
    "        self.instruments = list_of_instruments\n",
    "        #df = df[self.instruments]\n",
    "        df = df[df['tags'].isin(inst)]\n",
    "        \n",
    "    def __iter__(self):\n",
    "        return iter(self._get_sample())\n",
    "        \n",
    "    def __len__(self):\n",
    "        return self.n_samples\n",
    "    \n",
    "    def _get_samples(self, ):\n",
    "        return np.random.choice(len(self.df), self.n_samples, replace=False)"
   ]
  },
  {
   "cell_type": "code",
   "execution_count": 32,
   "metadata": {},
   "outputs": [
    {
     "data": {
      "text/html": [
       "<div>\n",
       "<style scoped>\n",
       "    .dataframe tbody tr th:only-of-type {\n",
       "        vertical-align: middle;\n",
       "    }\n",
       "\n",
       "    .dataframe tbody tr th {\n",
       "        vertical-align: top;\n",
       "    }\n",
       "\n",
       "    .dataframe thead th {\n",
       "        text-align: right;\n",
       "    }\n",
       "</style>\n",
       "<table border=\"1\" class=\"dataframe\">\n",
       "  <thead>\n",
       "    <tr style=\"text-align: right;\">\n",
       "      <th></th>\n",
       "      <th>index</th>\n",
       "      <th>tags</th>\n",
       "      <th>wav_path</th>\n",
       "    </tr>\n",
       "  </thead>\n",
       "  <tbody>\n",
       "    <tr>\n",
       "      <th>0</th>\n",
       "      <td>2592</td>\n",
       "      <td>sax</td>\n",
       "      <td>Data/IRMAS-TrainingData/sax/081__[sax][nod][cl...</td>\n",
       "    </tr>\n",
       "    <tr>\n",
       "      <th>1</th>\n",
       "      <td>6001</td>\n",
       "      <td>gel</td>\n",
       "      <td>Data/IRMAS-TrainingData/gel/[gel][pop_roc]0888...</td>\n",
       "    </tr>\n",
       "    <tr>\n",
       "      <th>2</th>\n",
       "      <td>2764</td>\n",
       "      <td>org</td>\n",
       "      <td>Data/IRMAS-TrainingData/org/[org][jaz_blu]1232...</td>\n",
       "    </tr>\n",
       "    <tr>\n",
       "      <th>3</th>\n",
       "      <td>3792</td>\n",
       "      <td>cla</td>\n",
       "      <td>Data/IRMAS-TrainingData/cla/[cla][jaz_blu]0325...</td>\n",
       "    </tr>\n",
       "    <tr>\n",
       "      <th>4</th>\n",
       "      <td>4673</td>\n",
       "      <td>vio</td>\n",
       "      <td>Data/IRMAS-TrainingData/vio/[vio][jaz_blu]2108...</td>\n",
       "    </tr>\n",
       "    <tr>\n",
       "      <th>...</th>\n",
       "      <td>...</td>\n",
       "      <td>...</td>\n",
       "      <td>...</td>\n",
       "    </tr>\n",
       "    <tr>\n",
       "      <th>6700</th>\n",
       "      <td>5913</td>\n",
       "      <td>gel</td>\n",
       "      <td>Data/IRMAS-TrainingData/gel/064__[gel][dru][ja...</td>\n",
       "    </tr>\n",
       "    <tr>\n",
       "      <th>6701</th>\n",
       "      <td>1287</td>\n",
       "      <td>voi</td>\n",
       "      <td>Data/IRMAS-TrainingData/voi/261__[voi][dru][co...</td>\n",
       "    </tr>\n",
       "    <tr>\n",
       "      <th>6702</th>\n",
       "      <td>501</td>\n",
       "      <td>pia</td>\n",
       "      <td>Data/IRMAS-TrainingData/pia/[pia][jaz_blu]1503...</td>\n",
       "    </tr>\n",
       "    <tr>\n",
       "      <th>6703</th>\n",
       "      <td>5266</td>\n",
       "      <td>flu</td>\n",
       "      <td>Data/IRMAS-TrainingData/flu/093__[flu][dru][po...</td>\n",
       "    </tr>\n",
       "    <tr>\n",
       "      <th>6704</th>\n",
       "      <td>1150</td>\n",
       "      <td>voi</td>\n",
       "      <td>Data/IRMAS-TrainingData/voi/060__[voi][dru][la...</td>\n",
       "    </tr>\n",
       "  </tbody>\n",
       "</table>\n",
       "<p>6705 rows × 3 columns</p>\n",
       "</div>"
      ],
      "text/plain": [
       "      index tags                                           wav_path\n",
       "0      2592  sax  Data/IRMAS-TrainingData/sax/081__[sax][nod][cl...\n",
       "1      6001  gel  Data/IRMAS-TrainingData/gel/[gel][pop_roc]0888...\n",
       "2      2764  org  Data/IRMAS-TrainingData/org/[org][jaz_blu]1232...\n",
       "3      3792  cla  Data/IRMAS-TrainingData/cla/[cla][jaz_blu]0325...\n",
       "4      4673  vio  Data/IRMAS-TrainingData/vio/[vio][jaz_blu]2108...\n",
       "...     ...  ...                                                ...\n",
       "6700   5913  gel  Data/IRMAS-TrainingData/gel/064__[gel][dru][ja...\n",
       "6701   1287  voi  Data/IRMAS-TrainingData/voi/261__[voi][dru][co...\n",
       "6702    501  pia  Data/IRMAS-TrainingData/pia/[pia][jaz_blu]1503...\n",
       "6703   5266  flu  Data/IRMAS-TrainingData/flu/093__[flu][dru][po...\n",
       "6704   1150  voi  Data/IRMAS-TrainingData/voi/060__[voi][dru][la...\n",
       "\n",
       "[6705 rows x 3 columns]"
      ]
     },
     "execution_count": 32,
     "metadata": {},
     "output_type": "execute_result"
    }
   ],
   "source": [
    "df"
   ]
  },
  {
   "cell_type": "code",
   "execution_count": 34,
   "metadata": {},
   "outputs": [],
   "source": [
    "inst = ['sax', 'pia']"
   ]
  },
  {
   "cell_type": "code",
   "execution_count": 38,
   "metadata": {},
   "outputs": [],
   "source": [
    "df_inst = df[df['tags'].isin(inst)]"
   ]
  },
  {
   "cell_type": "code",
   "execution_count": 41,
   "metadata": {},
   "outputs": [
    {
     "data": {
      "text/html": [
       "<div>\n",
       "<style scoped>\n",
       "    .dataframe tbody tr th:only-of-type {\n",
       "        vertical-align: middle;\n",
       "    }\n",
       "\n",
       "    .dataframe tbody tr th {\n",
       "        vertical-align: top;\n",
       "    }\n",
       "\n",
       "    .dataframe thead th {\n",
       "        text-align: right;\n",
       "    }\n",
       "</style>\n",
       "<table border=\"1\" class=\"dataframe\">\n",
       "  <thead>\n",
       "    <tr style=\"text-align: right;\">\n",
       "      <th></th>\n",
       "      <th>index</th>\n",
       "      <th>tags</th>\n",
       "      <th>wav_path</th>\n",
       "    </tr>\n",
       "  </thead>\n",
       "  <tbody>\n",
       "    <tr>\n",
       "      <th>0</th>\n",
       "      <td>2592</td>\n",
       "      <td>sax</td>\n",
       "      <td>Data/IRMAS-TrainingData/sax/081__[sax][nod][cl...</td>\n",
       "    </tr>\n",
       "    <tr>\n",
       "      <th>5</th>\n",
       "      <td>359</td>\n",
       "      <td>pia</td>\n",
       "      <td>Data/IRMAS-TrainingData/pia/152__[pia][dru][po...</td>\n",
       "    </tr>\n",
       "    <tr>\n",
       "      <th>12</th>\n",
       "      <td>2698</td>\n",
       "      <td>sax</td>\n",
       "      <td>Data/IRMAS-TrainingData/sax/094__[sax][dru][ja...</td>\n",
       "    </tr>\n",
       "    <tr>\n",
       "      <th>13</th>\n",
       "      <td>698</td>\n",
       "      <td>pia</td>\n",
       "      <td>Data/IRMAS-TrainingData/pia/[pia][cla]1447__2.wav</td>\n",
       "    </tr>\n",
       "    <tr>\n",
       "      <th>16</th>\n",
       "      <td>2426</td>\n",
       "      <td>sax</td>\n",
       "      <td>Data/IRMAS-TrainingData/sax/[sax][jaz_blu]1762...</td>\n",
       "    </tr>\n",
       "    <tr>\n",
       "      <th>...</th>\n",
       "      <td>...</td>\n",
       "      <td>...</td>\n",
       "      <td>...</td>\n",
       "    </tr>\n",
       "    <tr>\n",
       "      <th>6647</th>\n",
       "      <td>177</td>\n",
       "      <td>pia</td>\n",
       "      <td>Data/IRMAS-TrainingData/pia/[pia][cla]1352__1.wav</td>\n",
       "    </tr>\n",
       "    <tr>\n",
       "      <th>6654</th>\n",
       "      <td>185</td>\n",
       "      <td>pia</td>\n",
       "      <td>Data/IRMAS-TrainingData/pia/[pia][pop_roc]1303...</td>\n",
       "    </tr>\n",
       "    <tr>\n",
       "      <th>6687</th>\n",
       "      <td>2669</td>\n",
       "      <td>sax</td>\n",
       "      <td>Data/IRMAS-TrainingData/sax/[sax][pop_roc]1604...</td>\n",
       "    </tr>\n",
       "    <tr>\n",
       "      <th>6699</th>\n",
       "      <td>262</td>\n",
       "      <td>pia</td>\n",
       "      <td>Data/IRMAS-TrainingData/pia/[pia][jaz_blu]1508...</td>\n",
       "    </tr>\n",
       "    <tr>\n",
       "      <th>6702</th>\n",
       "      <td>501</td>\n",
       "      <td>pia</td>\n",
       "      <td>Data/IRMAS-TrainingData/pia/[pia][jaz_blu]1503...</td>\n",
       "    </tr>\n",
       "  </tbody>\n",
       "</table>\n",
       "<p>1347 rows × 3 columns</p>\n",
       "</div>"
      ],
      "text/plain": [
       "      index tags                                           wav_path\n",
       "0      2592  sax  Data/IRMAS-TrainingData/sax/081__[sax][nod][cl...\n",
       "5       359  pia  Data/IRMAS-TrainingData/pia/152__[pia][dru][po...\n",
       "12     2698  sax  Data/IRMAS-TrainingData/sax/094__[sax][dru][ja...\n",
       "13      698  pia  Data/IRMAS-TrainingData/pia/[pia][cla]1447__2.wav\n",
       "16     2426  sax  Data/IRMAS-TrainingData/sax/[sax][jaz_blu]1762...\n",
       "...     ...  ...                                                ...\n",
       "6647    177  pia  Data/IRMAS-TrainingData/pia/[pia][cla]1352__1.wav\n",
       "6654    185  pia  Data/IRMAS-TrainingData/pia/[pia][pop_roc]1303...\n",
       "6687   2669  sax  Data/IRMAS-TrainingData/sax/[sax][pop_roc]1604...\n",
       "6699    262  pia  Data/IRMAS-TrainingData/pia/[pia][jaz_blu]1508...\n",
       "6702    501  pia  Data/IRMAS-TrainingData/pia/[pia][jaz_blu]1503...\n",
       "\n",
       "[1347 rows x 3 columns]"
      ]
     },
     "execution_count": 41,
     "metadata": {},
     "output_type": "execute_result"
    }
   ],
   "source": [
    "df_inst"
   ]
  },
  {
   "cell_type": "code",
   "execution_count": null,
   "metadata": {},
   "outputs": [],
   "source": []
  }
 ],
 "metadata": {
  "kernelspec": {
   "display_name": "dsr-dl",
   "language": "python",
   "name": "dl"
  },
  "language_info": {
   "codemirror_mode": {
    "name": "ipython",
    "version": 3
   },
   "file_extension": ".py",
   "mimetype": "text/x-python",
   "name": "python",
   "nbconvert_exporter": "python",
   "pygments_lexer": "ipython3",
   "version": "3.7.6"
  }
 },
 "nbformat": 4,
 "nbformat_minor": 4
}
