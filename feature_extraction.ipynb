{
 "cells": [
  {
   "cell_type": "code",
   "execution_count": 32,
   "metadata": {},
   "outputs": [],
   "source": [
    "import numpy as np\n",
    "import pandas as pd\n",
    "import os\n",
    "import librosa\n",
    "import librosa.display as display\n",
    "import matplotlib.pyplot as plt\n",
    "import soundfile as sf\n",
    "import matplotlib.pyplot as plt"
   ]
  },
  {
   "cell_type": "code",
   "execution_count": null,
   "metadata": {},
   "outputs": [],
   "source": []
  },
  {
   "cell_type": "code",
   "execution_count": 148,
   "metadata": {},
   "outputs": [],
   "source": []
  },
  {
   "cell_type": "markdown",
   "metadata": {},
   "source": [
    "### Variable definitions, Parameter\n",
    "___"
   ]
  },
  {
   "cell_type": "code",
   "execution_count": 137,
   "metadata": {},
   "outputs": [],
   "source": [
    "# y_raw = Audio Sequence from wav file, raw data\n",
    "hl = 1024*4     # Hop length to the next frame, standard 4 times the n_fft window\n",
    "srs = 44100   # Sample rate (Time resolution)\n",
    "nfft = 1024    # Number of samples in window of fast fourier transform. Set to 23ms for spech, 93ms for music (Freqnecy Resolution)\n",
    "resr = 4410\n",
    "nmels = 13    # Number of mel bins"
   ]
  },
  {
   "cell_type": "markdown",
   "metadata": {},
   "source": [
    "### Fast Fourier Transform\n",
    "___"
   ]
  },
  {
   "cell_type": "code",
   "execution_count": 118,
   "metadata": {},
   "outputs": [],
   "source": [
    "# Fast fourier transformation, Frequencydomain, unbiased\n",
    "# Returns for every Audio Sequence a matrix of (frequency x frames) which will contain complex values\n",
    "\n",
    "def stfft(y_raw, hl, nfft, window='hann'):\n",
    "    result = []\n",
    "    for row in y_raw:\n",
    "        result.append(librosa.stft(row, hop_length=hl, n_fft = nfft, window=window))\n",
    "    result = np.array(result)\n",
    "    return result"
   ]
  },
  {
   "cell_type": "code",
   "execution_count": 119,
   "metadata": {},
   "outputs": [],
   "source": [
    "# Get actual frequencies from stfft, returns a list of frequencies\n",
    "\n",
    "def get_frequencies(srs, nfft):\n",
    "    result = librosa.core.fft_frequencies(srs, nfft)\n",
    "    return result"
   ]
  },
  {
   "cell_type": "code",
   "execution_count": 120,
   "metadata": {},
   "outputs": [
    {
     "data": {
      "text/plain": [
       "(3, 513, 33)"
      ]
     },
     "execution_count": 120,
     "metadata": {},
     "output_type": "execute_result"
    }
   ],
   "source": [
    "# Short term fourier transform\n",
    "short_term_fft = stfft(data_new, hl, nfft)\n",
    "short_term_fft.shape"
   ]
  },
  {
   "cell_type": "code",
   "execution_count": 98,
   "metadata": {},
   "outputs": [
    {
     "name": "stdout",
     "output_type": "stream",
     "text": [
      "(513,)\n"
     ]
    },
    {
     "data": {
      "text/plain": [
       "array([    0.       ,  2153.3203125,  4306.640625 ,  6459.9609375,\n",
       "        8613.28125  , 10766.6015625, 12919.921875 , 15073.2421875,\n",
       "       17226.5625   , 19379.8828125, 21533.203125 ])"
      ]
     },
     "execution_count": 98,
     "metadata": {},
     "output_type": "execute_result"
    }
   ],
   "source": [
    "# See the frequencies\n",
    "frequencies = get_frequencies(srs, nfft)\n",
    "print(frequencies.shape)\n",
    "frequencies[::50]"
   ]
  },
  {
   "cell_type": "markdown",
   "metadata": {},
   "source": [
    "### Downsampling\n",
    "___"
   ]
  },
  {
   "cell_type": "code",
   "execution_count": 75,
   "metadata": {},
   "outputs": [],
   "source": [
    "# Basic Downsampler, Timedomain, unbiased\n",
    "# Returns for every Audio Sequence a downsampled Audio Sequence\n",
    "\n",
    "\n",
    "def downsampler(y_raw, srs, resr):\n",
    "    result = []\n",
    "    for row in y_raw:\n",
    "        result.append(librosa.resample(row, orig_sr=srs, target_sr=resr))\n",
    "    result = np.array(result)\n",
    "    return result"
   ]
  },
  {
   "cell_type": "code",
   "execution_count": 101,
   "metadata": {},
   "outputs": [
    {
     "name": "stdout",
     "output_type": "stream",
     "text": [
      "(132300,)\n",
      "(3, 33075)\n"
     ]
    }
   ],
   "source": [
    "# Down sampled Raw Data. Note at the moment the Input is a array with a list inside\n",
    "down = downsampler(data_new, srs, resr=11025)\n",
    "print(data_new[1].shape)\n",
    "print(down.shape)"
   ]
  },
  {
   "cell_type": "markdown",
   "metadata": {},
   "source": [
    "### Normalizing the naive way\n",
    "___"
   ]
  },
  {
   "cell_type": "code",
   "execution_count": 76,
   "metadata": {},
   "outputs": [],
   "source": [
    "# Simple normalizer\n",
    "\n",
    "def normalize_wav(y_raw):\n",
    "    result = []\n",
    "    for row in y_raw:\n",
    "        result.append((row + 1) / 2)\n",
    "    result = np.array(result)\n",
    "    return result    "
   ]
  },
  {
   "cell_type": "markdown",
   "metadata": {},
   "source": [
    "### MEL Spectogram\n",
    "___"
   ]
  },
  {
   "cell_type": "code",
   "execution_count": 172,
   "metadata": {},
   "outputs": [],
   "source": [
    "# Doing calculation step wise for clarity\n",
    "# Returns for every Audio Sequence a matrix of (mel_frequency x frames) which will contain power per mel-bin\n",
    "\n",
    "def mel_spectogram(y_raw, hl, nfft, nmels, srs, window='hann', fmin=0.0, fmax=11025.0):\n",
    "    result = []\n",
    "    for row in y_raw:\n",
    "        fft = librosa.stft(row, hop_length=hl, n_fft = nfft, window=window)\n",
    "        D = np.abs(fft)**2 #Calculaing the Power\n",
    "        result.append(librosa.feature.melspectrogram(S=D, sr=srs, n_mels=nmels, fmin=fmin, fmax=fmax))\n",
    "    result = np.array(result)\n",
    "    return result"
   ]
  },
  {
   "cell_type": "code",
   "execution_count": 169,
   "metadata": {},
   "outputs": [],
   "source": [
    "# See the mel frequencies, note, we use standard fmax here\n",
    "def get_mel_frequencies(n_mels, fmin=0.0, fmax=11025.0):\n",
    "    result = librosa.mel_frequencies(n_mels, fmin=fmin, fmax=fmax)\n",
    "    return result"
   ]
  },
  {
   "cell_type": "code",
   "execution_count": 170,
   "metadata": {},
   "outputs": [
    {
     "name": "stdout",
     "output_type": "stream",
     "text": [
      "(3, 13, 33)\n"
     ]
    }
   ],
   "source": [
    "mel_s = mel_spectogram(data_new, hl, nfft, nmels=13, srs=srs)\n",
    "print(mel_s.shape)"
   ]
  },
  {
   "cell_type": "code",
   "execution_count": 171,
   "metadata": {},
   "outputs": [
    {
     "name": "stdout",
     "output_type": "stream",
     "text": [
      "(13,)\n"
     ]
    },
    {
     "data": {
      "text/plain": [
       "array([    0.        ,   277.28108045,   554.56216089,   831.84324134,\n",
       "        1119.11407321,  1489.57504283,  1982.6699184 ,  2638.99427173,\n",
       "        3512.58204988,  4675.35408823,  6223.03921729,  8283.05543689,\n",
       "       11025.        ])"
      ]
     },
     "execution_count": 171,
     "metadata": {},
     "output_type": "execute_result"
    }
   ],
   "source": [
    "# See the frequencies\n",
    "frequencies = get_mel_frequencies(13)\n",
    "print(frequencies.shape)\n",
    "frequencies"
   ]
  },
  {
   "cell_type": "markdown",
   "metadata": {},
   "source": [
    "### MEL Spectogram\n",
    "___"
   ]
  },
  {
   "cell_type": "code",
   "execution_count": null,
   "metadata": {},
   "outputs": [],
   "source": [
    "# Doing calculation step wise for clarity\n",
    "# Returns for every Audio Sequence a matrix of (mfcc x frames) which will contain power per mel-bin"
   ]
  }
 ],
 "metadata": {
  "kernelspec": {
   "display_name": "mir",
   "language": "python",
   "name": "mir"
  },
  "language_info": {
   "codemirror_mode": {
    "name": "ipython",
    "version": 3
   },
   "file_extension": ".py",
   "mimetype": "text/x-python",
   "name": "python",
   "nbconvert_exporter": "python",
   "pygments_lexer": "ipython3",
   "version": "3.8.2"
  }
 },
 "nbformat": 4,
 "nbformat_minor": 4
}
