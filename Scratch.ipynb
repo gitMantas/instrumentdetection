{
 "cells": [
  {
   "cell_type": "code",
   "execution_count": 1,
   "metadata": {},
   "outputs": [
    {
     "name": "stdout",
     "output_type": "stream",
     "text": [
      "Collecting librosa\n",
      "  Downloading librosa-0.7.2.tar.gz (1.6 MB)\n",
      "\u001b[K     |████████████████████████████████| 1.6 MB 881 kB/s eta 0:00:01\n",
      "\u001b[?25hCollecting audioread>=2.0.0\n",
      "  Downloading audioread-2.1.8.tar.gz (21 kB)\n",
      "Requirement already satisfied: numpy>=1.15.0 in /usr/local/anaconda3/envs/dl/lib/python3.7/site-packages (from librosa) (1.18.1)\n",
      "Requirement already satisfied: scipy>=1.0.0 in /usr/local/anaconda3/envs/dl/lib/python3.7/site-packages (from librosa) (1.4.1)\n",
      "Requirement already satisfied: scikit-learn!=0.19.0,>=0.14.0 in /usr/local/anaconda3/envs/dl/lib/python3.7/site-packages (from librosa) (0.22.1)\n",
      "Requirement already satisfied: joblib>=0.12 in /usr/local/anaconda3/envs/dl/lib/python3.7/site-packages (from librosa) (0.14.1)\n",
      "Requirement already satisfied: decorator>=3.0.0 in /usr/local/anaconda3/envs/dl/lib/python3.7/site-packages (from librosa) (4.4.1)\n",
      "Requirement already satisfied: six>=1.3 in /usr/local/anaconda3/envs/dl/lib/python3.7/site-packages (from librosa) (1.14.0)\n",
      "Collecting resampy>=0.2.2\n",
      "  Downloading resampy-0.2.2.tar.gz (323 kB)\n",
      "\u001b[K     |████████████████████████████████| 323 kB 12.0 MB/s eta 0:00:01\n",
      "\u001b[?25hCollecting numba>=0.43.0\n",
      "  Downloading numba-0.48.0-cp37-cp37m-macosx_10_9_x86_64.whl (2.0 MB)\n",
      "\u001b[K     |████████████████████████████████| 2.0 MB 11.5 MB/s eta 0:00:01\n",
      "\u001b[?25hCollecting soundfile>=0.9.0\n",
      "  Downloading SoundFile-0.10.3.post1-py2.py3.cp26.cp27.cp32.cp33.cp34.cp35.cp36.pp27.pp32.pp33-none-macosx_10_5_x86_64.macosx_10_6_intel.macosx_10_9_intel.macosx_10_9_x86_64.whl (613 kB)\n",
      "\u001b[K     |████████████████████████████████| 613 kB 15.4 MB/s eta 0:00:01\n",
      "\u001b[?25hRequirement already satisfied: setuptools in /usr/local/anaconda3/envs/dl/lib/python3.7/site-packages (from numba>=0.43.0->librosa) (45.2.0.post20200210)\n",
      "Collecting llvmlite<0.32.0,>=0.31.0dev0\n",
      "  Downloading llvmlite-0.31.0-cp37-cp37m-macosx_10_9_x86_64.whl (15.9 MB)\n",
      "\u001b[K     |████████████████████████████████| 15.9 MB 4.3 MB/s eta 0:00:01\n",
      "\u001b[?25hCollecting cffi>=1.0\n",
      "  Downloading cffi-1.14.0-cp37-cp37m-macosx_10_9_x86_64.whl (174 kB)\n",
      "\u001b[K     |████████████████████████████████| 174 kB 11.2 MB/s eta 0:00:01\n",
      "\u001b[?25hCollecting pycparser\n",
      "  Downloading pycparser-2.19.tar.gz (158 kB)\n",
      "\u001b[K     |████████████████████████████████| 158 kB 12.1 MB/s eta 0:00:01\n",
      "\u001b[?25hBuilding wheels for collected packages: librosa, audioread, resampy, pycparser\n",
      "  Building wheel for librosa (setup.py) ... \u001b[?25ldone\n",
      "\u001b[?25h  Created wheel for librosa: filename=librosa-0.7.2-py3-none-any.whl size=1612883 sha256=3d0a9b13cd0831d462aab987e78065dd87f3fcbcc3bcd688fe6b4db86acf30fb\n",
      "  Stored in directory: /Users/choice/Library/Caches/pip/wheels/18/9e/42/3224f85730f92fa2925f0b4fb6ef7f9c5431a64dfc77b95b39\n",
      "  Building wheel for audioread (setup.py) ... \u001b[?25ldone\n",
      "\u001b[?25h  Created wheel for audioread: filename=audioread-2.1.8-py3-none-any.whl size=23091 sha256=c3bee928891dafc5c35d776da8497076ab0a857b5309dc5e366fe8ca159ad09b\n",
      "  Stored in directory: /Users/choice/Library/Caches/pip/wheels/cd/85/04/704a589ef8773d1ec1393c4b271a023f929d85ef5317b12d8c\n",
      "  Building wheel for resampy (setup.py) ... \u001b[?25ldone\n",
      "\u001b[?25h  Created wheel for resampy: filename=resampy-0.2.2-py3-none-any.whl size=320720 sha256=ae0433a2e3e7082c6ca31e57ece36f720a9a01e53ee23564dd20b4182db3cf48\n",
      "  Stored in directory: /Users/choice/Library/Caches/pip/wheels/a0/18/0a/8ad18a597d8333a142c9789338a96a6208f1198d290ece356c\n",
      "  Building wheel for pycparser (setup.py) ... \u001b[?25ldone\n",
      "\u001b[?25h  Created wheel for pycparser: filename=pycparser-2.19-py2.py3-none-any.whl size=111031 sha256=6a3856e45bd435b0774535f5541b8e808d1ecce9033a44e4e6525fcba7d8480a\n",
      "  Stored in directory: /Users/choice/Library/Caches/pip/wheels/0e/53/27/fee7fd9562e10dd046caccfc0340b8cf789b46846e660f3380\n",
      "Successfully built librosa audioread resampy pycparser\n",
      "Installing collected packages: audioread, llvmlite, numba, resampy, pycparser, cffi, soundfile, librosa\n",
      "Successfully installed audioread-2.1.8 cffi-1.14.0 librosa-0.7.2 llvmlite-0.31.0 numba-0.48.0 pycparser-2.19 resampy-0.2.2 soundfile-0.10.3.post1\n"
     ]
    }
   ],
   "source": [
    "!pip install librosa\n",
    "#!pip install pyaudio"
   ]
  },
  {
   "cell_type": "code",
   "execution_count": 3,
   "metadata": {},
   "outputs": [],
   "source": [
    "import librosa"
   ]
  },
  {
   "cell_type": "code",
   "execution_count": 4,
   "metadata": {},
   "outputs": [],
   "source": [
    "sampledir = 'SamplesOfSamples'"
   ]
  },
  {
   "cell_type": "code",
   "execution_count": 11,
   "metadata": {},
   "outputs": [],
   "source": [
    "x, sr = librosa.load(\"SamplesOfSamples/Bass Guitar Note F.aif\", sr=None)"
   ]
  },
  {
   "cell_type": "code",
   "execution_count": 12,
   "metadata": {},
   "outputs": [
    {
     "data": {
      "text/plain": [
       "array([3.0517578e-05, 9.1552734e-05, 3.0517578e-05, ..., 9.1552734e-05,\n",
       "       6.1035156e-05, 6.1035156e-05], dtype=float32)"
      ]
     },
     "execution_count": 12,
     "metadata": {},
     "output_type": "execute_result"
    }
   ],
   "source": [
    "x"
   ]
  },
  {
   "cell_type": "code",
   "execution_count": 13,
   "metadata": {},
   "outputs": [
    {
     "data": {
      "text/plain": [
       "44100"
      ]
     },
     "execution_count": 13,
     "metadata": {},
     "output_type": "execute_result"
    }
   ],
   "source": [
    "sr"
   ]
  },
  {
   "cell_type": "code",
   "execution_count": null,
   "metadata": {},
   "outputs": [],
   "source": []
  }
 ],
 "metadata": {
  "kernelspec": {
   "display_name": "dsr-dl",
   "language": "python",
   "name": "dl"
  },
  "language_info": {
   "codemirror_mode": {
    "name": "ipython",
    "version": 3
   },
   "file_extension": ".py",
   "mimetype": "text/x-python",
   "name": "python",
   "nbconvert_exporter": "python",
   "pygments_lexer": "ipython3",
   "version": "3.7.6"
  }
 },
 "nbformat": 4,
 "nbformat_minor": 4
}
