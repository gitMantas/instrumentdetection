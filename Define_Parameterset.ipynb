{
 "cells": [
  {
   "cell_type": "code",
   "execution_count": 7,
   "metadata": {},
   "outputs": [],
   "source": [
    "import numpy as np\n",
    "import pandas as pd\n",
    "import os\n",
    "import librosa\n",
    "import soundfile as sf\n",
    "import json\n",
    "import math\n",
    "import pickle\n",
    "from pathlib import Path\n",
    "from feature_generator import create_features"
   ]
  },
  {
   "cell_type": "code",
   "execution_count": 8,
   "metadata": {},
   "outputs": [],
   "source": [
    "# Runtime environment variables\n",
    "\n",
    "local_Dump = False\n",
    "\n",
    "modelstore = Path.cwd() / 'models'\n",
    "if not os.path.exists(modelstore):\n",
    "    os.makedirs(modelstore)  "
   ]
  },
  {
   "cell_type": "code",
   "execution_count": 9,
   "metadata": {},
   "outputs": [
    {
     "name": "stdout",
     "output_type": "stream",
     "text": [
      "No such Model Definition: MEL_Linear_1\n"
     ]
    },
    {
     "data": {
      "text/plain": [
       "{}"
      ]
     },
     "execution_count": 9,
     "metadata": {},
     "output_type": "execute_result"
    }
   ],
   "source": [
    "# Run this cell if you want to read a model only that exist already\n",
    "\n",
    "\n",
    "Model_Name = 'MEL_Linear_1'\n",
    "\n",
    "param_file = Model_Name\n",
    "\n",
    "Feature_Params = {}\n",
    "\n",
    "if Path(modelstore / param_file).is_file():\n",
    "\n",
    "    with open(modelstore / param_file, 'r') as file:\n",
    "        Feature_Params = json.load(file)\n",
    "    \n",
    "else:\n",
    "    print('No such Model Definition:', Model_Name )\n",
    "\n",
    "Feature_Params"
   ]
  },
  {
   "cell_type": "code",
   "execution_count": 10,
   "metadata": {},
   "outputs": [
    {
     "name": "stdout",
     "output_type": "stream",
     "text": [
      "Creating new Model File\n"
     ]
    }
   ],
   "source": [
    "# Define Parameter Dictionary for Feature Extraction for a new Model, run only for a new model\n",
    "\n",
    "New_Model_Name = 'MEL_Linear_1'\n",
    "\n",
    "param_file = New_Model_Name\n",
    "\n",
    "\n",
    "if Path(modelstore / param_file).is_file():\n",
    "    print (\"Modelname is used already!\")\n",
    "    \n",
    "else:\n",
    "    print (\"Creating new Model File\")\n",
    "\n",
    " \n",
    "\n",
    "    Feature_Params = {}\n",
    "\n",
    "    # Input DIM for fft = fft_window/2 +1, 3 * sampling_rate / hop_length\n",
    "\n",
    "\n",
    "\n",
    "    Feature_Params['Description'] = 'Only FFT transformation with 2 channels for real and imaginary part, linear absolute values between 0 and 1'\n",
    "    Feature_Params['Data'] = '/home/mirko/Downloads/IRMAS_Raw.pkl'\n",
    "    Feature_Params['Transformation'] = 'MEL_linear'\n",
    "    Feature_Params['sampling_rate'] = 44100\n",
    "    Feature_Params['hop_length'] = 1024\n",
    "    Feature_Params['fft_window'] = 1024\n",
    "    Feature_Params['no_mel_bin'] = 13\n",
    "    Feature_Params['loudness_normalization'] = 'linear'\n",
    "    Feature_Params['fmin'] = 0.0\n",
    "    Feature_Params['fmax'] = 11025.0\n",
    "    Feature_Params['length_s'] = 3\n",
    "\n",
    "    # Frequencies = math.ceil(Feature_Params['fft_window'] / 2 +1)\n",
    "    Frequencies = Feature_Params['no_mel_bin']\n",
    "    Frames = math.ceil(Feature_Params['length_s'] * Feature_Params['sampling_rate'] / Feature_Params['hop_length'])\n",
    "    channels = 1\n",
    "    Feature_Params['Input_Dim'] = [Frequencies, Frames, channels]\n",
    "\n",
    "    with open(modelstore / param_file, 'w') as file:\n",
    "        json.dump(Feature_Params, file)"
   ]
  },
  {
   "cell_type": "code",
   "execution_count": 11,
   "metadata": {},
   "outputs": [],
   "source": [
    "path = '/home/mirko/Downloads/IRMAS_Raw.pkl'\n",
    "data = pd.read_pickle(path)"
   ]
  },
  {
   "cell_type": "code",
   "execution_count": 12,
   "metadata": {},
   "outputs": [
    {
     "name": "stdout",
     "output_type": "stream",
     "text": [
      "Only FFT transformation with 2 channels for real and imaginary part, linear absolute values between 0 and 1\n",
      "Hop_length:  1024\n",
      "Sampling Rate: 44100\n",
      "Fast Fourier Window: 1024\n",
      "Number of MEL Bins: 13\n",
      "Shape of Feature:  [13, 130, 1]\n",
      "Minimum Frequency:  0.0\n",
      "Maximum Frequency:  11025.0\n"
     ]
    }
   ],
   "source": [
    "feature, label = create_features(data, param_file = 'MEL_Linear_1')"
   ]
  },
  {
   "cell_type": "code",
   "execution_count": 13,
   "metadata": {},
   "outputs": [
    {
     "name": "stdout",
     "output_type": "stream",
     "text": [
      "(6705, 13, 130, 1)\n",
      "(6705,)\n"
     ]
    }
   ],
   "source": [
    "print(feature.shape)\n",
    "print(label.shape)"
   ]
  },
  {
   "cell_type": "code",
   "execution_count": null,
   "metadata": {},
   "outputs": [],
   "source": [
    "if local_Dump:\n",
    "\n",
    "    f_name = Model_Name + '_features.npy' \n",
    "    l_name = Model_Name + '_labels.npy' \n",
    "    np.save(modelstore / f_name, features)\n",
    "    np.save(modelstore / l_name, labels)"
   ]
  }
 ],
 "metadata": {
  "kernelspec": {
   "display_name": "mir",
   "language": "python",
   "name": "mir"
  },
  "language_info": {
   "codemirror_mode": {
    "name": "ipython",
    "version": 3
   },
   "file_extension": ".py",
   "mimetype": "text/x-python",
   "name": "python",
   "nbconvert_exporter": "python",
   "pygments_lexer": "ipython3",
   "version": "3.8.2"
  }
 },
 "nbformat": 4,
 "nbformat_minor": 4
}
