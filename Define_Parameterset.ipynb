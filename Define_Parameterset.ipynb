{
 "cells": [
  {
   "cell_type": "code",
   "execution_count": 2,
   "metadata": {},
   "outputs": [],
   "source": [
    "import numpy as np\n",
    "import pandas as pd\n",
    "import os\n",
    "import librosa\n",
    "import soundfile as sf\n",
    "import json\n",
    "import math\n",
    "import pickle\n",
    "from pathlib import Path\n",
    "from feature_generator import create_features"
   ]
  },
  {
   "cell_type": "code",
   "execution_count": 3,
   "metadata": {},
   "outputs": [],
   "source": [
    "# Runtime environment variables\n",
    "\n",
    "local_Dump = False\n",
    "overwrite = True\n",
    "\n",
    "data_path =Path('/home/mirko/Downloads/IRMAS_Raw.pkl')\n",
    "\n",
    "modelstore = Path.cwd() / 'models'\n",
    "if not os.path.exists(modelstore):\n",
    "    os.makedirs(modelstore) \n",
    "\n",
    "def check_writing(modelname):    \n",
    "    if Path(modelstore / modelname).is_file():\n",
    "        print (\"Modelname is used already!\")\n",
    "        write_out = False\n",
    "        if overwrite:\n",
    "            print('Overwriting File')\n",
    "            write_out = True\n",
    "    else:\n",
    "        print (\"Creating new Model File\")\n",
    "        write_out = True\n",
    "\n",
    "    return write_out\n",
    "        "
   ]
  },
  {
   "cell_type": "markdown",
   "metadata": {},
   "source": [
    "# This cell is only for reading of a Parameter Set\n",
    "---"
   ]
  },
  {
   "cell_type": "code",
   "execution_count": 37,
   "metadata": {},
   "outputs": [
    {
     "data": {
      "text/plain": [
       "{'Description': 'Returning only the unmodified time samples, according sampling rate',\n",
       " 'Data': '/home/mirko/Downloads/IRMAS_Raw.pkl',\n",
       " 'Transformation': 'Time',\n",
       " 'sampling_rate': 22050,\n",
       " 'hop_length': 1024,\n",
       " 'fft_window': 1024,\n",
       " 'no_mel_bin': 13,\n",
       " 'loudness_normalization': 'linear',\n",
       " 'fmin': 0.0,\n",
       " 'fmax': 11025.0,\n",
       " 'length_s': 3,\n",
       " 'Input_Dim': [66149, 1]}"
      ]
     },
     "execution_count": 37,
     "metadata": {},
     "output_type": "execute_result"
    }
   ],
   "source": [
    "# Run this cell if you want to read a model only that exist already\n",
    "\n",
    "\n",
    "Model_Name = 'Time_22050_1.txt'\n",
    "\n",
    "if Path(modelstore / param_file).is_file():\n",
    "\n",
    "    with open(modelstore / Model_Name, 'r') as file:\n",
    "        Feature_Params = json.load(file)\n",
    "    \n",
    "else:\n",
    "    print('No such Model Definition:', Model_Name )\n",
    "\n",
    "Feature_Params"
   ]
  },
  {
   "cell_type": "markdown",
   "metadata": {},
   "source": [
    "# MEL Spectograms\n",
    "___"
   ]
  },
  {
   "cell_type": "code",
   "execution_count": 22,
   "metadata": {},
   "outputs": [
    {
     "name": "stdout",
     "output_type": "stream",
     "text": [
      "Creating new Model File\n"
     ]
    },
    {
     "data": {
      "text/plain": [
       "{'Description': 'Create MEL Bins with linear loudness values',\n",
       " 'Data': '/home/mirko/Downloads/IRMAS_Raw.pkl',\n",
       " 'Transformation': 'MEL_linear',\n",
       " 'sampling_rate': 44100,\n",
       " 'hop_length': 1024,\n",
       " 'fft_window': 1024,\n",
       " 'no_mel_bin': 13,\n",
       " 'loudness_normalization': 'linear',\n",
       " 'fmin': 0.0,\n",
       " 'fmax': 11025.0,\n",
       " 'length_s': 3,\n",
       " 'Input_Dim': [13, 130, 1]}"
      ]
     },
     "execution_count": 22,
     "metadata": {},
     "output_type": "execute_result"
    }
   ],
   "source": [
    "# Defintion of MEL_Linear Parameter Sets\n",
    "\n",
    "New_Model_Name = 'MEL_Lineddr_1.txt'\n",
    "\n",
    "if check_writing(New_Model_Name): \n",
    "\n",
    "    Feature_Params = {}\n",
    "\n",
    "    Feature_Params['Description'] = 'Create MEL Bins with linear loudness values'\n",
    "    Feature_Params['Transformation'] = 'MEL_linear'\n",
    "    Feature_Params['sampling_rate'] = 44100\n",
    "    Feature_Params['hop_length'] = 1024\n",
    "    Feature_Params['fft_window'] = 1024\n",
    "    Feature_Params['no_mel_bin'] = 13\n",
    "    Feature_Params['loudness_normalization'] = 'linear'\n",
    "    Feature_Params['fmin'] = 0.0\n",
    "    Feature_Params['fmax'] = 11025.0\n",
    "    Feature_Params['length_s'] = 3\n",
    "\n",
    "    Frequencies = Feature_Params['no_mel_bin']\n",
    "    Frames = math.ceil(Feature_Params['length_s'] * Feature_Params['sampling_rate'] / Feature_Params['hop_length'])\n",
    "    channels = 1\n",
    "    Feature_Params['Input_Dim'] = [Frequencies, Frames, channels]\n",
    "\n",
    "    with open(modelstore / New_Model_Name, 'w') as file:\n",
    "        json.dump(Feature_Params, file)\n",
    "        \n",
    "Feature_Params       "
   ]
  },
  {
   "cell_type": "markdown",
   "metadata": {},
   "source": [
    "# Complex Fast Fourier Transformations\n",
    "___"
   ]
  },
  {
   "cell_type": "code",
   "execution_count": 30,
   "metadata": {},
   "outputs": [
    {
     "name": "stdout",
     "output_type": "stream",
     "text": [
      "Modelname is used already!\n",
      "Overwriting File\n"
     ]
    },
    {
     "data": {
      "text/plain": [
       "{'Description': 'Real and imaginary part of FFT in 2 channels, use Leaky_Relu, values between -1 and 1!',\n",
       " 'Transformation': 'FFT_Complex',\n",
       " 'sampling_rate': 44100,\n",
       " 'hop_length': 1024,\n",
       " 'fft_window': 1024,\n",
       " 'no_mel_bin': '',\n",
       " 'loudness_normalization': 'linear',\n",
       " 'fmin': '',\n",
       " 'fmax': '',\n",
       " 'length_s': 3,\n",
       " 'Input_Dim': [513, 130, 2]}"
      ]
     },
     "execution_count": 30,
     "metadata": {},
     "output_type": "execute_result"
    }
   ],
   "source": [
    "# Defintion of FFT_Complex Parameter Sets\n",
    "\n",
    "New_Model_Name = 'FFT_Complex_1.txt'\n",
    "\n",
    "if check_writing(New_Model_Name):\n",
    "\n",
    "    Feature_Params = {}\n",
    "    \n",
    "    Feature_Params['Description'] = 'Real and imaginary part of FFT in 2 channels, use Leaky_Relu, values between -1 and 1!'\n",
    "    Feature_Params['Transformation'] = 'FFT_Complex'\n",
    "    Feature_Params['sampling_rate'] = 44100\n",
    "    Feature_Params['hop_length'] = 1024\n",
    "    Feature_Params['fft_window'] = 1024\n",
    "    Feature_Params['no_mel_bin'] = ''\n",
    "    Feature_Params['loudness_normalization'] = 'linear'\n",
    "    Feature_Params['fmin'] = ''\n",
    "    Feature_Params['fmax'] = ''\n",
    "    Feature_Params['length_s'] = 3\n",
    "\n",
    "    Frequencies = math.ceil(Feature_Params['fft_window'] / 2 +1)\n",
    "    \n",
    "    Frames = math.ceil(Feature_Params['length_s'] * Feature_Params['sampling_rate'] / Feature_Params['hop_length'])\n",
    "    channels = 2\n",
    "    Feature_Params['Input_Dim'] = [Frequencies, Frames, channels]\n",
    "\n",
    "    with open(modelstore / New_Model_Name, 'w') as file:\n",
    "        json.dump(Feature_Params, file)\n",
    "        \n",
    "Feature_Params       "
   ]
  },
  {
   "cell_type": "markdown",
   "metadata": {},
   "source": [
    "# Absolute Fast Fourier Transformations\n",
    "___"
   ]
  },
  {
   "cell_type": "code",
   "execution_count": 35,
   "metadata": {},
   "outputs": [
    {
     "name": "stdout",
     "output_type": "stream",
     "text": [
      "Modelname is used already!\n",
      "Overwriting File\n"
     ]
    }
   ],
   "source": [
    "# Defintion of FFT_Absolute Value Parameter sets\n",
    "\n",
    "New_Model_Name = 'FFT_Absolute_1.txt'\n",
    "\n",
    "if check_writing(New_Model_Name):\n",
    "\n",
    "    Feature_Params = {}\n",
    "    \n",
    "    Feature_Params['Description'] = 'Calculating the absolute Value only of the FFT, normalized between 0 and 1'\n",
    "    Feature_Params['Transformation'] = 'FFT_Absolut'\n",
    "    Feature_Params['sampling_rate'] = 44100\n",
    "    Feature_Params['hop_length'] = 1024\n",
    "    Feature_Params['fft_window'] = 1024\n",
    "    Feature_Params['no_mel_bin'] = ''\n",
    "    Feature_Params['loudness_normalization'] = 'linear'\n",
    "    Feature_Params['fmin'] = ''\n",
    "    Feature_Params['fmax'] = ''\n",
    "    Feature_Params['length_s'] = 3\n",
    "\n",
    "    Frequencies = math.ceil(Feature_Params['fft_window'] / 2 +1)\n",
    "    \n",
    "    Frames = math.ceil(Feature_Params['length_s'] * Feature_Params['sampling_rate'] / Feature_Params['hop_length'])\n",
    "    channels = 1\n",
    "    Feature_Params['Input_Dim'] = [Frequencies, Frames, channels]\n",
    "\n",
    "    with open(modelstore / New_Model_Name, 'w') as file:\n",
    "        json.dump(Feature_Params, file)\n",
    "        \n",
    "Feature_Params           "
   ]
  },
  {
   "cell_type": "markdown",
   "metadata": {},
   "source": [
    "# Pure resampled or not resampled time domain series\n",
    "---"
   ]
  },
  {
   "cell_type": "code",
   "execution_count": 42,
   "metadata": {},
   "outputs": [
    {
     "name": "stdout",
     "output_type": "stream",
     "text": [
      "Modelname is used already!\n",
      "Overwriting File\n"
     ]
    },
    {
     "data": {
      "text/plain": [
       "{'Description': 'Returning only the unmodified time samples, according sampling rate',\n",
       " 'Transformation': 'Time',\n",
       " 'sampling_rate': 22050,\n",
       " 'hop_length': 1024,\n",
       " 'fft_window': 1024,\n",
       " 'no_mel_bin': '',\n",
       " 'loudness_normalization': 'linear',\n",
       " 'fmin': '',\n",
       " 'fmax': '',\n",
       " 'length_s': 3,\n",
       " 'Input_Dim': [66149, 1]}"
      ]
     },
     "execution_count": 42,
     "metadata": {},
     "output_type": "execute_result"
    }
   ],
   "source": [
    "# Defintion of resampled Time Series\n",
    "\n",
    "New_Model_Name = 'Time_22050_1.txt'\n",
    "\n",
    "if check_writing(New_Model_Name):\n",
    "\n",
    "    Feature_Params = {}\n",
    "    \n",
    "    Feature_Params['Description'] = 'Returning only the unmodified time samples, according sampling rate'\n",
    "    Feature_Params['Transformation'] = 'Time'\n",
    "    Feature_Params['sampling_rate'] = 22050\n",
    "    Feature_Params['hop_length'] = 1024\n",
    "    Feature_Params['fft_window'] = 1024\n",
    "    Feature_Params['no_mel_bin'] = ''\n",
    "    Feature_Params['loudness_normalization'] = 'linear'\n",
    "    Feature_Params['fmin'] = ''\n",
    "    Feature_Params['fmax'] = ''\n",
    "    Feature_Params['length_s'] = 3\n",
    "\n",
    "    Frames = Feature_Params['length_s'] * Feature_Params['sampling_rate'] - 1\n",
    "    channels = 1\n",
    "    Feature_Params['Input_Dim'] = [Frames, channels]\n",
    "\n",
    "    with open(modelstore / New_Model_Name, 'w') as file:\n",
    "        json.dump(Feature_Params, file)\n",
    "        \n",
    "Feature_Params           "
   ]
  },
  {
   "cell_type": "markdown",
   "metadata": {},
   "source": [
    "# Mel Frequency Cepstral Coefficients\n",
    "---"
   ]
  },
  {
   "cell_type": "code",
   "execution_count": 6,
   "metadata": {},
   "outputs": [
    {
     "name": "stdout",
     "output_type": "stream",
     "text": [
      "Modelname is used already!\n",
      "Overwriting File\n"
     ]
    },
    {
     "data": {
      "text/plain": [
       "{'Description': 'Feature containing the Mel Frequency Cepstral Coefficients',\n",
       " 'Transformation': 'MFCC',\n",
       " 'sampling_rate': 44100,\n",
       " 'hop_length': 1024,\n",
       " 'fft_window': 1024,\n",
       " 'no_mel_bin': 128,\n",
       " 'no_mfcc': 40,\n",
       " 'dct_type': 2,\n",
       " 'loudness_normalization': '',\n",
       " 'fmin': 0.0,\n",
       " 'fmax': 11025.0,\n",
       " 'length_s': 3,\n",
       " 'Input_Dim': [40, 130, 1]}"
      ]
     },
     "execution_count": 6,
     "metadata": {},
     "output_type": "execute_result"
    }
   ],
   "source": [
    "# Defintion of resampled Time Series\n",
    "\n",
    "New_Model_Name = 'MFCC_1.txt'\n",
    "\n",
    "if check_writing(New_Model_Name):\n",
    "\n",
    "    Feature_Params = {}\n",
    "    \n",
    "    Feature_Params['Description'] = 'Feature containing the Mel Frequency Cepstral Coefficients'\n",
    "    Feature_Params['Transformation'] = 'MFCC'\n",
    "    Feature_Params['sampling_rate'] = 44100\n",
    "    Feature_Params['hop_length'] = 1024\n",
    "    Feature_Params['fft_window'] = 1024\n",
    "    Feature_Params['no_mel_bin'] = 128\n",
    "    Feature_Params['no_mfcc'] = 40\n",
    "    Feature_Params['dct_type'] = 2\n",
    "    Feature_Params['loudness_normalization'] = ''\n",
    "    Feature_Params['fmin'] = 0.0\n",
    "    Feature_Params['fmax'] = 11025.0\n",
    "    Feature_Params['length_s'] = 3\n",
    "\n",
    "    Frequencies = Feature_Params['no_mfcc']\n",
    "    Frames = math.ceil(Feature_Params['length_s'] * Feature_Params['sampling_rate'] / Feature_Params['hop_length'])\n",
    "    channels = 1\n",
    "    Feature_Params['Input_Dim'] = [Frequencies, Frames, channels]\n",
    "    with open(modelstore / New_Model_Name, 'w') as file:\n",
    "        json.dump(Feature_Params, file)\n",
    "        \n",
    "Feature_Params           "
   ]
  },
  {
   "cell_type": "code",
   "execution_count": 7,
   "metadata": {},
   "outputs": [],
   "source": [
    "data = pd.read_pickle(data_path)"
   ]
  },
  {
   "cell_type": "code",
   "execution_count": 8,
   "metadata": {},
   "outputs": [
    {
     "name": "stdout",
     "output_type": "stream",
     "text": [
      "Feature containing the Mel Frequency Cepstral Coefficients\n",
      "Hop_length:  1024\n",
      "Sampling Rate: 44100\n",
      "Fast Fourier Window: 1024\n",
      "Number of MEL Bins: 128\n",
      "Number of Cepstral Coefficients:  40\n",
      "Typer of discrete cosinus transform:  2\n",
      "Shape of Feature:  [40, 130, 1]\n",
      "Minimum Frequency:  0.0\n",
      "Maximum Frequency:  11025.0\n"
     ]
    }
   ],
   "source": [
    "feature, label = create_features(data, param_file = 'MFCC_1.txt')"
   ]
  },
  {
   "cell_type": "code",
   "execution_count": 9,
   "metadata": {},
   "outputs": [
    {
     "name": "stdout",
     "output_type": "stream",
     "text": [
      "(6705, 40, 130, 1)\n",
      "(6705,)\n"
     ]
    }
   ],
   "source": [
    "print(feature.shape)\n",
    "print(label.shape)"
   ]
  },
  {
   "cell_type": "code",
   "execution_count": 12,
   "metadata": {},
   "outputs": [
    {
     "data": {
      "text/plain": [
       "array([[[0.52570164],\n",
       "        [0.5559505 ],\n",
       "        [0.55496395],\n",
       "        ...,\n",
       "        [0.45238218],\n",
       "        [0.4229701 ],\n",
       "        [0.47480527]],\n",
       "\n",
       "       [[0.8203895 ],\n",
       "        [0.8393347 ],\n",
       "        [0.8361132 ],\n",
       "        ...,\n",
       "        [0.8452826 ],\n",
       "        [0.8727619 ],\n",
       "        [0.8785456 ]],\n",
       "\n",
       "       [[0.6976082 ],\n",
       "        [0.7394217 ],\n",
       "        [0.74330336],\n",
       "        ...,\n",
       "        [0.7251199 ],\n",
       "        [0.7282015 ],\n",
       "        [0.7068402 ]],\n",
       "\n",
       "       ...,\n",
       "\n",
       "       [[0.7298024 ],\n",
       "        [0.73496306],\n",
       "        [0.7399664 ],\n",
       "        ...,\n",
       "        [0.70992345],\n",
       "        [0.7326841 ],\n",
       "        [0.72941643]],\n",
       "\n",
       "       [[0.7215182 ],\n",
       "        [0.7248754 ],\n",
       "        [0.72925353],\n",
       "        ...,\n",
       "        [0.7125723 ],\n",
       "        [0.7174738 ],\n",
       "        [0.7271651 ]],\n",
       "\n",
       "       [[0.729835  ],\n",
       "        [0.7326011 ],\n",
       "        [0.7264479 ],\n",
       "        ...,\n",
       "        [0.7280678 ],\n",
       "        [0.72397894],\n",
       "        [0.7402925 ]]], dtype=float32)"
      ]
     },
     "execution_count": 12,
     "metadata": {},
     "output_type": "execute_result"
    }
   ],
   "source": [
    "feature[1]"
   ]
  },
  {
   "cell_type": "code",
   "execution_count": null,
   "metadata": {},
   "outputs": [],
   "source": [
    "if local_Dump:\n",
    "\n",
    "    f_name = Model_Name + '_features.npy' \n",
    "    l_name = Model_Name + '_labels.npy' \n",
    "    np.save(modelstore / f_name, features)\n",
    "    np.save(modelstore / l_name, labels)"
   ]
  }
 ],
 "metadata": {
  "kernelspec": {
   "display_name": "mir",
   "language": "python",
   "name": "mir"
  },
  "language_info": {
   "codemirror_mode": {
    "name": "ipython",
    "version": 3
   },
   "file_extension": ".py",
   "mimetype": "text/x-python",
   "name": "python",
   "nbconvert_exporter": "python",
   "pygments_lexer": "ipython3",
   "version": "3.8.2"
  }
 },
 "nbformat": 4,
 "nbformat_minor": 4
}
