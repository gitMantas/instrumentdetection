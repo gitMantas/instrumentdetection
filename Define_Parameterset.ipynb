{
 "cells": [
  {
   "cell_type": "code",
   "execution_count": 1,
   "metadata": {},
   "outputs": [],
   "source": [
    "import sys\n",
    "sys.path.append('../')\n",
    "\n",
    "import numpy as np\n",
    "import pandas as pd\n",
    "import os\n",
    "import librosa\n",
    "import soundfile as sf\n",
    "import json\n",
    "import math\n",
    "import pickle\n",
    "from pathlib import Path\n",
    "from feature_generator import create_features"
   ]
  },
  {
   "cell_type": "code",
   "execution_count": 2,
   "metadata": {},
   "outputs": [],
   "source": [
    "# Runtime environment variables\n",
    "\n",
    "local_Dump = False\n",
    "overwrite = True\n",
    "\n",
    "data_path =Path('/home/mirko/Downloads/IRMAS_Raw.pkl')\n",
    "\n",
    "\n",
    "feature_store = Path.cwd() / 'features'\n",
    "if not os.path.exists(feature_store):\n",
    "    os.makedirs(feature_store)     \n",
    "\n",
    "def check_writing(modelname):    \n",
    "    if Path(feature_store / modelname).is_file():\n",
    "        print (\"Modelname is used already!\")\n",
    "        write_out = False\n",
    "        if overwrite:\n",
    "            print('Overwriting File')\n",
    "            write_out = True\n",
    "    else:\n",
    "        print (\"Creating new Model File\")\n",
    "        write_out = True\n",
    "\n",
    "    return write_out\n",
    "        "
   ]
  },
  {
   "cell_type": "markdown",
   "metadata": {},
   "source": [
    "# This cell is only for reading of a Parameter Set\n",
    "---"
   ]
  },
  {
   "cell_type": "code",
   "execution_count": 37,
   "metadata": {},
   "outputs": [
    {
     "data": {
      "text/plain": [
       "{'Description': 'Returning only the unmodified time samples, according sampling rate',\n",
       " 'Data': '/home/mirko/Downloads/IRMAS_Raw.pkl',\n",
       " 'Transformation': 'Time',\n",
       " 'sampling_rate': 22050,\n",
       " 'hop_length': 1024,\n",
       " 'fft_window': 1024,\n",
       " 'no_mel_bin': 13,\n",
       " 'loudness_normalization': 'linear',\n",
       " 'fmin': 0.0,\n",
       " 'fmax': 11025.0,\n",
       " 'length_s': 3,\n",
       " 'Input_Dim': [66149, 1]}"
      ]
     },
     "execution_count": 37,
     "metadata": {},
     "output_type": "execute_result"
    }
   ],
   "source": [
    "# Run this cell if you want to read a model only that exist already\n",
    "\n",
    "\n",
    "Model_Name = 'Time_22050_1.txt'\n",
    "\n",
    "if Path(feature_store / param_file).is_file():\n",
    "\n",
    "    with open(feature_store / Model_Name, 'r') as file:\n",
    "        Feature_Params = json.load(file)\n",
    "    \n",
    "else:\n",
    "    print('No such Model Definition:', Model_Name )\n",
    "\n",
    "Feature_Params"
   ]
  },
  {
   "cell_type": "markdown",
   "metadata": {},
   "source": [
    "# MEL Power-Spectograms\n",
    "___"
   ]
  },
  {
   "cell_type": "code",
   "execution_count": 3,
   "metadata": {},
   "outputs": [
    {
     "name": "stdout",
     "output_type": "stream",
     "text": [
      "Creating new Model File\n"
     ]
    },
    {
     "data": {
      "text/plain": [
       "{'Description': 'Create MEL Bins with linear loudness values',\n",
       " 'Transformation': 'MEL_linear',\n",
       " 'sampling_rate': 44100,\n",
       " 'hop_length': 1024,\n",
       " 'fft_window': 1024,\n",
       " 'no_mel_bin': 64,\n",
       " 'loudness_normalization': 'linear',\n",
       " 'fmin': 0.0,\n",
       " 'fmax': 11025.0,\n",
       " 'length_s': 3,\n",
       " 'Input_Dim': [64, 130, 1]}"
      ]
     },
     "execution_count": 3,
     "metadata": {},
     "output_type": "execute_result"
    }
   ],
   "source": [
    "# Defintion of MEL_Linear Parameter Sets\n",
    "\n",
    "New_Model_Name = 'MEL_Lin_Lores.txt'\n",
    "\n",
    "if check_writing(New_Model_Name): \n",
    "\n",
    "    Feature_Params = {}\n",
    "\n",
    "    Feature_Params['Description'] = 'Create MEL Bins with linear loudness values'\n",
    "    Feature_Params['Transformation'] = 'MEL_linear'\n",
    "    Feature_Params['sampling_rate'] = 44100\n",
    "    Feature_Params['hop_length'] = 1024\n",
    "    Feature_Params['fft_window'] = 1024\n",
    "    Feature_Params['no_mel_bin'] = 64\n",
    "    Feature_Params['loudness_normalization'] = 'linear'\n",
    "    Feature_Params['fmin'] = 0.0\n",
    "    Feature_Params['fmax'] = 11025.0\n",
    "    Feature_Params['length_s'] = 3\n",
    "\n",
    "    Frequencies = Feature_Params['no_mel_bin']\n",
    "    Frames = math.ceil(Feature_Params['length_s'] * Feature_Params['sampling_rate'] / Feature_Params['hop_length'])\n",
    "    channels = 1\n",
    "    Feature_Params['Input_Dim'] = [Frequencies, Frames, channels]\n",
    "\n",
    "    with open(feature_store / New_Model_Name, 'w') as file:\n",
    "        json.dump(Feature_Params, file)\n",
    "        \n",
    "Feature_Params       "
   ]
  },
  {
   "cell_type": "markdown",
   "metadata": {},
   "source": [
    "# MEL dB-Spectograms\n",
    "___"
   ]
  },
  {
   "cell_type": "code",
   "execution_count": 10,
   "metadata": {},
   "outputs": [
    {
     "name": "stdout",
     "output_type": "stream",
     "text": [
      "Creating new Model File\n"
     ]
    },
    {
     "data": {
      "text/plain": [
       "{'Description': 'Create MEL Bins with dB loudness values',\n",
       " 'Transformation': 'MEL_dB',\n",
       " 'sampling_rate': 44100,\n",
       " 'hop_length': 1024,\n",
       " 'fft_window': 1024,\n",
       " 'no_mel_bin': 128,\n",
       " 'loudness_normalization': 'dB',\n",
       " 'fmin': 0.0,\n",
       " 'fmax': 11025.0,\n",
       " 'length_s': 3,\n",
       " 'content': 'percuss',\n",
       " 'Input_Dim': [128, 130, 1]}"
      ]
     },
     "execution_count": 10,
     "metadata": {},
     "output_type": "execute_result"
    }
   ],
   "source": [
    "# Defintion of MEL_dB calculated Parameter Sets\n",
    "\n",
    "New_Model_Name = 'MEL_dB_Percussion.txt'\n",
    "\n",
    "if check_writing(New_Model_Name): \n",
    "\n",
    "    Feature_Params = {}\n",
    "\n",
    "    Feature_Params['Description'] = 'Create MEL Bins with dB loudness values'\n",
    "    Feature_Params['Transformation'] = 'MEL_dB'\n",
    "    Feature_Params['sampling_rate'] = 44100\n",
    "    Feature_Params['hop_length'] = 1024\n",
    "    Feature_Params['fft_window'] = 1024\n",
    "    Feature_Params['no_mel_bin'] = 128\n",
    "    Feature_Params['loudness_normalization'] = 'dB'\n",
    "    Feature_Params['fmin'] = 0.0\n",
    "    Feature_Params['fmax'] = 11025.0\n",
    "    Feature_Params['length_s'] = 3\n",
    "    Feature_Params['content'] = 'percuss'\n",
    "\n",
    "    Frequencies = Feature_Params['no_mel_bin']\n",
    "    Frames = math.ceil(Feature_Params['length_s'] * Feature_Params['sampling_rate'] / Feature_Params['hop_length'])\n",
    "    channels = 1\n",
    "    Feature_Params['Input_Dim'] = [Frequencies, Frames, channels]\n",
    "\n",
    "    with open(feature_store / New_Model_Name, 'w') as file:\n",
    "        json.dump(Feature_Params, file)\n",
    "        \n",
    "Feature_Params       "
   ]
  },
  {
   "cell_type": "markdown",
   "metadata": {},
   "source": [
    "# MEL dB-Spectograms Decomposed\n",
    "___"
   ]
  },
  {
   "cell_type": "code",
   "execution_count": 7,
   "metadata": {},
   "outputs": [
    {
     "name": "stdout",
     "output_type": "stream",
     "text": [
      "Creating new Model File\n"
     ]
    },
    {
     "data": {
      "text/plain": [
       "{'Description': 'MEL Spectograms for Harmonic and Percussive',\n",
       " 'Transformation': 'MEL_dB_decompose',\n",
       " 'sampling_rate': 44100,\n",
       " 'hop_length': 1024,\n",
       " 'fft_window': 1024,\n",
       " 'no_mel_bin': 128,\n",
       " 'loudness_normalization': 'dB',\n",
       " 'fmin': 0.0,\n",
       " 'fmax': 11025.0,\n",
       " 'length_s': 3,\n",
       " 'content': 'decomposed',\n",
       " 'margin': 3,\n",
       " 'Input_Dim': [128, 130, 2]}"
      ]
     },
     "execution_count": 7,
     "metadata": {},
     "output_type": "execute_result"
    }
   ],
   "source": [
    "# Defintion of MEL_dB calculated Parameter Sets\n",
    "\n",
    "New_Model_Name = 'MEL_dB_decompose_HP.txt'\n",
    "\n",
    "if check_writing(New_Model_Name): \n",
    "\n",
    "    Feature_Params = {}\n",
    "\n",
    "    Feature_Params['Description'] = 'MEL Spectograms for Harmonic and Percussive'\n",
    "    Feature_Params['Transformation'] = 'MEL_dB_decompose'\n",
    "    Feature_Params['sampling_rate'] = 44100\n",
    "    Feature_Params['hop_length'] = 1024\n",
    "    Feature_Params['fft_window'] = 1024\n",
    "    Feature_Params['no_mel_bin'] = 128\n",
    "    Feature_Params['loudness_normalization'] = 'dB'\n",
    "    Feature_Params['fmin'] = 0.0\n",
    "    Feature_Params['fmax'] = 11025.0\n",
    "    Feature_Params['length_s'] = 3\n",
    "    Feature_Params['content'] = 'decomposed'\n",
    "    Feature_Params['margin'] = 3\n",
    "\n",
    "    Frequencies = Feature_Params['no_mel_bin']\n",
    "    Frames = math.ceil(Feature_Params['length_s'] * Feature_Params['sampling_rate'] / Feature_Params['hop_length'])\n",
    "    channels = 2\n",
    "    Feature_Params['Input_Dim'] = [Frequencies, Frames, channels]\n",
    "\n",
    "    with open(feature_store / New_Model_Name, 'w') as file:\n",
    "        json.dump(Feature_Params, file)\n",
    "        \n",
    "Feature_Params       "
   ]
  },
  {
   "cell_type": "markdown",
   "metadata": {},
   "source": [
    "# MEL Complex dB-Spectograms\n",
    "___"
   ]
  },
  {
   "cell_type": "code",
   "execution_count": 7,
   "metadata": {},
   "outputs": [
    {
     "name": "stdout",
     "output_type": "stream",
     "text": [
      "Modelname is used already!\n",
      "Overwriting File\n"
     ]
    },
    {
     "data": {
      "text/plain": [
       "{'Description': 'Create MEL Bins with dB loudness values separate for real and imaginary part',\n",
       " 'Transformation': 'MEL_dB_complex',\n",
       " 'sampling_rate': 44100,\n",
       " 'hop_length': 1024,\n",
       " 'fft_window': 1024,\n",
       " 'no_mel_bin': 128,\n",
       " 'loudness_normalization': 'dB',\n",
       " 'fmin': 0.0,\n",
       " 'fmax': 11025.0,\n",
       " 'length_s': 3,\n",
       " 'Input_Dim': [128, 130, 1]}"
      ]
     },
     "execution_count": 7,
     "metadata": {},
     "output_type": "execute_result"
    }
   ],
   "source": [
    "# Defintion of MEL_dB calculated Parameter Sets\n",
    "\n",
    "New_Model_Name = 'MEL_Complex dB.txt'\n",
    "\n",
    "if check_writing(New_Model_Name): \n",
    "\n",
    "    Feature_Params = {}\n",
    "\n",
    "    Feature_Params['Description'] = 'Create MEL Bins with dB loudness values separate for real and imaginary part'\n",
    "    Feature_Params['Transformation'] = 'MEL_dB_complex'\n",
    "    Feature_Params['sampling_rate'] = 44100\n",
    "    Feature_Params['hop_length'] = 1024\n",
    "    Feature_Params['fft_window'] = 1024\n",
    "    Feature_Params['no_mel_bin'] = 128\n",
    "    Feature_Params['loudness_normalization'] = 'dB'\n",
    "    Feature_Params['fmin'] = 0.0\n",
    "    Feature_Params['fmax'] = 11025.0\n",
    "    Feature_Params['length_s'] = 3\n",
    "\n",
    "    Frequencies = Feature_Params['no_mel_bin']\n",
    "    Frames = math.ceil(Feature_Params['length_s'] * Feature_Params['sampling_rate'] / Feature_Params['hop_length'])\n",
    "    channels = 2\n",
    "    Feature_Params['Input_Dim'] = [Frequencies, Frames, channels]\n",
    "\n",
    "    with open(feature_store / New_Model_Name, 'w') as file:\n",
    "        json.dump(Feature_Params, file)\n",
    "        \n",
    "Feature_Params       "
   ]
  },
  {
   "cell_type": "markdown",
   "metadata": {},
   "source": [
    "# Complex Fast Fourier Transformations\n",
    "___"
   ]
  },
  {
   "cell_type": "code",
   "execution_count": 12,
   "metadata": {},
   "outputs": [
    {
     "name": "stdout",
     "output_type": "stream",
     "text": [
      "Creating new Model File\n"
     ]
    },
    {
     "data": {
      "text/plain": [
       "{'Description': 'Real and imaginary part of FFT in 2 channels, use Leaky_Relu, values between -1 and 1!',\n",
       " 'Transformation': 'FFT_Complex',\n",
       " 'sampling_rate': 44100,\n",
       " 'hop_length': 1024,\n",
       " 'fft_window': 1024,\n",
       " 'no_mel_bin': '',\n",
       " 'loudness_normalization': 'linear',\n",
       " 'fmin': '',\n",
       " 'fmax': '',\n",
       " 'length_s': 3,\n",
       " 'Input_Dim': [513, 130, 2]}"
      ]
     },
     "execution_count": 12,
     "metadata": {},
     "output_type": "execute_result"
    }
   ],
   "source": [
    "# Defintion of FFT_Complex Parameter Sets\n",
    "\n",
    "New_Model_Name = 'FFT_Complex.txt'\n",
    "\n",
    "if check_writing(New_Model_Name):\n",
    "\n",
    "    Feature_Params = {}\n",
    "    \n",
    "    Feature_Params['Description'] = 'Real and imaginary part of FFT in 2 channels, use Leaky_Relu, values between -1 and 1!'\n",
    "    Feature_Params['Transformation'] = 'FFT_Complex'\n",
    "    Feature_Params['sampling_rate'] = 44100\n",
    "    Feature_Params['hop_length'] = 1024\n",
    "    Feature_Params['fft_window'] = 1024\n",
    "    Feature_Params['no_mel_bin'] = ''\n",
    "    Feature_Params['loudness_normalization'] = 'linear'\n",
    "    Feature_Params['fmin'] = ''\n",
    "    Feature_Params['fmax'] = ''\n",
    "    Feature_Params['length_s'] = 3\n",
    "\n",
    "    Frequencies = math.ceil(Feature_Params['fft_window'] / 2 +1)\n",
    "    \n",
    "    Frames = math.ceil(Feature_Params['length_s'] * Feature_Params['sampling_rate'] / Feature_Params['hop_length'])\n",
    "    channels = 2\n",
    "    Feature_Params['Input_Dim'] = [Frequencies, Frames, channels]\n",
    "\n",
    "    with open(feature_store / New_Model_Name, 'w') as file:\n",
    "        json.dump(Feature_Params, file)\n",
    "        \n",
    "Feature_Params       "
   ]
  },
  {
   "cell_type": "markdown",
   "metadata": {},
   "source": [
    "# Absolute Fast Fourier Transformations Linear\n",
    "___"
   ]
  },
  {
   "cell_type": "code",
   "execution_count": 9,
   "metadata": {},
   "outputs": [
    {
     "name": "stdout",
     "output_type": "stream",
     "text": [
      "Creating new Model File\n"
     ]
    },
    {
     "data": {
      "text/plain": [
       "{'Description': 'Calculating the absolute Value only of the FFT, normalized between 0 and 1',\n",
       " 'Transformation': 'FFT_Absolut',\n",
       " 'sampling_rate': 44100,\n",
       " 'hop_length': 1024,\n",
       " 'fft_window': 1024,\n",
       " 'no_mel_bin': '',\n",
       " 'loudness_normalization': 'linear',\n",
       " 'fmin': '',\n",
       " 'fmax': '',\n",
       " 'length_s': 3,\n",
       " 'Input_Dim': [513, 130, 1]}"
      ]
     },
     "execution_count": 9,
     "metadata": {},
     "output_type": "execute_result"
    }
   ],
   "source": [
    "# Defintion of FFT_Absolute Value Parameter sets\n",
    "\n",
    "New_Model_Name = 'FFT_Absolute_LIN.txt'\n",
    "\n",
    "if check_writing(New_Model_Name):\n",
    "\n",
    "    Feature_Params = {}\n",
    "    \n",
    "    Feature_Params['Description'] = 'Calculating the absolute Value only of the FFT, normalized between 0 and 1'\n",
    "    Feature_Params['Transformation'] = 'FFT_Absolut'\n",
    "    Feature_Params['sampling_rate'] = 44100\n",
    "    Feature_Params['hop_length'] = 1024\n",
    "    Feature_Params['fft_window'] = 1024\n",
    "    Feature_Params['no_mel_bin'] = ''\n",
    "    Feature_Params['loudness_normalization'] = 'linear'\n",
    "    Feature_Params['fmin'] = ''\n",
    "    Feature_Params['fmax'] = ''\n",
    "    Feature_Params['length_s'] = 3\n",
    "\n",
    "    Frequencies = math.ceil(Feature_Params['fft_window'] / 2 +1)\n",
    "    \n",
    "    Frames = math.ceil(Feature_Params['length_s'] * Feature_Params['sampling_rate'] / Feature_Params['hop_length'])\n",
    "    channels = 1\n",
    "    Feature_Params['Input_Dim'] = [Frequencies, Frames, channels]\n",
    "\n",
    "    with open(feature_store / New_Model_Name, 'w') as file:\n",
    "        json.dump(Feature_Params, file)\n",
    "        \n",
    "Feature_Params           "
   ]
  },
  {
   "cell_type": "markdown",
   "metadata": {},
   "source": [
    "# Absolute Fast Fourier Transformations dB\n",
    "___"
   ]
  },
  {
   "cell_type": "code",
   "execution_count": 11,
   "metadata": {},
   "outputs": [
    {
     "name": "stdout",
     "output_type": "stream",
     "text": [
      "Creating new Model File\n"
     ]
    },
    {
     "data": {
      "text/plain": [
       "{'Description': 'Calculating the absolute Value only of the FFT, normalized between 0 and 1',\n",
       " 'Transformation': 'FFT_Absolut',\n",
       " 'sampling_rate': 44100,\n",
       " 'hop_length': 512,\n",
       " 'fft_window': 512,\n",
       " 'no_mel_bin': '',\n",
       " 'loudness_normalization': 'dB',\n",
       " 'fmin': '',\n",
       " 'fmax': '',\n",
       " 'length_s': 3,\n",
       " 'Input_Dim': [257, 259, 1]}"
      ]
     },
     "execution_count": 11,
     "metadata": {},
     "output_type": "execute_result"
    }
   ],
   "source": [
    "# Defintion of FFT_Absolute Value Parameter sets\n",
    "\n",
    "New_Model_Name = 'FFT_Absolute_dB_lores.txt'\n",
    "\n",
    "if check_writing(New_Model_Name):\n",
    "\n",
    "    Feature_Params = {}\n",
    "    \n",
    "    Feature_Params['Description'] = 'Calculating the absolute Value only of the FFT, normalized between 0 and 1'\n",
    "    Feature_Params['Transformation'] = 'FFT_Absolut'\n",
    "    Feature_Params['sampling_rate'] = 44100\n",
    "    Feature_Params['hop_length'] = 512\n",
    "    Feature_Params['fft_window'] = 512\n",
    "    Feature_Params['no_mel_bin'] = ''\n",
    "    Feature_Params['loudness_normalization'] = 'dB'\n",
    "    Feature_Params['fmin'] = ''\n",
    "    Feature_Params['fmax'] = ''\n",
    "    Feature_Params['length_s'] = 3\n",
    "\n",
    "    Frequencies = math.ceil(Feature_Params['fft_window'] / 2 +1)\n",
    "    \n",
    "    Frames = math.ceil(Feature_Params['length_s'] * Feature_Params['sampling_rate'] / Feature_Params['hop_length'])\n",
    "    channels = 1\n",
    "    Feature_Params['Input_Dim'] = [Frequencies, Frames, channels]\n",
    "\n",
    "    with open(feature_store / New_Model_Name, 'w') as file:\n",
    "        json.dump(Feature_Params, file)\n",
    "        \n",
    "Feature_Params           "
   ]
  },
  {
   "cell_type": "code",
   "execution_count": 5,
   "metadata": {},
   "outputs": [],
   "source": [
    "X_train, X_test, = train_test_split(data, test_size=0.3, stratify=data['labels'])\n",
    "X_train.to_pickle(p_home / (Dataset + '_train'))\n",
    "X_test.to_pickle(p_home / (Dataset + '_test'))\n",
    "count, dict_ = wave_manipulator.analyze(X_train)"
   ]
  },
  {
   "cell_type": "code",
   "execution_count": null,
   "metadata": {},
   "outputs": [],
   "source": []
  },
  {
   "cell_type": "markdown",
   "metadata": {},
   "source": [
    "# Pure resampled or not resampled time domain series\n",
    "---"
   ]
  },
  {
   "cell_type": "code",
   "execution_count": 42,
   "metadata": {},
   "outputs": [
    {
     "name": "stdout",
     "output_type": "stream",
     "text": [
      "Modelname is used already!\n",
      "Overwriting File\n"
     ]
    },
    {
     "data": {
      "text/plain": [
       "{'Description': 'Returning only the unmodified time samples, according sampling rate',\n",
       " 'Transformation': 'Time',\n",
       " 'sampling_rate': 22050,\n",
       " 'hop_length': 1024,\n",
       " 'fft_window': 1024,\n",
       " 'no_mel_bin': '',\n",
       " 'loudness_normalization': 'linear',\n",
       " 'fmin': '',\n",
       " 'fmax': '',\n",
       " 'length_s': 3,\n",
       " 'Input_Dim': [66149, 1]}"
      ]
     },
     "execution_count": 42,
     "metadata": {},
     "output_type": "execute_result"
    }
   ],
   "source": [
    "# Defintion of resampled Time Series\n",
    "\n",
    "New_Model_Name = 'Time_22050_1.txt'\n",
    "\n",
    "if check_writing(New_Model_Name):\n",
    "\n",
    "    Feature_Params = {}\n",
    "    \n",
    "    Feature_Params['Description'] = 'Returning only the unmodified time samples, according sampling rate'\n",
    "    Feature_Params['Transformation'] = 'Time'\n",
    "    Feature_Params['sampling_rate'] = 22050\n",
    "    Feature_Params['hop_length'] = 1024\n",
    "    Feature_Params['fft_window'] = 1024\n",
    "    Feature_Params['no_mel_bin'] = ''\n",
    "    Feature_Params['loudness_normalization'] = 'linear'\n",
    "    Feature_Params['fmin'] = ''\n",
    "    Feature_Params['fmax'] = ''\n",
    "    Feature_Params['length_s'] = 3\n",
    "\n",
    "    Frames = Feature_Params['length_s'] * Feature_Params['sampling_rate'] - 1\n",
    "    channels = 1\n",
    "    Feature_Params['Input_Dim'] = [Frames, channels]\n",
    "\n",
    "    with open(feature_store / New_Model_Name, 'w') as file:\n",
    "        json.dump(Feature_Params, file)\n",
    "        \n",
    "Feature_Params           "
   ]
  },
  {
   "cell_type": "markdown",
   "metadata": {},
   "source": [
    "# Mel Frequency Cepstral Coefficients (MELCC)\n",
    "---"
   ]
  },
  {
   "cell_type": "code",
   "execution_count": 13,
   "metadata": {},
   "outputs": [
    {
     "name": "stdout",
     "output_type": "stream",
     "text": [
      "Creating new Model File\n"
     ]
    },
    {
     "data": {
      "text/plain": [
       "{'Description': 'Feature containing the Mel Frequency Cepstral Coefficients',\n",
       " 'Transformation': 'MFCC',\n",
       " 'sampling_rate': 44100,\n",
       " 'hop_length': 1024,\n",
       " 'fft_window': 1024,\n",
       " 'no_mel_bin': 128,\n",
       " 'no_mfcc': 40,\n",
       " 'dct_type': 2,\n",
       " 'loudness_normalization': '',\n",
       " 'fmin': 0.0,\n",
       " 'fmax': 11025.0,\n",
       " 'length_s': 3,\n",
       " 'Input_Dim': [40, 130, 1]}"
      ]
     },
     "execution_count": 13,
     "metadata": {},
     "output_type": "execute_result"
    }
   ],
   "source": [
    "# Defintion of resampled Time Series\n",
    "\n",
    "New_Model_Name = 'MFCC_1.txt'\n",
    "\n",
    "if check_writing(New_Model_Name):\n",
    "\n",
    "    Feature_Params = {}\n",
    "    \n",
    "    Feature_Params['Description'] = 'Feature containing the Mel Frequency Cepstral Coefficients'\n",
    "    Feature_Params['Transformation'] = 'MFCC'\n",
    "    Feature_Params['sampling_rate'] = 44100\n",
    "    Feature_Params['hop_length'] = 1024\n",
    "    Feature_Params['fft_window'] = 1024\n",
    "    Feature_Params['no_mel_bin'] = 128\n",
    "    Feature_Params['no_mfcc'] = 40\n",
    "    Feature_Params['dct_type'] = 2\n",
    "    Feature_Params['loudness_normalization'] = ''\n",
    "    Feature_Params['fmin'] = 0.0\n",
    "    Feature_Params['fmax'] = 11025.0\n",
    "    Feature_Params['length_s'] = 3\n",
    "\n",
    "    Frequencies = Feature_Params['no_mfcc']\n",
    "    Frames = math.ceil(Feature_Params['length_s'] * Feature_Params['sampling_rate'] / Feature_Params['hop_length'])\n",
    "    channels = 1\n",
    "    Feature_Params['Input_Dim'] = [Frequencies, Frames, channels]\n",
    "    with open(feature_store / New_Model_Name, 'w') as file:\n",
    "        json.dump(Feature_Params, file)\n",
    "        \n",
    "Feature_Params           "
   ]
  },
  {
   "cell_type": "markdown",
   "metadata": {},
   "source": [
    "# Chromagram\n",
    "---"
   ]
  },
  {
   "cell_type": "code",
   "execution_count": 5,
   "metadata": {},
   "outputs": [
    {
     "name": "stdout",
     "output_type": "stream",
     "text": [
      "Creating new Model File\n"
     ]
    },
    {
     "data": {
      "text/plain": [
       "{'Description': 'Feature containing the Mel Frequency Cepstral Coefficients',\n",
       " 'Transformation': 'chroma',\n",
       " 'sampling_rate': 44100,\n",
       " 'hop_length': 1024,\n",
       " 'fft_window': 1024,\n",
       " 'no_mel_bin': 128,\n",
       " 'no_mfcc': 40,\n",
       " 'no_chroma': 12,\n",
       " 'chroma_tune': None,\n",
       " 'dct_type': 2,\n",
       " 'loudness_normalization': '',\n",
       " 'fmin': 0.0,\n",
       " 'fmax': 11025.0,\n",
       " 'length_s': 3,\n",
       " 'flatten': True,\n",
       " 'Input_Dim': [40, 130, 1]}"
      ]
     },
     "execution_count": 5,
     "metadata": {},
     "output_type": "execute_result"
    }
   ],
   "source": [
    "# Defintion of resampled Time Series\n",
    "\n",
    "New_Model_Name = 'Chroma_1D.txt'\n",
    "\n",
    "if check_writing(New_Model_Name):\n",
    "\n",
    "    Feature_Params = {}\n",
    "    \n",
    "    Feature_Params['Description'] = 'Feature containing the Mel Frequency Cepstral Coefficients'\n",
    "    Feature_Params['Transformation'] = 'chroma'\n",
    "    Feature_Params['sampling_rate'] = 44100\n",
    "    Feature_Params['hop_length'] = 1024\n",
    "    Feature_Params['fft_window'] = 1024\n",
    "    Feature_Params['no_mel_bin'] = 128\n",
    "    Feature_Params['no_mfcc'] = 40\n",
    "    Feature_Params['no_chroma'] = 12\n",
    "    Feature_Params['chroma_tune'] = None\n",
    "    Feature_Params['dct_type'] = 2\n",
    "    Feature_Params['loudness_normalization'] = ''\n",
    "    Feature_Params['fmin'] = 0.0\n",
    "    Feature_Params['fmax'] = 11025.0\n",
    "    Feature_Params['length_s'] = 3\n",
    "    Feature_Params['flatten'] = True\n",
    "\n",
    "    Frequencies = Feature_Params['no_mfcc']\n",
    "    Frames = math.ceil(Feature_Params['length_s'] * Feature_Params['sampling_rate'] / Feature_Params['hop_length'])\n",
    "    channels = 1\n",
    "    Feature_Params['Input_Dim'] = [Frequencies, Frames, channels]\n",
    "    with open(feature_store / New_Model_Name, 'w') as file:\n",
    "        json.dump(Feature_Params, file)\n",
    "        \n",
    "Feature_Params           "
   ]
  },
  {
   "cell_type": "code",
   "execution_count": 4,
   "metadata": {},
   "outputs": [],
   "source": [
    "data = pd.read_pickle(data_path)"
   ]
  },
  {
   "cell_type": "code",
   "execution_count": 8,
   "metadata": {},
   "outputs": [
    {
     "name": "stdout",
     "output_type": "stream",
     "text": [
      "MEL Spectograms for Harmonic and Percussive\n",
      "Hop_length:  1024\n",
      "Sampling Rate: 44100\n",
      "Fast Fourier Window: 1024\n",
      "Number of MEL Bins: 128\n",
      "Shape of Feature:  [128, 130, 2]\n",
      "Minimum Frequency:  0.0\n",
      "Maximum Frequency:  11025.0\n",
      "Content:  decomposed\n",
      "Margin:  3\n"
     ]
    }
   ],
   "source": [
    "feature, label = create_features(data, param_file = 'MEL_dB_decompose_HP.txt')"
   ]
  },
  {
   "cell_type": "code",
   "execution_count": 9,
   "metadata": {},
   "outputs": [
    {
     "data": {
      "text/plain": [
       "(6705, 128, 130, 2)"
      ]
     },
     "execution_count": 9,
     "metadata": {},
     "output_type": "execute_result"
    }
   ],
   "source": [
    "feature.shape"
   ]
  },
  {
   "cell_type": "code",
   "execution_count": 5,
   "metadata": {},
   "outputs": [
    {
     "name": "stdout",
     "output_type": "stream",
     "text": [
      "Real and imaginary part of FFT in 2 channels, use Leaky_Relu, values between -1 and 1!\n",
      "Hop_length:  592\n",
      "Sampling Rate: 44100\n",
      "Fast Fourier Window: 446\n",
      "Shape of Feature:  [224, 224, 2]\n"
     ]
    }
   ],
   "source": [
    "feature, label = create_features(data, param_file = 'FFT_Complex_224x224.txt', suffix='_test')"
   ]
  },
  {
   "cell_type": "code",
   "execution_count": 21,
   "metadata": {},
   "outputs": [
    {
     "name": "stdout",
     "output_type": "stream",
     "text": [
      "(6705, 513, 130, 2)\n",
      "(6705,)\n"
     ]
    }
   ],
   "source": [
    "print(feature.shape)\n",
    "print(label.shape)"
   ]
  }
 ],
 "metadata": {
  "kernelspec": {
   "display_name": "dsr",
   "language": "python",
   "name": "dsr"
  },
  "language_info": {
   "codemirror_mode": {
    "name": "ipython",
    "version": 3
   },
   "file_extension": ".py",
   "mimetype": "text/x-python",
   "name": "python",
   "nbconvert_exporter": "python",
   "pygments_lexer": "ipython3",
   "version": "3.6.9"
  }
 },
 "nbformat": 4,
 "nbformat_minor": 4
}
