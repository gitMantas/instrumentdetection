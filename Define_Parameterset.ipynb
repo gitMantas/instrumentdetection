{
 "cells": [
  {
   "cell_type": "code",
   "execution_count": 6,
   "metadata": {},
   "outputs": [],
   "source": [
    "import numpy as np\n",
    "import pandas as pd\n",
    "import os\n",
    "import librosa\n",
    "import soundfile as sf\n",
    "import json\n",
    "import math\n",
    "import pickle\n",
    "from pathlib import Path\n",
    "from feature_generator import create_features"
   ]
  },
  {
   "cell_type": "code",
   "execution_count": 7,
   "metadata": {},
   "outputs": [],
   "source": [
    "# Runtime environment variables\n",
    "\n",
    "local_Dump = False\n",
    "overwrite = True\n",
    "\n",
    "data_path =Path('/home/mirko/Downloads/IRMAS_Raw.pkl')\n",
    "\n",
    "\n",
    "feature_store = Path.cwd() / 'features'\n",
    "if not os.path.exists(feature_store):\n",
    "    os.makedirs(feature_store)     \n",
    "\n",
    "def check_writing(modelname):    \n",
    "    if Path(feature_store / modelname).is_file():\n",
    "        print (\"Modelname is used already!\")\n",
    "        write_out = False\n",
    "        if overwrite:\n",
    "            print('Overwriting File')\n",
    "            write_out = True\n",
    "    else:\n",
    "        print (\"Creating new Model File\")\n",
    "        write_out = True\n",
    "\n",
    "    return write_out\n",
    "        "
   ]
  },
  {
   "cell_type": "markdown",
   "metadata": {},
   "source": [
    "# This cell is only for reading of a Parameter Set\n",
    "---"
   ]
  },
  {
   "cell_type": "code",
   "execution_count": 37,
   "metadata": {},
   "outputs": [
    {
     "data": {
      "text/plain": [
       "{'Description': 'Returning only the unmodified time samples, according sampling rate',\n",
       " 'Data': '/home/mirko/Downloads/IRMAS_Raw.pkl',\n",
       " 'Transformation': 'Time',\n",
       " 'sampling_rate': 22050,\n",
       " 'hop_length': 1024,\n",
       " 'fft_window': 1024,\n",
       " 'no_mel_bin': 13,\n",
       " 'loudness_normalization': 'linear',\n",
       " 'fmin': 0.0,\n",
       " 'fmax': 11025.0,\n",
       " 'length_s': 3,\n",
       " 'Input_Dim': [66149, 1]}"
      ]
     },
     "execution_count": 37,
     "metadata": {},
     "output_type": "execute_result"
    }
   ],
   "source": [
    "# Run this cell if you want to read a model only that exist already\n",
    "\n",
    "\n",
    "Model_Name = 'Time_22050_1.txt'\n",
    "\n",
    "if Path(feature_store / param_file).is_file():\n",
    "\n",
    "    with open(feature_store / Model_Name, 'r') as file:\n",
    "        Feature_Params = json.load(file)\n",
    "    \n",
    "else:\n",
    "    print('No such Model Definition:', Model_Name )\n",
    "\n",
    "Feature_Params"
   ]
  },
  {
   "cell_type": "markdown",
   "metadata": {},
   "source": [
    "# MEL Power-Spectograms\n",
    "___"
   ]
  },
  {
   "cell_type": "code",
   "execution_count": 8,
   "metadata": {},
   "outputs": [
    {
     "name": "stdout",
     "output_type": "stream",
     "text": [
      "Creating new Model File\n"
     ]
    },
    {
     "data": {
      "text/plain": [
       "{'Description': 'Create MEL Bins with linear loudness values',\n",
       " 'Transformation': 'MEL_linear',\n",
       " 'sampling_rate': 44100,\n",
       " 'hop_length': 1024,\n",
       " 'fft_window': 1024,\n",
       " 'no_mel_bin': 64,\n",
       " 'loudness_normalization': 'linear',\n",
       " 'fmin': 0.0,\n",
       " 'fmax': 11025.0,\n",
       " 'length_s': 3,\n",
       " 'Input_Dim': [64, 130, 1]}"
      ]
     },
     "execution_count": 8,
     "metadata": {},
     "output_type": "execute_result"
    }
   ],
   "source": [
    "# Defintion of MEL_Linear Parameter Sets\n",
    "\n",
    "New_Model_Name = 'MEL_Lin_Lores.txt'\n",
    "\n",
    "if check_writing(New_Model_Name): \n",
    "\n",
    "    Feature_Params = {}\n",
    "\n",
    "    Feature_Params['Description'] = 'Create MEL Bins with linear loudness values'\n",
    "    Feature_Params['Transformation'] = 'MEL_linear'\n",
    "    Feature_Params['sampling_rate'] = 44100\n",
    "    Feature_Params['hop_length'] = 1024\n",
    "    Feature_Params['fft_window'] = 1024\n",
    "    Feature_Params['no_mel_bin'] = 64\n",
    "    Feature_Params['loudness_normalization'] = 'linear'\n",
    "    Feature_Params['fmin'] = 0.0\n",
    "    Feature_Params['fmax'] = 11025.0\n",
    "    Feature_Params['length_s'] = 3\n",
    "\n",
    "    Frequencies = Feature_Params['no_mel_bin']\n",
    "    Frames = math.ceil(Feature_Params['length_s'] * Feature_Params['sampling_rate'] / Feature_Params['hop_length'])\n",
    "    channels = 1\n",
    "    Feature_Params['Input_Dim'] = [Frequencies, Frames, channels]\n",
    "\n",
    "    with open(feature_store / New_Model_Name, 'w') as file:\n",
    "        json.dump(Feature_Params, file)\n",
    "        \n",
    "Feature_Params       "
   ]
  },
  {
   "cell_type": "markdown",
   "metadata": {},
   "source": [
    "# MEL dB-Spectograms\n",
    "___"
   ]
  },
  {
   "cell_type": "code",
   "execution_count": 9,
   "metadata": {},
   "outputs": [
    {
     "name": "stdout",
     "output_type": "stream",
     "text": [
      "Creating new Model File\n"
     ]
    },
    {
     "data": {
      "text/plain": [
       "{'Description': 'Create MEL Bins with dB loudness values',\n",
       " 'Transformation': 'MEL_dB',\n",
       " 'sampling_rate': 44100,\n",
       " 'hop_length': 1024,\n",
       " 'fft_window': 1024,\n",
       " 'no_mel_bin': 64,\n",
       " 'loudness_normalization': 'dB',\n",
       " 'fmin': 0.0,\n",
       " 'fmax': 11025.0,\n",
       " 'length_s': 3,\n",
       " 'Input_Dim': [64, 130, 1]}"
      ]
     },
     "execution_count": 9,
     "metadata": {},
     "output_type": "execute_result"
    }
   ],
   "source": [
    "# Defintion of MEL_dB calculated Parameter Sets\n",
    "\n",
    "New_Model_Name = 'MEL_dB_Lores.txt'\n",
    "\n",
    "if check_writing(New_Model_Name): \n",
    "\n",
    "    Feature_Params = {}\n",
    "\n",
    "    Feature_Params['Description'] = 'Create MEL Bins with dB loudness values'\n",
    "    Feature_Params['Transformation'] = 'MEL_dB'\n",
    "    Feature_Params['sampling_rate'] = 44100\n",
    "    Feature_Params['hop_length'] = 1024\n",
    "    Feature_Params['fft_window'] = 1024\n",
    "    Feature_Params['no_mel_bin'] = 64\n",
    "    Feature_Params['loudness_normalization'] = 'dB'\n",
    "    Feature_Params['fmin'] = 0.0\n",
    "    Feature_Params['fmax'] = 11025.0\n",
    "    Feature_Params['length_s'] = 3\n",
    "\n",
    "    Frequencies = Feature_Params['no_mel_bin']\n",
    "    Frames = math.ceil(Feature_Params['length_s'] * Feature_Params['sampling_rate'] / Feature_Params['hop_length'])\n",
    "    channels = 1\n",
    "    Feature_Params['Input_Dim'] = [Frequencies, Frames, channels]\n",
    "\n",
    "    with open(feature_store / New_Model_Name, 'w') as file:\n",
    "        json.dump(Feature_Params, file)\n",
    "        \n",
    "Feature_Params       "
   ]
  },
  {
   "cell_type": "markdown",
   "metadata": {},
   "source": [
    "# Complex Fast Fourier Transformations\n",
    "___"
   ]
  },
  {
   "cell_type": "code",
   "execution_count": 18,
   "metadata": {},
   "outputs": [
    {
     "name": "stdout",
     "output_type": "stream",
     "text": [
      "Creating new Model File\n"
     ]
    },
    {
     "data": {
      "text/plain": [
       "{'Description': 'Real and imaginary part of FFT in 2 channels, use Leaky_Relu, values between -1 and 1!',\n",
       " 'Transformation': 'FFT_Complex',\n",
       " 'sampling_rate': 44100,\n",
       " 'hop_length': 592,\n",
       " 'fft_window': 446,\n",
       " 'no_mel_bin': '',\n",
       " 'loudness_normalization': 'linear',\n",
       " 'fmin': '',\n",
       " 'fmax': '',\n",
       " 'length_s': 3,\n",
       " 'Input_Dim': [224, 224, 2]}"
      ]
     },
     "execution_count": 18,
     "metadata": {},
     "output_type": "execute_result"
    }
   ],
   "source": [
    "# Defintion of FFT_Complex Parameter Sets\n",
    "\n",
    "New_Model_Name = 'FFT_Complex_224x224.txt'\n",
    "\n",
    "if check_writing(New_Model_Name):\n",
    "\n",
    "    Feature_Params = {}\n",
    "    \n",
    "    Feature_Params['Description'] = 'Real and imaginary part of FFT in 2 channels, use Leaky_Relu, values between -1 and 1!'\n",
    "    Feature_Params['Transformation'] = 'FFT_Complex'\n",
    "    Feature_Params['sampling_rate'] = 44100\n",
    "    Feature_Params['hop_length'] = 592\n",
    "    Feature_Params['fft_window'] = 446\n",
    "    Feature_Params['no_mel_bin'] = ''\n",
    "    Feature_Params['loudness_normalization'] = 'linear'\n",
    "    Feature_Params['fmin'] = ''\n",
    "    Feature_Params['fmax'] = ''\n",
    "    Feature_Params['length_s'] = 3\n",
    "\n",
    "    Frequencies = math.ceil(Feature_Params['fft_window'] / 2 +1)\n",
    "    \n",
    "    Frames = math.ceil(Feature_Params['length_s'] * Feature_Params['sampling_rate'] / Feature_Params['hop_length'])\n",
    "    channels = 2\n",
    "    Feature_Params['Input_Dim'] = [Frequencies, Frames, channels]\n",
    "\n",
    "    with open(feature_store / New_Model_Name, 'w') as file:\n",
    "        json.dump(Feature_Params, file)\n",
    "        \n",
    "Feature_Params       "
   ]
  },
  {
   "cell_type": "markdown",
   "metadata": {},
   "source": [
    "# Absolute Fast Fourier Transformations\n",
    "___"
   ]
  },
  {
   "cell_type": "code",
   "execution_count": 14,
   "metadata": {},
   "outputs": [
    {
     "name": "stdout",
     "output_type": "stream",
     "text": [
      "Modelname is used already!\n",
      "Overwriting File\n"
     ]
    },
    {
     "data": {
      "text/plain": [
       "{'Description': 'Calculating the absolute Value only of the FFT, normalized between 0 and 1',\n",
       " 'Transformation': 'FFT_Absolut',\n",
       " 'sampling_rate': 44100,\n",
       " 'hop_length': 592,\n",
       " 'fft_window': 446,\n",
       " 'no_mel_bin': '',\n",
       " 'loudness_normalization': 'linear',\n",
       " 'fmin': '',\n",
       " 'fmax': '',\n",
       " 'length_s': 3,\n",
       " 'Input_Dim': [224, 224, 1]}"
      ]
     },
     "execution_count": 14,
     "metadata": {},
     "output_type": "execute_result"
    }
   ],
   "source": [
    "# Defintion of FFT_Absolute Value Parameter sets\n",
    "\n",
    "New_Model_Name = 'FFT_Absolute_224x224.txt'\n",
    "\n",
    "if check_writing(New_Model_Name):\n",
    "\n",
    "    Feature_Params = {}\n",
    "    \n",
    "    Feature_Params['Description'] = 'Calculating the absolute Value only of the FFT, normalized between 0 and 1'\n",
    "    Feature_Params['Transformation'] = 'FFT_Absolut'\n",
    "    Feature_Params['sampling_rate'] = 44100\n",
    "    Feature_Params['hop_length'] = 592\n",
    "    Feature_Params['fft_window'] = 446\n",
    "    Feature_Params['no_mel_bin'] = ''\n",
    "    Feature_Params['loudness_normalization'] = 'linear'\n",
    "    Feature_Params['fmin'] = ''\n",
    "    Feature_Params['fmax'] = ''\n",
    "    Feature_Params['length_s'] = 3\n",
    "\n",
    "    Frequencies = math.ceil(Feature_Params['fft_window'] / 2 +1)\n",
    "    \n",
    "    Frames = math.ceil(Feature_Params['length_s'] * Feature_Params['sampling_rate'] / Feature_Params['hop_length'])\n",
    "    channels = 1\n",
    "    Feature_Params['Input_Dim'] = [Frequencies, Frames, channels]\n",
    "\n",
    "    with open(feature_store / New_Model_Name, 'w') as file:\n",
    "        json.dump(Feature_Params, file)\n",
    "        \n",
    "Feature_Params           "
   ]
  },
  {
   "cell_type": "code",
   "execution_count": null,
   "metadata": {},
   "outputs": [],
   "source": []
  },
  {
   "cell_type": "markdown",
   "metadata": {},
   "source": [
    "# Pure resampled or not resampled time domain series\n",
    "---"
   ]
  },
  {
   "cell_type": "code",
   "execution_count": 42,
   "metadata": {},
   "outputs": [
    {
     "name": "stdout",
     "output_type": "stream",
     "text": [
      "Modelname is used already!\n",
      "Overwriting File\n"
     ]
    },
    {
     "data": {
      "text/plain": [
       "{'Description': 'Returning only the unmodified time samples, according sampling rate',\n",
       " 'Transformation': 'Time',\n",
       " 'sampling_rate': 22050,\n",
       " 'hop_length': 1024,\n",
       " 'fft_window': 1024,\n",
       " 'no_mel_bin': '',\n",
       " 'loudness_normalization': 'linear',\n",
       " 'fmin': '',\n",
       " 'fmax': '',\n",
       " 'length_s': 3,\n",
       " 'Input_Dim': [66149, 1]}"
      ]
     },
     "execution_count": 42,
     "metadata": {},
     "output_type": "execute_result"
    }
   ],
   "source": [
    "# Defintion of resampled Time Series\n",
    "\n",
    "New_Model_Name = 'Time_22050_1.txt'\n",
    "\n",
    "if check_writing(New_Model_Name):\n",
    "\n",
    "    Feature_Params = {}\n",
    "    \n",
    "    Feature_Params['Description'] = 'Returning only the unmodified time samples, according sampling rate'\n",
    "    Feature_Params['Transformation'] = 'Time'\n",
    "    Feature_Params['sampling_rate'] = 22050\n",
    "    Feature_Params['hop_length'] = 1024\n",
    "    Feature_Params['fft_window'] = 1024\n",
    "    Feature_Params['no_mel_bin'] = ''\n",
    "    Feature_Params['loudness_normalization'] = 'linear'\n",
    "    Feature_Params['fmin'] = ''\n",
    "    Feature_Params['fmax'] = ''\n",
    "    Feature_Params['length_s'] = 3\n",
    "\n",
    "    Frames = Feature_Params['length_s'] * Feature_Params['sampling_rate'] - 1\n",
    "    channels = 1\n",
    "    Feature_Params['Input_Dim'] = [Frames, channels]\n",
    "\n",
    "    with open(feature_store / New_Model_Name, 'w') as file:\n",
    "        json.dump(Feature_Params, file)\n",
    "        \n",
    "Feature_Params           "
   ]
  },
  {
   "cell_type": "markdown",
   "metadata": {},
   "source": [
    "# Mel Frequency Cepstral Coefficients\n",
    "---"
   ]
  },
  {
   "cell_type": "code",
   "execution_count": 6,
   "metadata": {},
   "outputs": [
    {
     "name": "stdout",
     "output_type": "stream",
     "text": [
      "Modelname is used already!\n",
      "Overwriting File\n"
     ]
    },
    {
     "data": {
      "text/plain": [
       "{'Description': 'Feature containing the Mel Frequency Cepstral Coefficients',\n",
       " 'Transformation': 'MFCC',\n",
       " 'sampling_rate': 44100,\n",
       " 'hop_length': 1024,\n",
       " 'fft_window': 1024,\n",
       " 'no_mel_bin': 128,\n",
       " 'no_mfcc': 40,\n",
       " 'dct_type': 2,\n",
       " 'loudness_normalization': '',\n",
       " 'fmin': 0.0,\n",
       " 'fmax': 11025.0,\n",
       " 'length_s': 3,\n",
       " 'Input_Dim': [40, 130, 1]}"
      ]
     },
     "execution_count": 6,
     "metadata": {},
     "output_type": "execute_result"
    }
   ],
   "source": [
    "# Defintion of resampled Time Series\n",
    "\n",
    "New_Model_Name = 'MFCC_1.txt'\n",
    "\n",
    "if check_writing(New_Model_Name):\n",
    "\n",
    "    Feature_Params = {}\n",
    "    \n",
    "    Feature_Params['Description'] = 'Feature containing the Mel Frequency Cepstral Coefficients'\n",
    "    Feature_Params['Transformation'] = 'MFCC'\n",
    "    Feature_Params['sampling_rate'] = 44100\n",
    "    Feature_Params['hop_length'] = 1024\n",
    "    Feature_Params['fft_window'] = 1024\n",
    "    Feature_Params['no_mel_bin'] = 128\n",
    "    Feature_Params['no_mfcc'] = 40\n",
    "    Feature_Params['dct_type'] = 2\n",
    "    Feature_Params['loudness_normalization'] = ''\n",
    "    Feature_Params['fmin'] = 0.0\n",
    "    Feature_Params['fmax'] = 11025.0\n",
    "    Feature_Params['length_s'] = 3\n",
    "\n",
    "    Frequencies = Feature_Params['no_mfcc']\n",
    "    Frames = math.ceil(Feature_Params['length_s'] * Feature_Params['sampling_rate'] / Feature_Params['hop_length'])\n",
    "    channels = 1\n",
    "    Feature_Params['Input_Dim'] = [Frequencies, Frames, channels]\n",
    "    with open(feature_store / New_Model_Name, 'w') as file:\n",
    "        json.dump(Feature_Params, file)\n",
    "        \n",
    "Feature_Params           "
   ]
  },
  {
   "cell_type": "code",
   "execution_count": 3,
   "metadata": {},
   "outputs": [
    {
     "data": {
      "text/html": [
       "<div>\n",
       "<style scoped>\n",
       "    .dataframe tbody tr th:only-of-type {\n",
       "        vertical-align: middle;\n",
       "    }\n",
       "\n",
       "    .dataframe tbody tr th {\n",
       "        vertical-align: top;\n",
       "    }\n",
       "\n",
       "    .dataframe thead th {\n",
       "        text-align: right;\n",
       "    }\n",
       "</style>\n",
       "<table border=\"1\" class=\"dataframe\">\n",
       "  <thead>\n",
       "    <tr style=\"text-align: right;\">\n",
       "      <th></th>\n",
       "      <th>tags</th>\n",
       "      <th>wav_path</th>\n",
       "      <th>raw_sounds</th>\n",
       "      <th>sample_rate</th>\n",
       "      <th>labels</th>\n",
       "      <th>names</th>\n",
       "      <th>no_samples</th>\n",
       "    </tr>\n",
       "  </thead>\n",
       "  <tbody>\n",
       "    <tr>\n",
       "      <th>0</th>\n",
       "      <td>gel</td>\n",
       "      <td>data/IRMAS-TrainingData/gel/072__[gel][dru][po...</td>\n",
       "      <td>[0.022094727, 0.022338867, 0.01928711, 0.02258...</td>\n",
       "      <td>44100</td>\n",
       "      <td>4</td>\n",
       "      <td>electric guitar</td>\n",
       "      <td>132299</td>\n",
       "    </tr>\n",
       "    <tr>\n",
       "      <th>1</th>\n",
       "      <td>flu</td>\n",
       "      <td>data/IRMAS-TrainingData/flu/[flu][pop_roc]0475...</td>\n",
       "      <td>[-0.0010528564, -0.020324707, -0.03727722, -0....</td>\n",
       "      <td>44100</td>\n",
       "      <td>2</td>\n",
       "      <td>flute</td>\n",
       "      <td>132299</td>\n",
       "    </tr>\n",
       "    <tr>\n",
       "      <th>2</th>\n",
       "      <td>org</td>\n",
       "      <td>data/IRMAS-TrainingData/org/[org][jaz_blu]1162...</td>\n",
       "      <td>[-0.102630615, -0.07052612, -0.03741455, -0.03...</td>\n",
       "      <td>44100</td>\n",
       "      <td>5</td>\n",
       "      <td>organ</td>\n",
       "      <td>132299</td>\n",
       "    </tr>\n",
       "    <tr>\n",
       "      <th>3</th>\n",
       "      <td>cla</td>\n",
       "      <td>data/IRMAS-TrainingData/cla/144__[cla][nod][cl...</td>\n",
       "      <td>[-0.010559082, -0.020370483, -0.02897644, -0.0...</td>\n",
       "      <td>44100</td>\n",
       "      <td>1</td>\n",
       "      <td>clarinet</td>\n",
       "      <td>132299</td>\n",
       "    </tr>\n",
       "    <tr>\n",
       "      <th>4</th>\n",
       "      <td>voi</td>\n",
       "      <td>data/IRMAS-TrainingData/voi/[voi][pop_roc]2363...</td>\n",
       "      <td>[0.015213013, 0.0115356445, 0.009475708, 0.010...</td>\n",
       "      <td>44100</td>\n",
       "      <td>10</td>\n",
       "      <td>human singing voice</td>\n",
       "      <td>132299</td>\n",
       "    </tr>\n",
       "    <tr>\n",
       "      <th>...</th>\n",
       "      <td>...</td>\n",
       "      <td>...</td>\n",
       "      <td>...</td>\n",
       "      <td>...</td>\n",
       "      <td>...</td>\n",
       "      <td>...</td>\n",
       "      <td>...</td>\n",
       "    </tr>\n",
       "    <tr>\n",
       "      <th>6700</th>\n",
       "      <td>tru</td>\n",
       "      <td>data/IRMAS-TrainingData/tru/[tru][jaz_blu]2064...</td>\n",
       "      <td>[0.057662964, 0.05204773, 0.046905518, 0.04219...</td>\n",
       "      <td>44100</td>\n",
       "      <td>8</td>\n",
       "      <td>trumpet</td>\n",
       "      <td>132299</td>\n",
       "    </tr>\n",
       "    <tr>\n",
       "      <th>6701</th>\n",
       "      <td>vio</td>\n",
       "      <td>data/IRMAS-TrainingData/vio/[vio][cla]2270__1.wav</td>\n",
       "      <td>[-0.030593872, -0.03842163, -0.045272827, -0.0...</td>\n",
       "      <td>44100</td>\n",
       "      <td>9</td>\n",
       "      <td>violin</td>\n",
       "      <td>132299</td>\n",
       "    </tr>\n",
       "    <tr>\n",
       "      <th>6702</th>\n",
       "      <td>gac</td>\n",
       "      <td>data/IRMAS-TrainingData/gac/[gac][cla]0631__1.wav</td>\n",
       "      <td>[0.032608032, 0.03439331, 0.036132812, 0.03784...</td>\n",
       "      <td>44100</td>\n",
       "      <td>3</td>\n",
       "      <td>acoustic guitar</td>\n",
       "      <td>132299</td>\n",
       "    </tr>\n",
       "    <tr>\n",
       "      <th>6703</th>\n",
       "      <td>cla</td>\n",
       "      <td>data/IRMAS-TrainingData/cla/[cla][pop_roc]0198...</td>\n",
       "      <td>[0.09324646, 0.099090576, 0.09463501, 0.083724...</td>\n",
       "      <td>44100</td>\n",
       "      <td>1</td>\n",
       "      <td>clarinet</td>\n",
       "      <td>132299</td>\n",
       "    </tr>\n",
       "    <tr>\n",
       "      <th>6704</th>\n",
       "      <td>voi</td>\n",
       "      <td>data/IRMAS-TrainingData/voi/196__[voi][nod][co...</td>\n",
       "      <td>[-0.40631104, -0.44381714, -0.47402954, -0.482...</td>\n",
       "      <td>44100</td>\n",
       "      <td>10</td>\n",
       "      <td>human singing voice</td>\n",
       "      <td>132299</td>\n",
       "    </tr>\n",
       "  </tbody>\n",
       "</table>\n",
       "<p>6705 rows × 7 columns</p>\n",
       "</div>"
      ],
      "text/plain": [
       "     tags                                           wav_path  \\\n",
       "0     gel  data/IRMAS-TrainingData/gel/072__[gel][dru][po...   \n",
       "1     flu  data/IRMAS-TrainingData/flu/[flu][pop_roc]0475...   \n",
       "2     org  data/IRMAS-TrainingData/org/[org][jaz_blu]1162...   \n",
       "3     cla  data/IRMAS-TrainingData/cla/144__[cla][nod][cl...   \n",
       "4     voi  data/IRMAS-TrainingData/voi/[voi][pop_roc]2363...   \n",
       "...   ...                                                ...   \n",
       "6700  tru  data/IRMAS-TrainingData/tru/[tru][jaz_blu]2064...   \n",
       "6701  vio  data/IRMAS-TrainingData/vio/[vio][cla]2270__1.wav   \n",
       "6702  gac  data/IRMAS-TrainingData/gac/[gac][cla]0631__1.wav   \n",
       "6703  cla  data/IRMAS-TrainingData/cla/[cla][pop_roc]0198...   \n",
       "6704  voi  data/IRMAS-TrainingData/voi/196__[voi][nod][co...   \n",
       "\n",
       "                                             raw_sounds  sample_rate  labels  \\\n",
       "0     [0.022094727, 0.022338867, 0.01928711, 0.02258...        44100       4   \n",
       "1     [-0.0010528564, -0.020324707, -0.03727722, -0....        44100       2   \n",
       "2     [-0.102630615, -0.07052612, -0.03741455, -0.03...        44100       5   \n",
       "3     [-0.010559082, -0.020370483, -0.02897644, -0.0...        44100       1   \n",
       "4     [0.015213013, 0.0115356445, 0.009475708, 0.010...        44100      10   \n",
       "...                                                 ...          ...     ...   \n",
       "6700  [0.057662964, 0.05204773, 0.046905518, 0.04219...        44100       8   \n",
       "6701  [-0.030593872, -0.03842163, -0.045272827, -0.0...        44100       9   \n",
       "6702  [0.032608032, 0.03439331, 0.036132812, 0.03784...        44100       3   \n",
       "6703  [0.09324646, 0.099090576, 0.09463501, 0.083724...        44100       1   \n",
       "6704  [-0.40631104, -0.44381714, -0.47402954, -0.482...        44100      10   \n",
       "\n",
       "                    names  no_samples  \n",
       "0         electric guitar      132299  \n",
       "1                   flute      132299  \n",
       "2                   organ      132299  \n",
       "3                clarinet      132299  \n",
       "4     human singing voice      132299  \n",
       "...                   ...         ...  \n",
       "6700              trumpet      132299  \n",
       "6701               violin      132299  \n",
       "6702      acoustic guitar      132299  \n",
       "6703             clarinet      132299  \n",
       "6704  human singing voice      132299  \n",
       "\n",
       "[6705 rows x 7 columns]"
      ]
     },
     "execution_count": 3,
     "metadata": {},
     "output_type": "execute_result"
    }
   ],
   "source": [
    "data = pd.read_pickle(data_path)\n",
    "data"
   ]
  },
  {
   "cell_type": "code",
   "execution_count": 4,
   "metadata": {},
   "outputs": [
    {
     "name": "stdout",
     "output_type": "stream",
     "text": [
      "FFT_Complex_224x224.txt\n",
      "Features already calculated, read from disc, ignore parameter file\n"
     ]
    }
   ],
   "source": [
    "feature, label = create_features(data, param_file = 'FFT_Complex_224x224.txt')"
   ]
  },
  {
   "cell_type": "code",
   "execution_count": 5,
   "metadata": {},
   "outputs": [
    {
     "name": "stdout",
     "output_type": "stream",
     "text": [
      "Real and imaginary part of FFT in 2 channels, use Leaky_Relu, values between -1 and 1!\n",
      "Hop_length:  592\n",
      "Sampling Rate: 44100\n",
      "Fast Fourier Window: 446\n",
      "Shape of Feature:  [224, 224, 2]\n"
     ]
    }
   ],
   "source": [
    "feature, label = create_features(data, param_file = 'FFT_Complex_224x224.txt', suffix='_test')"
   ]
  },
  {
   "cell_type": "code",
   "execution_count": 21,
   "metadata": {},
   "outputs": [
    {
     "name": "stdout",
     "output_type": "stream",
     "text": [
      "(6705, 513, 130, 2)\n",
      "(6705,)\n"
     ]
    }
   ],
   "source": [
    "print(feature.shape)\n",
    "print(label.shape)"
   ]
  }
 ],
 "metadata": {
  "kernelspec": {
   "display_name": "dsr",
   "language": "python",
   "name": "dsr"
  },
  "language_info": {
   "codemirror_mode": {
    "name": "ipython",
    "version": 3
   },
   "file_extension": ".py",
   "mimetype": "text/x-python",
   "name": "python",
   "nbconvert_exporter": "python",
   "pygments_lexer": "ipython3",
   "version": "3.6.9"
  }
 },
 "nbformat": 4,
 "nbformat_minor": 4
}
