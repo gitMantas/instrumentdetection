{
 "cells": [
  {
   "cell_type": "code",
   "execution_count": 1,
   "metadata": {},
   "outputs": [],
   "source": [
    "\n",
    "import numpy as np\n",
    "from presets import Preset\n",
    "import librosa as _librosa\n",
    "librosa = Preset(_librosa)"
   ]
  },
  {
   "cell_type": "code",
   "execution_count": 29,
   "metadata": {},
   "outputs": [],
   "source": [
    "filename = librosa.util.example_audio_file()"
   ]
  },
  {
   "cell_type": "code",
   "execution_count": 30,
   "metadata": {},
   "outputs": [
    {
     "data": {
      "text/plain": [
       "'/home/mirko/anaconda3/envs/mir/lib/python3.8/site-packages/librosa/util/example_data/Kevin_MacLeod_-_Vibe_Ace.ogg'"
      ]
     },
     "execution_count": 30,
     "metadata": {},
     "output_type": "execute_result"
    }
   ],
   "source": [
    "filename  #Just an example .ogg file"
   ]
  },
  {
   "cell_type": "code",
   "execution_count": 31,
   "metadata": {},
   "outputs": [],
   "source": [
    "#    Load the audio as a waveform `y`\n",
    "#    Store the sampling rate as `sr`"
   ]
  },
  {
   "cell_type": "code",
   "execution_count": 32,
   "metadata": {},
   "outputs": [],
   "source": [
    "y, sr = librosa.load(filename) # mono and resampled to 22050 Hz at load time, can be changed"
   ]
  },
  {
   "cell_type": "code",
   "execution_count": 33,
   "metadata": {},
   "outputs": [
    {
     "name": "stdout",
     "output_type": "stream",
     "text": [
      "<class 'numpy.ndarray'>\n",
      "Sample: (1358241,)\n",
      "Sample Rate:  22100\n"
     ]
    }
   ],
   "source": [
    "print(type(y))\n",
    "print('Sample:', y.shape)\n",
    "print('Sample Rate: ', sr)"
   ]
  },
  {
   "cell_type": "code",
   "execution_count": 7,
   "metadata": {},
   "outputs": [],
   "source": [
    "tempo, beat_frames = librosa.beat.beat_track(y=y, sr=sr)"
   ]
  },
  {
   "cell_type": "code",
   "execution_count": 8,
   "metadata": {},
   "outputs": [
    {
     "name": "stdout",
     "output_type": "stream",
     "text": [
      "Tempo:  129.19921875\n",
      "Beatframes:  [   5   24   43   63   83  103  122  142  162  182  202  222  242  262\n",
      "  281  301  321  341  361  382  401  421  441  461  480  500  520  540\n",
      "  560  580  600  620  639  658  678  698  718  737  758  777  798  817\n",
      "  837  857  877  896  917  936  957  976  996 1016 1036 1055 1075 1095\n",
      " 1116 1135 1155 1175 1195 1214 1234 1254 1275 1295 1315 1334 1354 1373\n",
      " 1394 1414 1434 1453 1473 1493 1513 1532 1553 1573 1593 1612 1632 1652\n",
      " 1672 1691 1712 1732 1752 1771 1791 1811 1831 1850 1871 1890 1911 1931\n",
      " 1951 1971 1990 2010 2030 2050 2070 2090 2110 2130 2150 2170 2190 2209\n",
      " 2229 2249 2269 2289 2309 2328 2348 2368 2388 2408 2428 2448 2468 2488\n",
      " 2508 2527 2547]\n"
     ]
    }
   ],
   "source": [
    "print('Tempo: ', tempo)\n",
    "print('Beatframes: ', beat_frames)"
   ]
  },
  {
   "cell_type": "code",
   "execution_count": 9,
   "metadata": {},
   "outputs": [
    {
     "name": "stdout",
     "output_type": "stream",
     "text": [
      "Beattimes:  [ 0.11609977  0.55727891  0.99845805  1.46285714  1.92725624  2.39165533\n",
      "  2.83283447  3.29723356  3.76163265  4.22603175  4.69043084  5.15482993\n",
      "  5.61922902  6.08362812  6.52480726  6.98920635  7.45360544  7.91800454\n",
      "  8.38240363  8.87002268  9.31120181  9.77560091 10.24       10.70439909\n",
      " 11.14557823 11.60997732 12.07437642 12.53877551 13.0031746  13.4675737\n",
      " 13.93197279 14.39637188 14.83755102 15.27873016 15.74312925 16.20752834\n",
      " 16.67192744 17.11310658 17.60072562 18.04190476 18.52952381 18.97070295\n",
      " 19.43510204 19.89950113 20.36390023 20.80507937 21.29269841 21.73387755\n",
      " 22.2214966  22.66267574 23.12707483 23.59147392 24.05587302 24.49705215\n",
      " 24.96145125 25.42585034 25.91346939 26.35464853 26.81904762 27.28344671\n",
      " 27.7478458  28.18902494 28.65342404 29.11782313 29.60544218 30.06984127\n",
      " 30.53424036 30.9754195  31.43981859 31.88099773 32.36861678 32.83301587\n",
      " 33.29741497 33.7385941  34.2029932  34.66739229 35.13179138 35.57297052\n",
      " 36.06058957 36.52498866 36.98938776 37.43056689 37.89496599 38.35936508\n",
      " 38.82376417 39.26494331 39.75256236 40.21696145 40.68136054 41.12253968\n",
      " 41.58693878 42.05133787 42.51573696 42.9569161  43.44453515 43.88571429\n",
      " 44.37333333 44.83773243 45.30213152 45.76653061 46.20770975 46.67210884\n",
      " 47.13650794 47.60090703 48.06530612 48.52970522 48.99410431 49.4585034\n",
      " 49.92290249 50.38730159 50.85170068 51.29287982 51.75727891 52.221678\n",
      " 52.6860771  53.15047619 53.61487528 54.05605442 54.52045351 54.98485261\n",
      " 55.4492517  55.91365079 56.37804989 56.84244898 57.30684807 57.77124717\n",
      " 58.23564626 58.6768254  59.14122449]\n"
     ]
    }
   ],
   "source": [
    "beat_times = librosa.frames_to_time(beat_frames, sr=sr)\n",
    "print('Beattimes: ', beat_times)"
   ]
  },
  {
   "cell_type": "markdown",
   "metadata": {},
   "source": [
    "# More advanced\n",
    "___"
   ]
  },
  {
   "cell_type": "code",
   "execution_count": 10,
   "metadata": {},
   "outputs": [],
   "source": [
    "hop_length = 512 # hop_length defines the number of steps in the sample Vector"
   ]
  },
  {
   "cell_type": "code",
   "execution_count": 11,
   "metadata": {},
   "outputs": [],
   "source": [
    "y_harmonic, y_percussive = librosa.effects.hpss(y)"
   ]
  },
  {
   "cell_type": "code",
   "execution_count": 12,
   "metadata": {},
   "outputs": [
    {
     "name": "stdout",
     "output_type": "stream",
     "text": [
      "(1355168,)\n",
      "(1355168,)\n"
     ]
    }
   ],
   "source": [
    "print(y_harmonic.shape)\n",
    "print(y_percussive.shape)"
   ]
  },
  {
   "cell_type": "code",
   "execution_count": 13,
   "metadata": {},
   "outputs": [
    {
     "name": "stdout",
     "output_type": "stream",
     "text": [
      "(13, 2647)\n"
     ]
    }
   ],
   "source": [
    "mfcc = librosa.feature.mfcc(y=y, sr=sr, hop_length=hop_length, n_mfcc=13)\n",
    "print(mfcc.shape)"
   ]
  },
  {
   "cell_type": "code",
   "execution_count": 14,
   "metadata": {},
   "outputs": [
    {
     "data": {
      "text/plain": [
       "1355264"
      ]
     },
     "execution_count": 14,
     "metadata": {},
     "output_type": "execute_result"
    }
   ],
   "source": [
    "2647 * 512 #The number of mfcc features is defined by  sample length divided y hop_length"
   ]
  },
  {
   "cell_type": "code",
   "execution_count": 15,
   "metadata": {},
   "outputs": [
    {
     "name": "stdout",
     "output_type": "stream",
     "text": [
      "(13, 2647)\n"
     ]
    }
   ],
   "source": [
    "mfcc_delta = librosa.feature.delta(mfcc)  # Delta features, whatever this is...\n",
    "print(mfcc.shape)"
   ]
  },
  {
   "cell_type": "code",
   "execution_count": 16,
   "metadata": {},
   "outputs": [],
   "source": [
    "beat_mfcc_delta = librosa.util.sync(np.vstack([mfcc, mfcc_delta]), beat_frames)"
   ]
  },
  {
   "cell_type": "code",
   "execution_count": 17,
   "metadata": {},
   "outputs": [
    {
     "name": "stdout",
     "output_type": "stream",
     "text": [
      "(26, 130)\n"
     ]
    }
   ],
   "source": [
    "print(beat_mfcc_delta.shape)  # Obvisioly per beat frame mfcc deltas"
   ]
  },
  {
   "cell_type": "code",
   "execution_count": 18,
   "metadata": {},
   "outputs": [
    {
     "name": "stdout",
     "output_type": "stream",
     "text": [
      "(12, 2647)\n"
     ]
    }
   ],
   "source": [
    "chromagram = librosa.feature.chroma_cqt(y=y_harmonic, sr=sr)  #Note, only on Harmonic content\n",
    "print(chromagram.shape)"
   ]
  },
  {
   "cell_type": "markdown",
   "metadata": {},
   "source": [
    "# Presets\n",
    "___"
   ]
  },
  {
   "cell_type": "code",
   "execution_count": 36,
   "metadata": {},
   "outputs": [
    {
     "name": "stderr",
     "output_type": "stream",
     "text": [
      "/home/mirko/anaconda3/envs/mir/lib/python3.8/site-packages/librosa/core/audio.py:161: UserWarning: PySoundFile failed. Trying audioread instead.\n",
      "  warnings.warn('PySoundFile failed. Trying audioread instead.')\n"
     ]
    }
   ],
   "source": [
    "filename = 'audio/Hihat 808 Close.wav'\n",
    "librosa['sr'] = None\n",
    "\n",
    "y, sr = librosa.load(filename, duration=5, offset=35)"
   ]
  },
  {
   "cell_type": "code",
   "execution_count": 37,
   "metadata": {},
   "outputs": [
    {
     "data": {
      "text/plain": [
       "(0,)"
      ]
     },
     "execution_count": 37,
     "metadata": {},
     "output_type": "execute_result"
    }
   ],
   "source": [
    "y.shape"
   ]
  },
  {
   "cell_type": "code",
   "execution_count": null,
   "metadata": {},
   "outputs": [],
   "source": []
  }
 ],
 "metadata": {
  "kernelspec": {
   "display_name": "mir",
   "language": "python",
   "name": "mir"
  },
  "language_info": {
   "codemirror_mode": {
    "name": "ipython",
    "version": 3
   },
   "file_extension": ".py",
   "mimetype": "text/x-python",
   "name": "python",
   "nbconvert_exporter": "python",
   "pygments_lexer": "ipython3",
   "version": "3.8.2"
  }
 },
 "nbformat": 4,
 "nbformat_minor": 4
}
