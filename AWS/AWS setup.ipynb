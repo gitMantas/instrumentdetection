{
 "cells": [
  {
   "cell_type": "markdown",
   "metadata": {},
   "source": [
    "### Amazon AWS"
   ]
  },
  {
   "cell_type": "raw",
   "metadata": {},
   "source": [
    "login to Amazon EWS: https://signin.aws.amazon.com"
   ]
  },
  {
   "cell_type": "markdown",
   "metadata": {},
   "source": [
    "Take note of the region\n"
   ]
  },
  {
   "cell_type": "markdown",
   "metadata": {},
   "source": [
    "![title](Region.png)"
   ]
  },
  {
   "cell_type": "raw",
   "metadata": {},
   "source": [
    "Spin up an instance"
   ]
  },
  {
   "cell_type": "markdown",
   "metadata": {},
   "source": [
    "![title](Instance.png)"
   ]
  },
  {
   "cell_type": "markdown",
   "metadata": {},
   "source": [
    "![title](run.png)"
   ]
  },
  {
   "cell_type": "markdown",
   "metadata": {},
   "source": [
    "# Key should exist already, private Key to be saved locally"
   ]
  },
  {
   "cell_type": "markdown",
   "metadata": {},
   "source": [
    "Do change the access rights on your local machine for the private Key"
   ]
  },
  {
   "cell_type": "markdown",
   "metadata": {},
   "source": [
    "Open a shell:\n",
    "\n",
    "chmod 600 mirko.pem\n",
    "\n",
    "save the key in ~/.ssh\n",
    "\n",
    "How about access right of folder?"
   ]
  },
  {
   "cell_type": "markdown",
   "metadata": {},
   "source": [
    "![title](Keys.png)"
   ]
  },
  {
   "cell_type": "markdown",
   "metadata": {},
   "source": [
    "### You might want to add an alarm:"
   ]
  },
  {
   "cell_type": "markdown",
   "metadata": {},
   "source": [
    "![title](alarm.png)"
   ]
  },
  {
   "cell_type": "markdown",
   "metadata": {},
   "source": [
    "### Now try to ssh into the remote machine:"
   ]
  },
  {
   "cell_type": "markdown",
   "metadata": {},
   "source": [
    "ssh -i ~/.ssh/mirko.pem ubuntu@ec2-3-124-8-101.eu-central-1.compute.amazonaws.com\n",
    "\n",
    "-i ~/.ssh/mirko.pem specify Key and Key location, keep together\n",
    "\n",
    "User and remote instance:\n",
    "ubuntu@ec2-3-124-8-101.eu-central-1.compute.amazonaws.com "
   ]
  },
  {
   "cell_type": "markdown",
   "metadata": {},
   "source": [
    "Now install whatever you need:\n",
    "  \n",
    "sudo apt install python3\n",
    "sudo apt-get update\n",
    "sudo apt update\n",
    "sudo apt install python3-pip\n",
    "\n",
    "Only one update is required. Note, the order is important. Allways run update first. (and there is also upgrade...)\n",
    "\n",
    "pip3 install numpy\n",
    "pip3 install pandas\n",
    "pip3 install jupyter lab\n",
    "\n",
    "etc..\n",
    "  \n",
    "No conda environment required for whatever reason"
   ]
  },
  {
   "cell_type": "markdown",
   "metadata": {},
   "source": [
    "### Before you can run Jupyter lab, do the following:"
   ]
  },
  {
   "cell_type": "markdown",
   "metadata": {},
   "source": [
    "export PATH=$PATH:~/.local/bin/"
   ]
  },
  {
   "cell_type": "markdown",
   "metadata": {},
   "source": [
    "This adds values to your path variable. Lost with the next restart of the remote machine."
   ]
  },
  {
   "cell_type": "markdown",
   "metadata": {},
   "source": [
    "now do the jupyter lab thing on your remote machine.\n",
    "\n",
    "The jupyter lab server will run now on the remote machine, but you have no browser there and access is localhost. So we need to set up a tunnel to redirect the socket localhost:8888 to our local machine"
   ]
  },
  {
   "cell_type": "markdown",
   "metadata": {},
   "source": [
    "### Creating a tunnel"
   ]
  },
  {
   "cell_type": "markdown",
   "metadata": {},
   "source": [
    "ssh benutzer@FernerHost -L <lokaler Port>:<Ziel-Host>:<ferner Port>\n",
    "    \n",
    "oder\n",
    "    \n",
    "ssh -L <lokaler Port>:<Ziel-Host>:<ferner Port> -l benutzer FernerHost\n",
    "    \n",
    "Mit der Option -N wird die SSH-Verbindung auf ihre Tunnelfunktion beschränkt und unterbindet die Ausführung von Shell-Kommandos. \n",
    "    \n",
    "### ssh -N -i ~/.ssh/mirko.pem -L localhost:8888:localhost:8888 ubuntu@ec2-3-124-8-101.eu-central-1.compute.amazonaws.com\n",
    "\n",
    "Be careful with the ports, if 8888 already in use locally (e.g. local Jupyter lab) use another one, below we open local under port 8889!\n",
    "    \n",
    "### ssh -N -i /.ssh/mirko.pem -L localhost:8889:localhost:8888 ubuntu@ec2-3-124-8-101.eu-central-1.compute.amazonaws.com\n",
    "\n",
    "Tunnel need to stay open in the bash, if you close this terminal, tunnel will close. Also, terminal with remote jupyter lab must remain open.\n"
   ]
  },
  {
   "cell_type": "markdown",
   "metadata": {},
   "source": [
    "# Windows"
   ]
  },
  {
   "cell_type": "markdown",
   "metadata": {},
   "source": [
    "![title](user.png)"
   ]
  },
  {
   "cell_type": "markdown",
   "metadata": {},
   "source": [
    "Keys must only be accessible to the user they're intended for and no other account, service, or group.\n",
    "\n",
    "    GUI:\n",
    "        [File] Properties - Security - Advanced\n",
    "            Set Owner to the key's user\n",
    "            Remove all users, groups, and services, except for the key's user, under Permission Entries\n",
    "            Set key's user to Full Control\n"
   ]
  },
  {
   "cell_type": "markdown",
   "metadata": {},
   "source": [
    "Same commands (e.g.Annaconda prompt), but be aware of different security settings for user key and of course path.\n",
    "\n",
    "ssh -i /.ssh/mirko.pem ubuntu@ec2-3-124-8-101.eu-central-1.compute.amazonaws.com"
   ]
  },
  {
   "cell_type": "markdown",
   "metadata": {},
   "source": [
    "# Attach S3 Storage"
   ]
  },
  {
   "cell_type": "markdown",
   "metadata": {},
   "source": [
    "![title](bucket.png)"
   ]
  },
  {
   "cell_type": "markdown",
   "metadata": {},
   "source": [
    "___"
   ]
  },
  {
   "cell_type": "markdown",
   "metadata": {},
   "source": [
    "### Create and attach IAM role"
   ]
  },
  {
   "cell_type": "markdown",
   "metadata": {},
   "source": [
    "![title](iam.png)"
   ]
  },
  {
   "cell_type": "markdown",
   "metadata": {},
   "source": [
    "___"
   ]
  },
  {
   "cell_type": "markdown",
   "metadata": {},
   "source": [
    "![title](iam2.png)"
   ]
  },
  {
   "cell_type": "markdown",
   "metadata": {},
   "source": [
    "___"
   ]
  },
  {
   "cell_type": "markdown",
   "metadata": {},
   "source": [
    "![title](iam3.png)"
   ]
  },
  {
   "cell_type": "markdown",
   "metadata": {},
   "source": [
    "___"
   ]
  },
  {
   "cell_type": "markdown",
   "metadata": {},
   "source": [
    "![title](iam4.png)"
   ]
  },
  {
   "cell_type": "markdown",
   "metadata": {},
   "source": [
    "___"
   ]
  },
  {
   "cell_type": "markdown",
   "metadata": {},
   "source": [
    "### Now test it"
   ]
  },
  {
   "cell_type": "markdown",
   "metadata": {},
   "source": [
    "sudo apt install awscli  #install on Server"
   ]
  },
  {
   "cell_type": "markdown",
   "metadata": {},
   "source": [
    "---"
   ]
  },
  {
   "cell_type": "markdown",
   "metadata": {},
   "source": [
    "### Create some test data on remote server"
   ]
  },
  {
   "cell_type": "code",
   "execution_count": null,
   "metadata": {},
   "outputs": [],
   "source": [
    "mkdir test\n",
    "echo 'MYDATA' >> test/data.md\n"
   ]
  },
  {
   "cell_type": "markdown",
   "metadata": {},
   "source": [
    "### Sync remote server directory to S3 bucket"
   ]
  },
  {
   "cell_type": "markdown",
   "metadata": {},
   "source": [
    "aws s3 sync ~/test s3://mirko2/test   "
   ]
  },
  {
   "cell_type": "markdown",
   "metadata": {},
   "source": [
    "### Sync S3 folder to remote machine"
   ]
  },
  {
   "cell_type": "markdown",
   "metadata": {},
   "source": [
    "aws s3 sync s3://mirko2/mirko ~/test2"
   ]
  },
  {
   "cell_type": "markdown",
   "metadata": {},
   "source": [
    "aws s3 sync <LocalPath> <S3Uri> or <S3Uri> <LocalPath> or <S3Uri> <S3Uri>"
   ]
  }
 ],
 "metadata": {
  "kernelspec": {
   "display_name": "mir",
   "language": "python",
   "name": "mir"
  },
  "language_info": {
   "codemirror_mode": {
    "name": "ipython",
    "version": 3
   },
   "file_extension": ".py",
   "mimetype": "text/x-python",
   "name": "python",
   "nbconvert_exporter": "python",
   "pygments_lexer": "ipython3",
   "version": "3.8.1"
  }
 },
 "nbformat": 4,
 "nbformat_minor": 4
}
