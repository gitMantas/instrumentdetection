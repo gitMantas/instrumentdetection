{
 "cells": [
  {
   "cell_type": "code",
   "execution_count": 3,
   "metadata": {},
   "outputs": [],
   "source": [
    "import pandas as pd\n",
    "import numpy as np\n",
    "import os, pathlib\n",
    "import librosa\n",
    "from pathlib import Path\n",
    "import glob\n",
    "import pickle\n",
    "import shutil\n",
    "import datetime\n",
    "import wave_manipulator\n",
    "import DataLoad\n",
    "from sklearn.model_selection import train_test_split\n",
    "\n",
    "p_home = Path.cwd() / 'data'\n",
    "p_temp1 = Path.cwd() / 'data' / 'UIOWA' / 'tmp1'\n",
    "p_wav = Path.cwd() / 'data' / 'UIOWA' / 'wav'\n",
    "\n",
    "\n"
   ]
  },
  {
   "cell_type": "markdown",
   "metadata": {},
   "source": [
    "# IRMAS Dataset Base\n",
    "___"
   ]
  },
  {
   "cell_type": "markdown",
   "metadata": {},
   "source": [
    "### Create"
   ]
  },
  {
   "cell_type": "code",
   "execution_count": 4,
   "metadata": {},
   "outputs": [],
   "source": [
    "Dataset = 'IRMAS_Data_Base'"
   ]
  },
  {
   "cell_type": "code",
   "execution_count": 5,
   "metadata": {},
   "outputs": [],
   "source": [
    "_, df, label_dict = DataLoad.load_to_dataframe()\n",
    "df.to_pickle(p_home / (Dataset + '.pkl'))\n"
   ]
  },
  {
   "cell_type": "code",
   "execution_count": 12,
   "metadata": {},
   "outputs": [
    {
     "data": {
      "text/plain": [
       "{0: 'cel',\n",
       " 1: 'cla',\n",
       " 2: 'flu',\n",
       " 3: 'gac',\n",
       " 4: 'gel',\n",
       " 5: 'org',\n",
       " 6: 'pia',\n",
       " 7: 'sax',\n",
       " 8: 'tru',\n",
       " 9: 'vio',\n",
       " 10: 'voi'}"
      ]
     },
     "execution_count": 12,
     "metadata": {},
     "output_type": "execute_result"
    }
   ],
   "source": [
    "label_dict"
   ]
  },
  {
   "cell_type": "markdown",
   "metadata": {},
   "source": [
    "### Load"
   ]
  },
  {
   "cell_type": "code",
   "execution_count": 7,
   "metadata": {},
   "outputs": [],
   "source": [
    "data = pd.read_pickle(p_home / (Dataset + '.pkl'))\n",
    "overview, labeldict = wave_manipulator.analyze(data)"
   ]
  },
  {
   "cell_type": "code",
   "execution_count": 8,
   "metadata": {},
   "outputs": [
    {
     "data": {
      "text/html": [
       "<div>\n",
       "<style scoped>\n",
       "    .dataframe tbody tr th:only-of-type {\n",
       "        vertical-align: middle;\n",
       "    }\n",
       "\n",
       "    .dataframe tbody tr th {\n",
       "        vertical-align: top;\n",
       "    }\n",
       "\n",
       "    .dataframe thead th {\n",
       "        text-align: right;\n",
       "    }\n",
       "</style>\n",
       "<table border=\"1\" class=\"dataframe\">\n",
       "  <thead>\n",
       "    <tr style=\"text-align: right;\">\n",
       "      <th></th>\n",
       "      <th>Label</th>\n",
       "      <th>Instrument</th>\n",
       "      <th>Nos</th>\n",
       "    </tr>\n",
       "  </thead>\n",
       "  <tbody>\n",
       "    <tr>\n",
       "      <th>0</th>\n",
       "      <td>4</td>\n",
       "      <td>gel</td>\n",
       "      <td>760</td>\n",
       "    </tr>\n",
       "    <tr>\n",
       "      <th>1</th>\n",
       "      <td>10</td>\n",
       "      <td>voi</td>\n",
       "      <td>778</td>\n",
       "    </tr>\n",
       "    <tr>\n",
       "      <th>2</th>\n",
       "      <td>2</td>\n",
       "      <td>flu</td>\n",
       "      <td>451</td>\n",
       "    </tr>\n",
       "    <tr>\n",
       "      <th>3</th>\n",
       "      <td>0</td>\n",
       "      <td>cel</td>\n",
       "      <td>388</td>\n",
       "    </tr>\n",
       "    <tr>\n",
       "      <th>4</th>\n",
       "      <td>8</td>\n",
       "      <td>tru</td>\n",
       "      <td>577</td>\n",
       "    </tr>\n",
       "    <tr>\n",
       "      <th>5</th>\n",
       "      <td>7</td>\n",
       "      <td>sax</td>\n",
       "      <td>626</td>\n",
       "    </tr>\n",
       "    <tr>\n",
       "      <th>6</th>\n",
       "      <td>1</td>\n",
       "      <td>cla</td>\n",
       "      <td>505</td>\n",
       "    </tr>\n",
       "    <tr>\n",
       "      <th>7</th>\n",
       "      <td>6</td>\n",
       "      <td>pia</td>\n",
       "      <td>721</td>\n",
       "    </tr>\n",
       "    <tr>\n",
       "      <th>8</th>\n",
       "      <td>5</td>\n",
       "      <td>org</td>\n",
       "      <td>682</td>\n",
       "    </tr>\n",
       "    <tr>\n",
       "      <th>9</th>\n",
       "      <td>9</td>\n",
       "      <td>vio</td>\n",
       "      <td>580</td>\n",
       "    </tr>\n",
       "    <tr>\n",
       "      <th>10</th>\n",
       "      <td>3</td>\n",
       "      <td>gac</td>\n",
       "      <td>637</td>\n",
       "    </tr>\n",
       "  </tbody>\n",
       "</table>\n",
       "</div>"
      ],
      "text/plain": [
       "    Label Instrument  Nos\n",
       "0       4        gel  760\n",
       "1      10        voi  778\n",
       "2       2        flu  451\n",
       "3       0        cel  388\n",
       "4       8        tru  577\n",
       "5       7        sax  626\n",
       "6       1        cla  505\n",
       "7       6        pia  721\n",
       "8       5        org  682\n",
       "9       9        vio  580\n",
       "10      3        gac  637"
      ]
     },
     "execution_count": 8,
     "metadata": {},
     "output_type": "execute_result"
    }
   ],
   "source": [
    "overview"
   ]
  },
  {
   "cell_type": "code",
   "execution_count": 9,
   "metadata": {},
   "outputs": [
    {
     "data": {
      "text/plain": [
       "{'gel': 4,\n",
       " 'voi': 10,\n",
       " 'flu': 2,\n",
       " 'cel': 0,\n",
       " 'tru': 8,\n",
       " 'sax': 7,\n",
       " 'cla': 1,\n",
       " 'pia': 6,\n",
       " 'org': 5,\n",
       " 'vio': 9,\n",
       " 'gac': 3}"
      ]
     },
     "execution_count": 9,
     "metadata": {},
     "output_type": "execute_result"
    }
   ],
   "source": [
    "labeldict"
   ]
  },
  {
   "cell_type": "markdown",
   "metadata": {},
   "source": [
    "### Train test split\n",
    "___"
   ]
  },
  {
   "cell_type": "code",
   "execution_count": 10,
   "metadata": {},
   "outputs": [],
   "source": [
    "X_train, X_test, = train_test_split(data, test_size=0.3, stratify=data['labels'])\n",
    "\n",
    "X_train.to_pickle(p_home / (Dataset + '_train.pkl'))\n",
    "X_test.to_pickle(p_home / (Dataset + '_test.pkl'))\n",
    "count, dict_ = wave_manipulator.analyze(X_train)"
   ]
  },
  {
   "cell_type": "code",
   "execution_count": 11,
   "metadata": {},
   "outputs": [
    {
     "data": {
      "text/plain": [
       "(    Label Instrument  Nos\n",
       " 0       4        gel  532\n",
       " 1      10        voi  544\n",
       " 2       2        flu  316\n",
       " 3       7        sax  438\n",
       " 4       8        tru  404\n",
       " 5       0        cel  272\n",
       " 6       1        cla  353\n",
       " 7       6        pia  505\n",
       " 8       5        org  477\n",
       " 9       9        vio  406\n",
       " 10      3        gac  446,\n",
       " {'gel': 4,\n",
       "  'voi': 10,\n",
       "  'flu': 2,\n",
       "  'sax': 7,\n",
       "  'tru': 8,\n",
       "  'cel': 0,\n",
       "  'cla': 1,\n",
       "  'pia': 6,\n",
       "  'org': 5,\n",
       "  'vio': 9,\n",
       "  'gac': 3})"
      ]
     },
     "execution_count": 11,
     "metadata": {},
     "output_type": "execute_result"
    }
   ],
   "source": [
    "wave_manipulator.analyze(X_train)"
   ]
  },
  {
   "cell_type": "markdown",
   "metadata": {},
   "source": [
    "# IRMAS Dataset match IOWA\n",
    "___"
   ]
  },
  {
   "cell_type": "code",
   "execution_count": 33,
   "metadata": {},
   "outputs": [],
   "source": [
    "Dataset = 'IRMAS_Data_match_IOWA'"
   ]
  },
  {
   "cell_type": "markdown",
   "metadata": {},
   "source": [
    "### Load Base"
   ]
  },
  {
   "cell_type": "code",
   "execution_count": 34,
   "metadata": {},
   "outputs": [],
   "source": [
    "data = pd.read_pickle(p_home / 'IRMAS_Data_Base.pkl')"
   ]
  },
  {
   "cell_type": "markdown",
   "metadata": {},
   "source": [
    "### Create"
   ]
  },
  {
   "cell_type": "code",
   "execution_count": 42,
   "metadata": {},
   "outputs": [],
   "source": [
    "labels = []\n",
    "tags = []\n",
    "indexes = []\n",
    "raw_data = []\n",
    "wave_path = []\n",
    "sr = []\n",
    "\n",
    "for index, row in data.iterrows():\n",
    "    indexes.append(index)\n",
    "    raw_data.append(row.raw_sounds)\n",
    "    wave_path.append(row.wav_path)\n",
    "    sr.append(row.sample_rate)\n",
    "    if row.labels == 0:\n",
    "        labels.append(4)\n",
    "        tags.append('cel')\n",
    "    elif row.labels ==1:\n",
    "        labels.append(1)\n",
    "        tags.append('cla')\n",
    "    elif row.labels == 2:\n",
    "        labels.append(2)\n",
    "        tags.append('flu')\n",
    "    elif row.labels == 3:\n",
    "        labels.append(3)\n",
    "        tags.append('gac')\n",
    "    elif row.labels == 4:\n",
    "        labels.append(0)\n",
    "        tags.append('noise')\n",
    "    elif row.labels == 5:\n",
    "        labels.append(0)\n",
    "        tags.append('noise')\n",
    "    elif row.labels == 6:\n",
    "        labels.append(6)\n",
    "        tags.append('pia')\n",
    "    elif row.labels == 7:\n",
    "        labels.append(7)\n",
    "        tags.append('sax')\n",
    "    elif row.labels == 8:\n",
    "        labels.append(8)\n",
    "        tags.append('tru')\n",
    "    elif row.labels == 9:\n",
    "        labels.append(5)\n",
    "        tags.append('vio')\n",
    "    elif row.labels == 10:\n",
    "        labels.append(0)\n",
    "        tags.append('noise')\n",
    "        \n",
    "\n",
    "        \n",
    "        \n",
    "        \n",
    "        \n",
    "data = pd.DataFrame(list(zip(labels, tags, wave_path, raw_data, sr)),\n",
    "                    columns = ['labels', 'tags', 'wav_path', 'raw_sounds', 'sample_rate'])\n",
    "       \n",
    "data.to_pickle(p_home / (Dataset + '.pkl'))\n"
   ]
  },
  {
   "cell_type": "markdown",
   "metadata": {},
   "source": [
    "### Load"
   ]
  },
  {
   "cell_type": "code",
   "execution_count": 43,
   "metadata": {},
   "outputs": [],
   "source": [
    "data = pd.read_pickle(p_home / (Dataset + '.pkl'))"
   ]
  },
  {
   "cell_type": "code",
   "execution_count": 44,
   "metadata": {},
   "outputs": [],
   "source": [
    "count, dict_ = wave_manipulator.analyze(data)\n"
   ]
  },
  {
   "cell_type": "markdown",
   "metadata": {},
   "source": [
    "### Train test split\n",
    "___"
   ]
  },
  {
   "cell_type": "code",
   "execution_count": 46,
   "metadata": {},
   "outputs": [],
   "source": [
    "X_train, X_test, = train_test_split(data, test_size=0.3, stratify=data['labels'])\n",
    "\n",
    "X_train.to_pickle(p_home / (Dataset + '_train.pkl'))\n",
    "X_test.to_pickle(p_home / (Dataset + '_test.pkl'))\n",
    "count, dict_ = wave_manipulator.analyze(X_train)"
   ]
  },
  {
   "cell_type": "markdown",
   "metadata": {},
   "source": [
    "### Analyse"
   ]
  },
  {
   "cell_type": "code",
   "execution_count": 47,
   "metadata": {},
   "outputs": [
    {
     "data": {
      "text/html": [
       "<div>\n",
       "<style scoped>\n",
       "    .dataframe tbody tr th:only-of-type {\n",
       "        vertical-align: middle;\n",
       "    }\n",
       "\n",
       "    .dataframe tbody tr th {\n",
       "        vertical-align: top;\n",
       "    }\n",
       "\n",
       "    .dataframe thead th {\n",
       "        text-align: right;\n",
       "    }\n",
       "</style>\n",
       "<table border=\"1\" class=\"dataframe\">\n",
       "  <thead>\n",
       "    <tr style=\"text-align: right;\">\n",
       "      <th></th>\n",
       "      <th>Label</th>\n",
       "      <th>Instrument</th>\n",
       "      <th>Nos</th>\n",
       "    </tr>\n",
       "  </thead>\n",
       "  <tbody>\n",
       "    <tr>\n",
       "      <th>2</th>\n",
       "      <td>0</td>\n",
       "      <td>noise</td>\n",
       "      <td>1554</td>\n",
       "    </tr>\n",
       "    <tr>\n",
       "      <th>6</th>\n",
       "      <td>1</td>\n",
       "      <td>cla</td>\n",
       "      <td>353</td>\n",
       "    </tr>\n",
       "    <tr>\n",
       "      <th>7</th>\n",
       "      <td>2</td>\n",
       "      <td>flu</td>\n",
       "      <td>316</td>\n",
       "    </tr>\n",
       "    <tr>\n",
       "      <th>3</th>\n",
       "      <td>3</td>\n",
       "      <td>gac</td>\n",
       "      <td>446</td>\n",
       "    </tr>\n",
       "    <tr>\n",
       "      <th>4</th>\n",
       "      <td>4</td>\n",
       "      <td>cel</td>\n",
       "      <td>271</td>\n",
       "    </tr>\n",
       "    <tr>\n",
       "      <th>1</th>\n",
       "      <td>5</td>\n",
       "      <td>vio</td>\n",
       "      <td>406</td>\n",
       "    </tr>\n",
       "    <tr>\n",
       "      <th>8</th>\n",
       "      <td>6</td>\n",
       "      <td>pia</td>\n",
       "      <td>505</td>\n",
       "    </tr>\n",
       "    <tr>\n",
       "      <th>0</th>\n",
       "      <td>7</td>\n",
       "      <td>sax</td>\n",
       "      <td>438</td>\n",
       "    </tr>\n",
       "    <tr>\n",
       "      <th>5</th>\n",
       "      <td>8</td>\n",
       "      <td>tru</td>\n",
       "      <td>404</td>\n",
       "    </tr>\n",
       "  </tbody>\n",
       "</table>\n",
       "</div>"
      ],
      "text/plain": [
       "   Label Instrument   Nos\n",
       "2      0      noise  1554\n",
       "6      1        cla   353\n",
       "7      2        flu   316\n",
       "3      3        gac   446\n",
       "4      4        cel   271\n",
       "1      5        vio   406\n",
       "8      6        pia   505\n",
       "0      7        sax   438\n",
       "5      8        tru   404"
      ]
     },
     "execution_count": 47,
     "metadata": {},
     "output_type": "execute_result"
    }
   ],
   "source": [
    "count.sort_values(by='Label')"
   ]
  },
  {
   "cell_type": "code",
   "execution_count": 28,
   "metadata": {},
   "outputs": [
    {
     "data": {
      "text/plain": [
       "{'noise': 0,\n",
       " 'cel': 4,\n",
       " 'cla': 1,\n",
       " 'sax': 7,\n",
       " 'tru': 8,\n",
       " 'gac': 3,\n",
       " 'flu': 2,\n",
       " 'pia': 6,\n",
       " 'vio': 5}"
      ]
     },
     "execution_count": 28,
     "metadata": {},
     "output_type": "execute_result"
    }
   ],
   "source": [
    "dict_"
   ]
  },
  {
   "cell_type": "markdown",
   "metadata": {},
   "source": [
    "# UIOWA\n",
    "___"
   ]
  },
  {
   "cell_type": "markdown",
   "metadata": {},
   "source": [
    "# IOWA all Instruments\n",
    "___"
   ]
  },
  {
   "cell_type": "code",
   "execution_count": 2,
   "metadata": {},
   "outputs": [],
   "source": [
    "Dataset = 'UIOWA_Data_All'"
   ]
  },
  {
   "cell_type": "code",
   "execution_count": 3,
   "metadata": {},
   "outputs": [],
   "source": [
    "structure = pd.read_pickle(p_home / 'UIOWA_Structure.pkl')\n",
    "\n",
    "instrument = []\n",
    "Label_int = []\n",
    "Label = []\n",
    "\n",
    "restructure = structure.copy()\n",
    "\n",
    "for index, row in restructure.iterrows():\n",
    "    direc = row.Directory\n",
    "    inst = direc.split('][')[2]\n",
    "    if 'Pizzicato' in direc:\n",
    "        instrument.append('noise')\n",
    "    elif 'Percussion' in direc:\n",
    "        instrument.append('noise')\n",
    "    else:\n",
    "        instrument.append(inst)\n",
    "\n",
    "restructure['tags'] = instrument\n",
    "restructure['Label'] = instrument\n",
    "\n",
    "key = set(instrument)\n",
    "key_l = [[x, y] for [y, x] in enumerate(key)]\n",
    "labeldict = dict(key_l)\n",
    "\n",
    "for index, row in restructure.iterrows():\n",
    "    Label_int.append(labeldict[row.tags])\n",
    "restructure['Label_int'] = Label_int\n",
    "\n",
    "data = wave_manipulator.create_dataframe(p_wav, restructure)\n",
    "\n"
   ]
  },
  {
   "cell_type": "code",
   "execution_count": 4,
   "metadata": {},
   "outputs": [],
   "source": [
    "data.to_pickle(p_home / (Dataset + '.pkl'))"
   ]
  },
  {
   "cell_type": "markdown",
   "metadata": {},
   "source": [
    "### Train test split"
   ]
  },
  {
   "cell_type": "code",
   "execution_count": 5,
   "metadata": {},
   "outputs": [],
   "source": [
    "X_train, X_test, = train_test_split(data, test_size=0.3, stratify=data['labels'])\n",
    "X_train.to_pickle(p_home / (Dataset + '_train.pkl'))\n",
    "X_test.to_pickle(p_home / (Dataset + '_test.pkl'))\n",
    "count, dict_ = wave_manipulator.analyze(X_train)"
   ]
  },
  {
   "cell_type": "code",
   "execution_count": 6,
   "metadata": {},
   "outputs": [
    {
     "data": {
      "text/plain": [
       "{'Double Bass': 0,\n",
       " 'Bass Clarinet': 1,\n",
       " 'Guitar': 2,\n",
       " 'Eb Clarinet': 3,\n",
       " 'Flute': 4,\n",
       " 'Horn': 5,\n",
       " 'Piano': 6,\n",
       " 'Eb Alto Saxophone': 7,\n",
       " 'Violin': 8,\n",
       " 'Bb Clarinet': 9,\n",
       " 'Tenor Trombone': 10,\n",
       " 'Tuba': 11,\n",
       " 'Bassoon': 12,\n",
       " 'Viola': 13,\n",
       " 'Bb Soprano Saxophone': 14,\n",
       " 'Bass Flute': 15,\n",
       " 'Oboe': 16,\n",
       " 'Bb Trumpet': 17,\n",
       " 'Cello': 18,\n",
       " 'noise': 19,\n",
       " 'Alto Flute': 20,\n",
       " 'Bass Trombone': 21}"
      ]
     },
     "execution_count": 6,
     "metadata": {},
     "output_type": "execute_result"
    }
   ],
   "source": [
    "labeldict"
   ]
  },
  {
   "cell_type": "code",
   "execution_count": 7,
   "metadata": {},
   "outputs": [
    {
     "data": {
      "text/html": [
       "<div>\n",
       "<style scoped>\n",
       "    .dataframe tbody tr th:only-of-type {\n",
       "        vertical-align: middle;\n",
       "    }\n",
       "\n",
       "    .dataframe tbody tr th {\n",
       "        vertical-align: top;\n",
       "    }\n",
       "\n",
       "    .dataframe thead th {\n",
       "        text-align: right;\n",
       "    }\n",
       "</style>\n",
       "<table border=\"1\" class=\"dataframe\">\n",
       "  <thead>\n",
       "    <tr style=\"text-align: right;\">\n",
       "      <th></th>\n",
       "      <th>Label</th>\n",
       "      <th>Instrument</th>\n",
       "      <th>Nos</th>\n",
       "    </tr>\n",
       "  </thead>\n",
       "  <tbody>\n",
       "    <tr>\n",
       "      <th>0</th>\n",
       "      <td>0</td>\n",
       "      <td>Double Bass</td>\n",
       "      <td>163</td>\n",
       "    </tr>\n",
       "    <tr>\n",
       "      <th>1</th>\n",
       "      <td>1</td>\n",
       "      <td>Bass Clarinet</td>\n",
       "      <td>129</td>\n",
       "    </tr>\n",
       "    <tr>\n",
       "      <th>2</th>\n",
       "      <td>2</td>\n",
       "      <td>Guitar</td>\n",
       "      <td>515</td>\n",
       "    </tr>\n",
       "    <tr>\n",
       "      <th>3</th>\n",
       "      <td>3</td>\n",
       "      <td>Eb Clarinet</td>\n",
       "      <td>111</td>\n",
       "    </tr>\n",
       "    <tr>\n",
       "      <th>4</th>\n",
       "      <td>4</td>\n",
       "      <td>Flute</td>\n",
       "      <td>212</td>\n",
       "    </tr>\n",
       "    <tr>\n",
       "      <th>5</th>\n",
       "      <td>5</td>\n",
       "      <td>Horn</td>\n",
       "      <td>98</td>\n",
       "    </tr>\n",
       "    <tr>\n",
       "      <th>8</th>\n",
       "      <td>6</td>\n",
       "      <td>Piano</td>\n",
       "      <td>144</td>\n",
       "    </tr>\n",
       "    <tr>\n",
       "      <th>6</th>\n",
       "      <td>7</td>\n",
       "      <td>Eb Alto Saxophone</td>\n",
       "      <td>179</td>\n",
       "    </tr>\n",
       "    <tr>\n",
       "      <th>7</th>\n",
       "      <td>8</td>\n",
       "      <td>Violin</td>\n",
       "      <td>227</td>\n",
       "    </tr>\n",
       "    <tr>\n",
       "      <th>9</th>\n",
       "      <td>9</td>\n",
       "      <td>Bb Clarinet</td>\n",
       "      <td>130</td>\n",
       "    </tr>\n",
       "    <tr>\n",
       "      <th>10</th>\n",
       "      <td>10</td>\n",
       "      <td>Tenor Trombone</td>\n",
       "      <td>92</td>\n",
       "    </tr>\n",
       "    <tr>\n",
       "      <th>11</th>\n",
       "      <td>11</td>\n",
       "      <td>Tuba</td>\n",
       "      <td>78</td>\n",
       "    </tr>\n",
       "    <tr>\n",
       "      <th>12</th>\n",
       "      <td>12</td>\n",
       "      <td>Bassoon</td>\n",
       "      <td>113</td>\n",
       "    </tr>\n",
       "    <tr>\n",
       "      <th>13</th>\n",
       "      <td>13</td>\n",
       "      <td>Viola</td>\n",
       "      <td>213</td>\n",
       "    </tr>\n",
       "    <tr>\n",
       "      <th>14</th>\n",
       "      <td>14</td>\n",
       "      <td>Bb Soprano Saxophone</td>\n",
       "      <td>179</td>\n",
       "    </tr>\n",
       "    <tr>\n",
       "      <th>15</th>\n",
       "      <td>15</td>\n",
       "      <td>Bass Flute</td>\n",
       "      <td>98</td>\n",
       "    </tr>\n",
       "    <tr>\n",
       "      <th>16</th>\n",
       "      <td>16</td>\n",
       "      <td>Oboe</td>\n",
       "      <td>96</td>\n",
       "    </tr>\n",
       "    <tr>\n",
       "      <th>17</th>\n",
       "      <td>17</td>\n",
       "      <td>Bb Trumpet</td>\n",
       "      <td>198</td>\n",
       "    </tr>\n",
       "    <tr>\n",
       "      <th>18</th>\n",
       "      <td>18</td>\n",
       "      <td>Cello</td>\n",
       "      <td>613</td>\n",
       "    </tr>\n",
       "    <tr>\n",
       "      <th>19</th>\n",
       "      <td>19</td>\n",
       "      <td>noise</td>\n",
       "      <td>4138</td>\n",
       "    </tr>\n",
       "    <tr>\n",
       "      <th>20</th>\n",
       "      <td>20</td>\n",
       "      <td>Alto Flute</td>\n",
       "      <td>95</td>\n",
       "    </tr>\n",
       "    <tr>\n",
       "      <th>21</th>\n",
       "      <td>21</td>\n",
       "      <td>Bass Trombone</td>\n",
       "      <td>103</td>\n",
       "    </tr>\n",
       "  </tbody>\n",
       "</table>\n",
       "</div>"
      ],
      "text/plain": [
       "    Label            Instrument   Nos\n",
       "0       0           Double Bass   163\n",
       "1       1         Bass Clarinet   129\n",
       "2       2                Guitar   515\n",
       "3       3           Eb Clarinet   111\n",
       "4       4                 Flute   212\n",
       "5       5                  Horn    98\n",
       "8       6                 Piano   144\n",
       "6       7     Eb Alto Saxophone   179\n",
       "7       8                Violin   227\n",
       "9       9           Bb Clarinet   130\n",
       "10     10        Tenor Trombone    92\n",
       "11     11                  Tuba    78\n",
       "12     12               Bassoon   113\n",
       "13     13                 Viola   213\n",
       "14     14  Bb Soprano Saxophone   179\n",
       "15     15            Bass Flute    98\n",
       "16     16                  Oboe    96\n",
       "17     17            Bb Trumpet   198\n",
       "18     18                 Cello   613\n",
       "19     19                 noise  4138\n",
       "20     20            Alto Flute    95\n",
       "21     21         Bass Trombone   103"
      ]
     },
     "execution_count": 7,
     "metadata": {},
     "output_type": "execute_result"
    }
   ],
   "source": [
    "count.sort_values(by='Label')"
   ]
  },
  {
   "cell_type": "markdown",
   "metadata": {},
   "source": [
    "# UIOWA match IRMAS\n",
    "___"
   ]
  },
  {
   "cell_type": "code",
   "execution_count": 8,
   "metadata": {},
   "outputs": [],
   "source": [
    "Dataset = 'UIOWA_Data_match_IRMAS'"
   ]
  },
  {
   "cell_type": "markdown",
   "metadata": {},
   "source": [
    "### Create"
   ]
  },
  {
   "cell_type": "code",
   "execution_count": 9,
   "metadata": {},
   "outputs": [],
   "source": [
    "structure = pd.read_pickle(p_home / 'UIOWA_Structure.pkl')\n",
    "\n",
    "\n",
    "instrument = []\n",
    "Label = []\n",
    "Label_int = []\n",
    "restructure = structure.copy()\n",
    "\n",
    "for index, row in restructure.iterrows():\n",
    "    direc = row.Directory\n",
    "    inst = direc.split('][')[2]\n",
    "    if 'Pizzicato' in direc:\n",
    "        Label.append('noise')\n",
    "        instrument.append('various')\n",
    "        Label_int.append(0)\n",
    "    elif 'Percussion' in direc:\n",
    "        Label.append('noise')\n",
    "        instrument.append('various')\n",
    "        Label_int.append(0)\n",
    "    elif 'Trumpet' in direc:\n",
    "        instrument.append(inst)\n",
    "        Label.append('Trumpet')\n",
    "        Label_int.append(8)\n",
    "    elif 'Guitar' in direc:\n",
    "        instrument.append(inst)\n",
    "        Label.append('Guitar')\n",
    "        Label_int.append(3)\n",
    "    elif 'Piano' in direc:\n",
    "        instrument.append(inst)\n",
    "        Label.append('Piano')\n",
    "        Label_int.append(6)\n",
    "    elif 'Clarinet' in direc:\n",
    "        instrument.append(inst)\n",
    "        Label.append('Clarinet')\n",
    "        Label_int.append(1)\n",
    "    elif 'Saxophone' in direc:\n",
    "        instrument.append(inst)\n",
    "        Label.append('Saxophone')\n",
    "        Label_int.append(7)\n",
    "    elif 'Violin' in direc:\n",
    "        instrument.append(inst)\n",
    "        Label.append('Violine')\n",
    "        Label_int.append(5)\n",
    "    elif 'Flute' in direc:\n",
    "        instrument.append(inst)\n",
    "        Label.append('Flute')\n",
    "        Label_int.append(2)\n",
    "    elif 'Cello' in direc:\n",
    "        instrument.append(inst)\n",
    "        Label.append('Cello')\n",
    "        Label_int.append(4)\n",
    "        \n",
    "    else:\n",
    "        Label.append('noise')\n",
    "        instrument.append('various')\n",
    "        Label_int.append(0)\n",
    "restructure['Label'] = Label\n",
    "restructure['tags'] = instrument\n",
    "restructure['Label_int'] = Label_int\n",
    "\n",
    "\n",
    "data = wave_manipulator.create_dataframe(p_wav, restructure)"
   ]
  },
  {
   "cell_type": "code",
   "execution_count": 10,
   "metadata": {},
   "outputs": [],
   "source": [
    "data.to_pickle(p_home / (Dataset + '.pkl'))"
   ]
  },
  {
   "cell_type": "code",
   "execution_count": 11,
   "metadata": {},
   "outputs": [],
   "source": [
    "data = pd.read_pickle(p_home / (Dataset + '.pkl'))\n",
    "overview, labeldict = wave_manipulator.analyze(data)"
   ]
  },
  {
   "cell_type": "markdown",
   "metadata": {},
   "source": [
    "### Train test split\n",
    "___"
   ]
  },
  {
   "cell_type": "code",
   "execution_count": 12,
   "metadata": {},
   "outputs": [],
   "source": [
    "X_train, X_test, = train_test_split(data, test_size=0.3, stratify=data['labels'])\n",
    "X_train.to_pickle(p_home / (Dataset + '_train.pkl'))\n",
    "X_test.to_pickle(p_home / (Dataset + '_test.pkl'))\n",
    "count, dict_ = wave_manipulator.analyze(X_train)"
   ]
  },
  {
   "cell_type": "code",
   "execution_count": 13,
   "metadata": {},
   "outputs": [
    {
     "data": {
      "text/html": [
       "<div>\n",
       "<style scoped>\n",
       "    .dataframe tbody tr th:only-of-type {\n",
       "        vertical-align: middle;\n",
       "    }\n",
       "\n",
       "    .dataframe tbody tr th {\n",
       "        vertical-align: top;\n",
       "    }\n",
       "\n",
       "    .dataframe thead th {\n",
       "        text-align: right;\n",
       "    }\n",
       "</style>\n",
       "<table border=\"1\" class=\"dataframe\">\n",
       "  <thead>\n",
       "    <tr style=\"text-align: right;\">\n",
       "      <th></th>\n",
       "      <th>Label</th>\n",
       "      <th>Instrument</th>\n",
       "      <th>Nos</th>\n",
       "    </tr>\n",
       "  </thead>\n",
       "  <tbody>\n",
       "    <tr>\n",
       "      <th>6</th>\n",
       "      <td>0</td>\n",
       "      <td>various</td>\n",
       "      <td>5093</td>\n",
       "    </tr>\n",
       "    <tr>\n",
       "      <th>0</th>\n",
       "      <td>1</td>\n",
       "      <td>Bass Clarinet</td>\n",
       "      <td>115</td>\n",
       "    </tr>\n",
       "    <tr>\n",
       "      <th>10</th>\n",
       "      <td>1</td>\n",
       "      <td>Bb Clarinet</td>\n",
       "      <td>132</td>\n",
       "    </tr>\n",
       "    <tr>\n",
       "      <th>11</th>\n",
       "      <td>1</td>\n",
       "      <td>Eb Clarinet</td>\n",
       "      <td>123</td>\n",
       "    </tr>\n",
       "    <tr>\n",
       "      <th>3</th>\n",
       "      <td>2</td>\n",
       "      <td>Flute</td>\n",
       "      <td>216</td>\n",
       "    </tr>\n",
       "    <tr>\n",
       "      <th>9</th>\n",
       "      <td>2</td>\n",
       "      <td>Alto Flute</td>\n",
       "      <td>89</td>\n",
       "    </tr>\n",
       "    <tr>\n",
       "      <th>13</th>\n",
       "      <td>2</td>\n",
       "      <td>Bass Flute</td>\n",
       "      <td>100</td>\n",
       "    </tr>\n",
       "    <tr>\n",
       "      <th>4</th>\n",
       "      <td>3</td>\n",
       "      <td>Guitar</td>\n",
       "      <td>515</td>\n",
       "    </tr>\n",
       "    <tr>\n",
       "      <th>2</th>\n",
       "      <td>4</td>\n",
       "      <td>Cello</td>\n",
       "      <td>613</td>\n",
       "    </tr>\n",
       "    <tr>\n",
       "      <th>7</th>\n",
       "      <td>5</td>\n",
       "      <td>Violin</td>\n",
       "      <td>228</td>\n",
       "    </tr>\n",
       "    <tr>\n",
       "      <th>8</th>\n",
       "      <td>6</td>\n",
       "      <td>Piano</td>\n",
       "      <td>144</td>\n",
       "    </tr>\n",
       "    <tr>\n",
       "      <th>5</th>\n",
       "      <td>7</td>\n",
       "      <td>Eb Alto Saxophone</td>\n",
       "      <td>183</td>\n",
       "    </tr>\n",
       "    <tr>\n",
       "      <th>12</th>\n",
       "      <td>7</td>\n",
       "      <td>Bb Soprano Saxophone</td>\n",
       "      <td>175</td>\n",
       "    </tr>\n",
       "    <tr>\n",
       "      <th>1</th>\n",
       "      <td>8</td>\n",
       "      <td>Bb Trumpet</td>\n",
       "      <td>198</td>\n",
       "    </tr>\n",
       "  </tbody>\n",
       "</table>\n",
       "</div>"
      ],
      "text/plain": [
       "    Label            Instrument   Nos\n",
       "6       0               various  5093\n",
       "0       1         Bass Clarinet   115\n",
       "10      1           Bb Clarinet   132\n",
       "11      1           Eb Clarinet   123\n",
       "3       2                 Flute   216\n",
       "9       2            Alto Flute    89\n",
       "13      2            Bass Flute   100\n",
       "4       3                Guitar   515\n",
       "2       4                 Cello   613\n",
       "7       5                Violin   228\n",
       "8       6                 Piano   144\n",
       "5       7     Eb Alto Saxophone   183\n",
       "12      7  Bb Soprano Saxophone   175\n",
       "1       8            Bb Trumpet   198"
      ]
     },
     "execution_count": 13,
     "metadata": {},
     "output_type": "execute_result"
    }
   ],
   "source": [
    "count.sort_values(by='Label')"
   ]
  },
  {
   "cell_type": "markdown",
   "metadata": {},
   "source": [
    "# UIOWA only top class\n",
    "___"
   ]
  },
  {
   "cell_type": "code",
   "execution_count": 14,
   "metadata": {},
   "outputs": [],
   "source": [
    "Dataset = 'UIOWA_Data_Topclass'"
   ]
  },
  {
   "cell_type": "code",
   "execution_count": 15,
   "metadata": {},
   "outputs": [],
   "source": [
    "structure = pd.read_pickle(p_home / 'UIOWA_Structure.pkl')\n",
    "\n",
    "instrument = []\n",
    "Label_int = []\n",
    "Label = []\n",
    "\n",
    "restructure = structure.copy()\n",
    "\n",
    "for index, row in restructure.iterrows():\n",
    "    direc = row.Directory\n",
    "    inst = direc.split('][')[2]\n",
    "    types = direc.split('][')[1]\n",
    "    if 'Pizzicato' in direc:\n",
    "        instrument.append('various')\n",
    "        Label.append('noise')\n",
    "    elif 'Percussion' in direc:\n",
    "        instrument.append('various')\n",
    "        Label.append('noise')\n",
    "    else:\n",
    "        instrument.append(inst)\n",
    "        Label.append(types)\n",
    "\n",
    "restructure['tags'] = Label\n",
    "restructure['Label'] = instrument\n",
    "\n",
    "key = set(Label)\n",
    "labeldict = {i[1] : i[0] for i in enumerate(key)}\n",
    "\n",
    "\n",
    "for index, row in restructure.iterrows():\n",
    "    Label_int.append(labeldict[row.tags])\n",
    "restructure['Label_int'] = Label_int\n",
    "\n",
    "data = wave_manipulator.create_dataframe(p_wav, restructure)\n",
    "\n"
   ]
  },
  {
   "cell_type": "code",
   "execution_count": 16,
   "metadata": {},
   "outputs": [],
   "source": [
    "data.to_pickle(p_home / (Dataset + '.pkl'))"
   ]
  },
  {
   "cell_type": "code",
   "execution_count": 19,
   "metadata": {},
   "outputs": [],
   "source": [
    "data = pd.read_pickle(p_home / 'UIOWA_Data_Topclass.pkl')\n",
    "overview, labeldict = wave_manipulator.analyze(data)"
   ]
  },
  {
   "cell_type": "code",
   "execution_count": 20,
   "metadata": {},
   "outputs": [
    {
     "data": {
      "text/html": [
       "<div>\n",
       "<style scoped>\n",
       "    .dataframe tbody tr th:only-of-type {\n",
       "        vertical-align: middle;\n",
       "    }\n",
       "\n",
       "    .dataframe tbody tr th {\n",
       "        vertical-align: top;\n",
       "    }\n",
       "\n",
       "    .dataframe thead th {\n",
       "        text-align: right;\n",
       "    }\n",
       "</style>\n",
       "<table border=\"1\" class=\"dataframe\">\n",
       "  <thead>\n",
       "    <tr style=\"text-align: right;\">\n",
       "      <th></th>\n",
       "      <th>Label</th>\n",
       "      <th>Instrument</th>\n",
       "      <th>Nos</th>\n",
       "    </tr>\n",
       "  </thead>\n",
       "  <tbody>\n",
       "    <tr>\n",
       "      <th>0</th>\n",
       "      <td>0</td>\n",
       "      <td>Brass</td>\n",
       "      <td>812</td>\n",
       "    </tr>\n",
       "    <tr>\n",
       "      <th>1</th>\n",
       "      <td>1</td>\n",
       "      <td>Woodwinds</td>\n",
       "      <td>1917</td>\n",
       "    </tr>\n",
       "    <tr>\n",
       "      <th>2</th>\n",
       "      <td>2</td>\n",
       "      <td>noise</td>\n",
       "      <td>5912</td>\n",
       "    </tr>\n",
       "    <tr>\n",
       "      <th>3</th>\n",
       "      <td>3</td>\n",
       "      <td>Guitar</td>\n",
       "      <td>736</td>\n",
       "    </tr>\n",
       "    <tr>\n",
       "      <th>4</th>\n",
       "      <td>4</td>\n",
       "      <td>Piano</td>\n",
       "      <td>206</td>\n",
       "    </tr>\n",
       "    <tr>\n",
       "      <th>5</th>\n",
       "      <td>5</td>\n",
       "      <td>Strings</td>\n",
       "      <td>1738</td>\n",
       "    </tr>\n",
       "  </tbody>\n",
       "</table>\n",
       "</div>"
      ],
      "text/plain": [
       "   Label Instrument   Nos\n",
       "0      0      Brass   812\n",
       "1      1  Woodwinds  1917\n",
       "2      2      noise  5912\n",
       "3      3     Guitar   736\n",
       "4      4      Piano   206\n",
       "5      5    Strings  1738"
      ]
     },
     "execution_count": 20,
     "metadata": {},
     "output_type": "execute_result"
    }
   ],
   "source": [
    "overview.sort_values(by='Label')"
   ]
  },
  {
   "cell_type": "markdown",
   "metadata": {},
   "source": [
    "### Train test split\n",
    "___"
   ]
  },
  {
   "cell_type": "code",
   "execution_count": 21,
   "metadata": {},
   "outputs": [],
   "source": [
    "X_train, X_test, = train_test_split(data, test_size=0.3, stratify=data['labels'])\n",
    "X_train.to_pickle(p_home / (Dataset + '_train.pkl'))\n",
    "X_test.to_pickle(p_home / (Dataset + '_test.pkl'))\n",
    "count, dict_ = wave_manipulator.analyze(X_train)"
   ]
  },
  {
   "cell_type": "code",
   "execution_count": 22,
   "metadata": {},
   "outputs": [
    {
     "data": {
      "text/html": [
       "<div>\n",
       "<style scoped>\n",
       "    .dataframe tbody tr th:only-of-type {\n",
       "        vertical-align: middle;\n",
       "    }\n",
       "\n",
       "    .dataframe tbody tr th {\n",
       "        vertical-align: top;\n",
       "    }\n",
       "\n",
       "    .dataframe thead th {\n",
       "        text-align: right;\n",
       "    }\n",
       "</style>\n",
       "<table border=\"1\" class=\"dataframe\">\n",
       "  <thead>\n",
       "    <tr style=\"text-align: right;\">\n",
       "      <th></th>\n",
       "      <th>Label</th>\n",
       "      <th>Instrument</th>\n",
       "      <th>Nos</th>\n",
       "    </tr>\n",
       "  </thead>\n",
       "  <tbody>\n",
       "    <tr>\n",
       "      <th>0</th>\n",
       "      <td>0</td>\n",
       "      <td>Brass</td>\n",
       "      <td>568</td>\n",
       "    </tr>\n",
       "    <tr>\n",
       "      <th>1</th>\n",
       "      <td>1</td>\n",
       "      <td>Woodwinds</td>\n",
       "      <td>1342</td>\n",
       "    </tr>\n",
       "    <tr>\n",
       "      <th>2</th>\n",
       "      <td>2</td>\n",
       "      <td>noise</td>\n",
       "      <td>4138</td>\n",
       "    </tr>\n",
       "    <tr>\n",
       "      <th>3</th>\n",
       "      <td>3</td>\n",
       "      <td>Guitar</td>\n",
       "      <td>515</td>\n",
       "    </tr>\n",
       "    <tr>\n",
       "      <th>4</th>\n",
       "      <td>4</td>\n",
       "      <td>Piano</td>\n",
       "      <td>144</td>\n",
       "    </tr>\n",
       "    <tr>\n",
       "      <th>5</th>\n",
       "      <td>5</td>\n",
       "      <td>Strings</td>\n",
       "      <td>1217</td>\n",
       "    </tr>\n",
       "  </tbody>\n",
       "</table>\n",
       "</div>"
      ],
      "text/plain": [
       "   Label Instrument   Nos\n",
       "0      0      Brass   568\n",
       "1      1  Woodwinds  1342\n",
       "2      2      noise  4138\n",
       "3      3     Guitar   515\n",
       "4      4      Piano   144\n",
       "5      5    Strings  1217"
      ]
     },
     "execution_count": 22,
     "metadata": {},
     "output_type": "execute_result"
    }
   ],
   "source": [
    "count.sort_values(by='Label')"
   ]
  },
  {
   "cell_type": "code",
   "execution_count": 23,
   "metadata": {},
   "outputs": [
    {
     "data": {
      "text/html": [
       "<div>\n",
       "<style scoped>\n",
       "    .dataframe tbody tr th:only-of-type {\n",
       "        vertical-align: middle;\n",
       "    }\n",
       "\n",
       "    .dataframe tbody tr th {\n",
       "        vertical-align: top;\n",
       "    }\n",
       "\n",
       "    .dataframe thead th {\n",
       "        text-align: right;\n",
       "    }\n",
       "</style>\n",
       "<table border=\"1\" class=\"dataframe\">\n",
       "  <thead>\n",
       "    <tr style=\"text-align: right;\">\n",
       "      <th></th>\n",
       "      <th>Label</th>\n",
       "      <th>Instrument</th>\n",
       "      <th>Nos</th>\n",
       "    </tr>\n",
       "  </thead>\n",
       "  <tbody>\n",
       "    <tr>\n",
       "      <th>0</th>\n",
       "      <td>0</td>\n",
       "      <td>Brass</td>\n",
       "      <td>244</td>\n",
       "    </tr>\n",
       "    <tr>\n",
       "      <th>1</th>\n",
       "      <td>1</td>\n",
       "      <td>Woodwinds</td>\n",
       "      <td>575</td>\n",
       "    </tr>\n",
       "    <tr>\n",
       "      <th>2</th>\n",
       "      <td>2</td>\n",
       "      <td>noise</td>\n",
       "      <td>1774</td>\n",
       "    </tr>\n",
       "    <tr>\n",
       "      <th>3</th>\n",
       "      <td>3</td>\n",
       "      <td>Guitar</td>\n",
       "      <td>221</td>\n",
       "    </tr>\n",
       "    <tr>\n",
       "      <th>4</th>\n",
       "      <td>4</td>\n",
       "      <td>Piano</td>\n",
       "      <td>62</td>\n",
       "    </tr>\n",
       "    <tr>\n",
       "      <th>5</th>\n",
       "      <td>5</td>\n",
       "      <td>Strings</td>\n",
       "      <td>521</td>\n",
       "    </tr>\n",
       "  </tbody>\n",
       "</table>\n",
       "</div>"
      ],
      "text/plain": [
       "   Label Instrument   Nos\n",
       "0      0      Brass   244\n",
       "1      1  Woodwinds   575\n",
       "2      2      noise  1774\n",
       "3      3     Guitar   221\n",
       "4      4      Piano    62\n",
       "5      5    Strings   521"
      ]
     },
     "execution_count": 23,
     "metadata": {},
     "output_type": "execute_result"
    }
   ],
   "source": [
    "count, dict_ = wave_manipulator.analyze(X_test)\n",
    "count.sort_values(by='Label')"
   ]
  },
  {
   "cell_type": "code",
   "execution_count": 13,
   "metadata": {},
   "outputs": [],
   "source": [
    "structure = pd.read_pickle(p_home / 'UIOWA_Structure.pkl')"
   ]
  },
  {
   "cell_type": "code",
   "execution_count": 14,
   "metadata": {},
   "outputs": [
    {
     "data": {
      "text/html": [
       "<div>\n",
       "<style scoped>\n",
       "    .dataframe tbody tr th:only-of-type {\n",
       "        vertical-align: middle;\n",
       "    }\n",
       "\n",
       "    .dataframe tbody tr th {\n",
       "        vertical-align: top;\n",
       "    }\n",
       "\n",
       "    .dataframe thead th {\n",
       "        text-align: right;\n",
       "    }\n",
       "</style>\n",
       "<table border=\"1\" class=\"dataframe\">\n",
       "  <thead>\n",
       "    <tr style=\"text-align: right;\">\n",
       "      <th></th>\n",
       "      <th>Directory</th>\n",
       "      <th>Nos</th>\n",
       "    </tr>\n",
       "  </thead>\n",
       "  <tbody>\n",
       "    <tr>\n",
       "      <th>0</th>\n",
       "      <td>[UIOWA][Piano][Piano][unused]</td>\n",
       "      <td>206</td>\n",
       "    </tr>\n",
       "    <tr>\n",
       "      <th>1</th>\n",
       "      <td>[UIOWA][Guitar][Guitar][unused]</td>\n",
       "      <td>736</td>\n",
       "    </tr>\n",
       "    <tr>\n",
       "      <th>2</th>\n",
       "      <td>[UIOWA][Strings][Viola][Arco]</td>\n",
       "      <td>304</td>\n",
       "    </tr>\n",
       "    <tr>\n",
       "      <th>3</th>\n",
       "      <td>[UIOWA][Strings][Viola][Pizzicato]</td>\n",
       "      <td>781</td>\n",
       "    </tr>\n",
       "    <tr>\n",
       "      <th>4</th>\n",
       "      <td>[UIOWA][Strings][Violin][Pizzicato]</td>\n",
       "      <td>643</td>\n",
       "    </tr>\n",
       "    <tr>\n",
       "      <th>...</th>\n",
       "      <td>...</td>\n",
       "      <td>...</td>\n",
       "    </tr>\n",
       "    <tr>\n",
       "      <th>59</th>\n",
       "      <td>[UIOWA][Percussion][Xylophone][Xylophone]</td>\n",
       "      <td>119</td>\n",
       "    </tr>\n",
       "    <tr>\n",
       "      <th>60</th>\n",
       "      <td>[UIOWA][Percussion][Xylophone][unused]</td>\n",
       "      <td>380</td>\n",
       "    </tr>\n",
       "    <tr>\n",
       "      <th>61</th>\n",
       "      <td>[UIOWA][Strings][Cello][Arco]</td>\n",
       "      <td>876</td>\n",
       "    </tr>\n",
       "    <tr>\n",
       "      <th>62</th>\n",
       "      <td>[UIOWA][Strings][Cello][Pizzicato]</td>\n",
       "      <td>1081</td>\n",
       "    </tr>\n",
       "    <tr>\n",
       "      <th>63</th>\n",
       "      <td>[UIOWA][Brass][Horn][unused]</td>\n",
       "      <td>140</td>\n",
       "    </tr>\n",
       "  </tbody>\n",
       "</table>\n",
       "<p>64 rows × 2 columns</p>\n",
       "</div>"
      ],
      "text/plain": [
       "                                    Directory   Nos\n",
       "0               [UIOWA][Piano][Piano][unused]   206\n",
       "1             [UIOWA][Guitar][Guitar][unused]   736\n",
       "2               [UIOWA][Strings][Viola][Arco]   304\n",
       "3          [UIOWA][Strings][Viola][Pizzicato]   781\n",
       "4         [UIOWA][Strings][Violin][Pizzicato]   643\n",
       "..                                        ...   ...\n",
       "59  [UIOWA][Percussion][Xylophone][Xylophone]   119\n",
       "60     [UIOWA][Percussion][Xylophone][unused]   380\n",
       "61              [UIOWA][Strings][Cello][Arco]   876\n",
       "62         [UIOWA][Strings][Cello][Pizzicato]  1081\n",
       "63               [UIOWA][Brass][Horn][unused]   140\n",
       "\n",
       "[64 rows x 2 columns]"
      ]
     },
     "execution_count": 14,
     "metadata": {},
     "output_type": "execute_result"
    }
   ],
   "source": [
    "structure"
   ]
  },
  {
   "cell_type": "code",
   "execution_count": null,
   "metadata": {},
   "outputs": [],
   "source": []
  }
 ],
 "metadata": {
  "kernelspec": {
   "display_name": "dsr",
   "language": "python",
   "name": "dsr"
  },
  "language_info": {
   "codemirror_mode": {
    "name": "ipython",
    "version": 3
   },
   "file_extension": ".py",
   "mimetype": "text/x-python",
   "name": "python",
   "nbconvert_exporter": "python",
   "pygments_lexer": "ipython3",
   "version": "3.6.9"
  }
 },
 "nbformat": 4,
 "nbformat_minor": 4
}
