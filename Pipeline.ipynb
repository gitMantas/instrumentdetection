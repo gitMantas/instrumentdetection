{
 "cells": [
  {
   "cell_type": "code",
   "execution_count": 26,
   "metadata": {},
   "outputs": [],
   "source": [
    "sample = data['raw_sounds'].iloc[1]"
   ]
  },
  {
   "cell_type": "code",
   "execution_count": 27,
   "metadata": {},
   "outputs": [
    {
     "data": {
      "text/plain": [
       "(132299,)"
      ]
     },
     "execution_count": 27,
     "metadata": {},
     "output_type": "execute_result"
    }
   ],
   "source": [
    "sample.shape"
   ]
  },
  {
   "cell_type": "code",
   "execution_count": 37,
   "metadata": {},
   "outputs": [],
   "source": [
    "from audiomentations import Compose, AddGaussianNoise, TimeStretch, PitchShift, Shift\n",
    "from wave_manipulator import sound_augmenter\n",
    "from feature_generator import create_feature\n",
    "\n",
    "# Any Waveformmanipulation as per Audiomentations, if you want to use change of loudness set loudad=True\n",
    "augmenter_2 = Compose([\n",
    "    #AddGaussianNoise(min_amplitude=0.001, max_amplitude=0.015, p=0.5),\n",
    "    #TimeStretch(min_rate=0.8, max_rate=1.25, p=1),\n",
    "    #PitchShift(min_semitones=-4, max_semitones=4, p=0.5),\n",
    "    Shift(min_fraction=-0.1, max_fraction=0.5, p=1, rollover=False),\n",
    "])\n",
    "\n",
    "augment = {'Name' : 'Shift','augmenter':augmenter_2, 'sr':44100 , 'loudad':False, 'min_loud':0.2, 'max_loud':0.8}"
   ]
  },
  {
   "cell_type": "code",
   "execution_count": 35,
   "metadata": {},
   "outputs": [],
   "source": [
    "sound = sound_augmenter(sample, augment)"
   ]
  },
  {
   "cell_type": "code",
   "execution_count": 24,
   "metadata": {},
   "outputs": [
    {
     "name": "stdout",
     "output_type": "stream",
     "text": [
      "Returning only the unmodified time samples, according sampling rate\n",
      "Hop_length:  1024\n",
      "Sampling Rate: 22050\n",
      "Shape of Feature:  [66149, 1]\n"
     ]
    }
   ],
   "source": [
    "sound = create_feature(sound, param_file = 'Time_22050_1.txt')"
   ]
  }
 ],
 "metadata": {
  "kernelspec": {
   "display_name": "dsr",
   "language": "python",
   "name": "dsr"
  },
  "language_info": {
   "codemirror_mode": {
    "name": "ipython",
    "version": 3
   },
   "file_extension": ".py",
   "mimetype": "text/x-python",
   "name": "python",
   "nbconvert_exporter": "python",
   "pygments_lexer": "ipython3",
   "version": "3.6.9"
  }
 },
 "nbformat": 4,
 "nbformat_minor": 4
}
