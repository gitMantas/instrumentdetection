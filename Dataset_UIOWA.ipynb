{
 "cells": [
  {
   "cell_type": "code",
   "execution_count": 9,
   "metadata": {},
   "outputs": [],
   "source": [
    "import pandas as pd\n",
    "import numpy as np\n",
    "import os, pathlib\n",
    "import librosa\n",
    "from pathlib import Path\n",
    "import glob\n",
    "import pickle\n",
    "import shutil\n",
    "import datetime\n",
    "import wave_manipulator\n",
    "\n",
    "p_home = Path.cwd() / 'data'\n",
    "p_temp1 = Path.cwd() / 'data' / 'UIOWA' / 'tmp1'\n",
    "p_temp2 = Path.cwd() / 'data' / 'UIOWA' / 'tmp2'\n",
    "p_wav = Path.cwd() / 'data' / 'UIOWA' / 'wav'\n",
    "p_data = '/home/mirko/Documents/data/UIOWA/**'\n",
    "\n",
    "working_direcs = [p_temp1, p_wav, p_temp2]\n",
    "for direc in working_direcs:\n",
    "    if not os.path.exists(direc):\n",
    "        os.makedirs(direc) \n",
    "\n"
   ]
  },
  {
   "cell_type": "markdown",
   "metadata": {},
   "source": [
    "### Define Parameters for Instruments\n",
    "___"
   ]
  },
  {
   "cell_type": "code",
   "execution_count": 2,
   "metadata": {},
   "outputs": [],
   "source": [
    "Instruments = {'Piano' : ['skip', 0.0, 0, 0], 'Guitar' : ['run', 0.1, 20, 33000], 'Viola' : ['run', 0.1, 20, 25000],\n",
    "         'Violin' : ['run', 0.1, 20, 25000], 'Double Bass' : ['run', 0.1, 20, 25000], 'Cymbals' : ['skip', 0.0, 0, 0],\n",
    "         'Oboe' : ['run', 0.01, 20, 22000], 'Bass Clarinet' : ['run', 0.01, 20, 22000], 'Bass Flute' : ['run', 0.01, 20, 22000],\n",
    "         'Bb Clarinet' : ['run', 0.01, 20, 22000], 'Eb Alto Saxophone' : ['run', 0.01, 20, 22000], 'Alto Flute' : ['run', 0.01, 20, 22000],\n",
    "         'Flute' : ['run', 0.01, 20, 44000], 'Eb Clarinet' : ['run', 0.01, 20, 22000], 'Bb Soprano Saxophone' : ['run', 0.01, 20, 22000],\n",
    "         'Tuba' : ['run', 0.01, 20, 22000], 'Bass Trombone' : ['run', 0.01, 20, 22000], 'Tenor Trombone' : ['run', 0.01, 20, 22000],\n",
    "         'Bassoon' : ['run', 0.01, 20, 22000], 'Bb Trumpet' : ['run', 0.01, 20, 22000], 'Marimba' : ['run', 0.01, 20, 4000],\n",
    "         'Bells' : ['run', 0.01, 20, 4000], 'Crotales' : ['skip', 0.0, 0, 0], 'Cymbals' : ['skip', 0.0, 0, 0], 'Gongs' : ['skip', 0.0, 0, 0],\n",
    "         'Hand Percussion' : ['skip', 0.0, 0, 0], 'Tamtam' : ['skip', 0.0, 0, 0], 'Tambourines' : ['skip', 0.0, 0, 0],\n",
    "         'Vibraphone' : ['run', 0.01, 20, 34200], 'Xylophone' : ['run', 0.01, 20, 22000], 'Cello' : ['run', 0.1, 20, 25000], 'Horn' : ['run', 0.01, 20, 22000]\n",
    "        }"
   ]
  },
  {
   "cell_type": "code",
   "execution_count": 2,
   "metadata": {},
   "outputs": [],
   "source": [
    "# Instruments = {'Horn' : ['run', 0.01, 20, 22000]}"
   ]
  },
  {
   "cell_type": "markdown",
   "metadata": {},
   "source": [
    "### Read and structure raw files from disc\n",
    "___"
   ]
  },
  {
   "cell_type": "code",
   "execution_count": 6,
   "metadata": {},
   "outputs": [
    {
     "name": "stdout",
     "output_type": "stream",
     "text": [
      "17:29:55 : Creating Pandas Frame with path and labels\n"
     ]
    }
   ],
   "source": [
    "pathframe = wave_manipulator.create_pathfile(p_data) #Read the filestructure and dump to disc\n",
    "wave_manipulator.create_rawfiles2(pathframe, p_temp1)"
   ]
  },
  {
   "cell_type": "markdown",
   "metadata": {},
   "source": [
    "### Resample to target rate\n",
    "___"
   ]
  },
  {
   "cell_type": "code",
   "execution_count": 15,
   "metadata": {},
   "outputs": [],
   "source": [
    "for instrument, value in Instruments.items():\n",
    "    data = pd.read_pickle(p_temp1 / (instrument + '.pkl'))\n",
    "    data = wave_manipulator.resample2(data, sr=44100)\n",
    "    data.to_pickle(p_temp2 / (instrument + '.pkl'))"
   ]
  },
  {
   "cell_type": "markdown",
   "metadata": {},
   "source": [
    "### Slice and trim the takeouts\n",
    "___"
   ]
  },
  {
   "cell_type": "code",
   "execution_count": 16,
   "metadata": {},
   "outputs": [
    {
     "name": "stdout",
     "output_type": "stream",
     "text": [
      "Horn ['run', 0.01, 20, 22000]\n"
     ]
    }
   ],
   "source": [
    "\n",
    "for instrument, value in Instruments.items():\n",
    "    if value[0] == 'skip':\n",
    "        shutil.copyfile(p_temp2 / (instrument + '.pkl'), p_temp1 / (instrument + '.pkl'))\n",
    "    else:\n",
    "        print(instrument, value)\n",
    "        data = pd.read_pickle(p_temp2 / (instrument + '.pkl'))\n",
    "        for i in range(60, 20, -1):\n",
    "            data = wave_manipulator.slice_recording2(data, Ignore=132000, min_loud=value[1], top_db=i, no_samples=value[3])\n",
    "            data = wave_manipulator.delete_trash(data, length=25000, top_db=100)\n",
    "        data.to_pickle(p_temp1 / (instrument + '.pkl'))"
   ]
  },
  {
   "cell_type": "markdown",
   "metadata": {},
   "source": [
    "### Iterate to trim until minimum value reached\n",
    "___"
   ]
  },
  {
   "cell_type": "code",
   "execution_count": 17,
   "metadata": {},
   "outputs": [],
   "source": [
    "for instrument, value in Instruments.items():\n",
    "    data = pd.read_pickle(p_temp1 / (instrument + '.pkl'))\n",
    "    \n",
    "    for i in range(120, 20, -1):\n",
    "        n = i/2\n",
    "        data = wave_manipulator.trim_silence2(data, Ignore=44100*3, top_db=n)\n",
    "        \n",
    "    data.to_pickle(p_temp1 / (instrument + '.pkl'))"
   ]
  },
  {
   "cell_type": "markdown",
   "metadata": {},
   "source": [
    "### Slice trailing end over given length\n",
    "___"
   ]
  },
  {
   "cell_type": "code",
   "execution_count": 18,
   "metadata": {},
   "outputs": [],
   "source": [
    "for instrument, value in Instruments.items():\n",
    "    data = pd.read_pickle(p_temp1 / (instrument + '.pkl'))\n",
    "    data = wave_manipulator.cut_end(data, length=132300)\n",
    "    data.to_pickle(p_temp1 / (instrument + '.pkl'))"
   ]
  },
  {
   "cell_type": "markdown",
   "metadata": {},
   "source": [
    "### Clean the edges\n",
    "___"
   ]
  },
  {
   "cell_type": "code",
   "execution_count": 19,
   "metadata": {},
   "outputs": [],
   "source": [
    "for instrument, value in Instruments.items():\n",
    "    data = pd.read_pickle(p_temp1 / (instrument + '.pkl'))\n",
    "    data = wave_manipulator.clean_edges(data, length=132299)\n",
    "    data.to_pickle(p_temp1 / (instrument + '.pkl'))"
   ]
  },
  {
   "cell_type": "markdown",
   "metadata": {},
   "source": [
    "### Once again drop too silent recordings\n",
    "___"
   ]
  },
  {
   "cell_type": "code",
   "execution_count": 20,
   "metadata": {},
   "outputs": [],
   "source": [
    "for instrument, value in Instruments.items():\n",
    "    data = pd.read_pickle(p_temp1 / (instrument + '.pkl'))\n",
    "    data = wave_manipulator.delete_trash(data, length=200000, top_db=0.01)\n",
    "    data.to_pickle(p_temp1 / (instrument + '.pkl'))"
   ]
  },
  {
   "cell_type": "markdown",
   "metadata": {},
   "source": [
    "### Add Directory name\n",
    "___"
   ]
  },
  {
   "cell_type": "code",
   "execution_count": 8,
   "metadata": {},
   "outputs": [],
   "source": [
    "for instrument, value in Instruments.items():\n",
    "    data = pd.read_pickle(p_temp1 / (instrument + '.pkl'))\n",
    "    data['directories'] = '[' + data.source + ']' + '[' + data.type + ']'+ '[' + data.instrument + ']' + '[' + data['style'] + ']'\n",
    "    data.to_pickle(p_temp1 / (instrument + '.pkl'))"
   ]
  },
  {
   "cell_type": "code",
   "execution_count": null,
   "metadata": {},
   "outputs": [],
   "source": [
    "data = pd.read_pickle(p_temp1 / ('Piano' + '.pkl'))\n",
    "data"
   ]
  },
  {
   "cell_type": "markdown",
   "metadata": {},
   "source": [
    "### Drop to wave for Inspection\n",
    "___"
   ]
  },
  {
   "cell_type": "code",
   "execution_count": 10,
   "metadata": {},
   "outputs": [],
   "source": [
    "for instrument, value in Instruments.items():\n",
    "    data = pd.read_pickle(p_temp1 / (instrument + '.pkl'))\n",
    "    wave_manipulator.to_wav3(data, p=p_wav, sr=44100)\n"
   ]
  },
  {
   "cell_type": "markdown",
   "metadata": {},
   "source": [
    "### Initial Analysis\n",
    "___"
   ]
  },
  {
   "cell_type": "code",
   "execution_count": 3,
   "metadata": {},
   "outputs": [],
   "source": [
    "classlist = []\n",
    "count = []\n",
    "\n",
    "for instrument, value in Instruments.items():\n",
    "    data = pd.read_pickle(p_temp1 / (instrument + '.pkl'))\n",
    "    classes = set(data.directories)\n",
    "    for item in classes:\n",
    "        pad = data.loc[data['directories'] == item]\n",
    "        classlist.append(item)\n",
    "        count.append(len(pad))\n",
    "        \n",
    "structure = pd.DataFrame(list(zip(classlist, count)),\n",
    "                              columns = ['Directory', 'Nos'])\n"
   ]
  },
  {
   "cell_type": "code",
   "execution_count": 4,
   "metadata": {},
   "outputs": [
    {
     "data": {
      "text/html": [
       "<div>\n",
       "<style scoped>\n",
       "    .dataframe tbody tr th:only-of-type {\n",
       "        vertical-align: middle;\n",
       "    }\n",
       "\n",
       "    .dataframe tbody tr th {\n",
       "        vertical-align: top;\n",
       "    }\n",
       "\n",
       "    .dataframe thead th {\n",
       "        text-align: right;\n",
       "    }\n",
       "</style>\n",
       "<table border=\"1\" class=\"dataframe\">\n",
       "  <thead>\n",
       "    <tr style=\"text-align: right;\">\n",
       "      <th></th>\n",
       "      <th>Directory</th>\n",
       "      <th>Nos</th>\n",
       "    </tr>\n",
       "  </thead>\n",
       "  <tbody>\n",
       "    <tr>\n",
       "      <th>0</th>\n",
       "      <td>[UIOWA][Piano][Piano][unused]</td>\n",
       "      <td>206</td>\n",
       "    </tr>\n",
       "    <tr>\n",
       "      <th>1</th>\n",
       "      <td>[UIOWA][Guitar][Guitar][unused]</td>\n",
       "      <td>736</td>\n",
       "    </tr>\n",
       "    <tr>\n",
       "      <th>2</th>\n",
       "      <td>[UIOWA][Strings][Viola][Arco]</td>\n",
       "      <td>304</td>\n",
       "    </tr>\n",
       "    <tr>\n",
       "      <th>3</th>\n",
       "      <td>[UIOWA][Strings][Viola][Pizzicato]</td>\n",
       "      <td>781</td>\n",
       "    </tr>\n",
       "    <tr>\n",
       "      <th>4</th>\n",
       "      <td>[UIOWA][Strings][Violin][Pizzicato]</td>\n",
       "      <td>643</td>\n",
       "    </tr>\n",
       "    <tr>\n",
       "      <th>...</th>\n",
       "      <td>...</td>\n",
       "      <td>...</td>\n",
       "    </tr>\n",
       "    <tr>\n",
       "      <th>59</th>\n",
       "      <td>[UIOWA][Percussion][Xylophone][Xylophone]</td>\n",
       "      <td>119</td>\n",
       "    </tr>\n",
       "    <tr>\n",
       "      <th>60</th>\n",
       "      <td>[UIOWA][Percussion][Xylophone][unused]</td>\n",
       "      <td>380</td>\n",
       "    </tr>\n",
       "    <tr>\n",
       "      <th>61</th>\n",
       "      <td>[UIOWA][Strings][Cello][Arco]</td>\n",
       "      <td>876</td>\n",
       "    </tr>\n",
       "    <tr>\n",
       "      <th>62</th>\n",
       "      <td>[UIOWA][Strings][Cello][Pizzicato]</td>\n",
       "      <td>1081</td>\n",
       "    </tr>\n",
       "    <tr>\n",
       "      <th>63</th>\n",
       "      <td>[UIOWA][Brass][Horn][unused]</td>\n",
       "      <td>140</td>\n",
       "    </tr>\n",
       "  </tbody>\n",
       "</table>\n",
       "<p>64 rows × 2 columns</p>\n",
       "</div>"
      ],
      "text/plain": [
       "                                    Directory   Nos\n",
       "0               [UIOWA][Piano][Piano][unused]   206\n",
       "1             [UIOWA][Guitar][Guitar][unused]   736\n",
       "2               [UIOWA][Strings][Viola][Arco]   304\n",
       "3          [UIOWA][Strings][Viola][Pizzicato]   781\n",
       "4         [UIOWA][Strings][Violin][Pizzicato]   643\n",
       "..                                        ...   ...\n",
       "59  [UIOWA][Percussion][Xylophone][Xylophone]   119\n",
       "60     [UIOWA][Percussion][Xylophone][unused]   380\n",
       "61              [UIOWA][Strings][Cello][Arco]   876\n",
       "62         [UIOWA][Strings][Cello][Pizzicato]  1081\n",
       "63               [UIOWA][Brass][Horn][unused]   140\n",
       "\n",
       "[64 rows x 2 columns]"
      ]
     },
     "execution_count": 4,
     "metadata": {},
     "output_type": "execute_result"
    }
   ],
   "source": [
    "structure"
   ]
  },
  {
   "cell_type": "markdown",
   "metadata": {},
   "source": [
    "### Restructure_1\n",
    "___"
   ]
  },
  {
   "cell_type": "code",
   "execution_count": 79,
   "metadata": {},
   "outputs": [],
   "source": [
    "\n",
    "Label = []\n",
    "\n",
    "restructure = structure.copy()\n",
    "\n",
    "for index, row in restructure.iterrows():\n",
    "    direc = row.Directory\n",
    "    inst = direc.split('][')[2]\n",
    "    if 'Pizzicato' in direc:\n",
    "        Label.append('noise')\n",
    "    elif 'Percussion' in direc:\n",
    "        Label.append('noise')\n",
    "    else:\n",
    "        Label.append(inst)\n",
    "restructure['Label'] = Label\n",
    "\n",
    "classes = set(restructure.Label)\n",
    "\n",
    "classlist = []\n",
    "count = []\n",
    "\n",
    "for item in classes:\n",
    "        pad = restructure.loc[restructure.Label == item]\n",
    "        classlist.append(item)\n",
    "        count.append(sum(pad.Nos))\n",
    "        \n",
    "restructure_an = pd.DataFrame(list(zip(classlist, count)),\n",
    "                              columns = ['Label', 'Number of samples'])\n",
    "\n",
    "\n"
   ]
  },
  {
   "cell_type": "code",
   "execution_count": 88,
   "metadata": {},
   "outputs": [
    {
     "data": {
      "text/html": [
       "<div>\n",
       "<style scoped>\n",
       "    .dataframe tbody tr th:only-of-type {\n",
       "        vertical-align: middle;\n",
       "    }\n",
       "\n",
       "    .dataframe tbody tr th {\n",
       "        vertical-align: top;\n",
       "    }\n",
       "\n",
       "    .dataframe thead th {\n",
       "        text-align: right;\n",
       "    }\n",
       "</style>\n",
       "<table border=\"1\" class=\"dataframe\">\n",
       "  <thead>\n",
       "    <tr style=\"text-align: right;\">\n",
       "      <th></th>\n",
       "      <th>Directory</th>\n",
       "      <th>Nos</th>\n",
       "      <th>Label</th>\n",
       "    </tr>\n",
       "  </thead>\n",
       "  <tbody>\n",
       "    <tr>\n",
       "      <th>0</th>\n",
       "      <td>[UIOWA][Piano][Piano][unused]</td>\n",
       "      <td>206</td>\n",
       "      <td>Piano</td>\n",
       "    </tr>\n",
       "    <tr>\n",
       "      <th>1</th>\n",
       "      <td>[UIOWA][Guitar][Guitar][unused]</td>\n",
       "      <td>736</td>\n",
       "      <td>Guitar</td>\n",
       "    </tr>\n",
       "    <tr>\n",
       "      <th>2</th>\n",
       "      <td>[UIOWA][Strings][Viola][Arco]</td>\n",
       "      <td>304</td>\n",
       "      <td>noise</td>\n",
       "    </tr>\n",
       "    <tr>\n",
       "      <th>3</th>\n",
       "      <td>[UIOWA][Strings][Viola][Pizzicato]</td>\n",
       "      <td>781</td>\n",
       "      <td>noise</td>\n",
       "    </tr>\n",
       "    <tr>\n",
       "      <th>4</th>\n",
       "      <td>[UIOWA][Strings][Violin][Arco]</td>\n",
       "      <td>325</td>\n",
       "      <td>noise</td>\n",
       "    </tr>\n",
       "    <tr>\n",
       "      <th>...</th>\n",
       "      <td>...</td>\n",
       "      <td>...</td>\n",
       "      <td>...</td>\n",
       "    </tr>\n",
       "    <tr>\n",
       "      <th>59</th>\n",
       "      <td>[UIOWA][Percussion][Xylophone][Xylophone]</td>\n",
       "      <td>119</td>\n",
       "      <td>noise</td>\n",
       "    </tr>\n",
       "    <tr>\n",
       "      <th>60</th>\n",
       "      <td>[UIOWA][Percussion][Xylophone][unused]</td>\n",
       "      <td>380</td>\n",
       "      <td>noise</td>\n",
       "    </tr>\n",
       "    <tr>\n",
       "      <th>61</th>\n",
       "      <td>[UIOWA][Strings][Cello][Pizzicato]</td>\n",
       "      <td>1081</td>\n",
       "      <td>noise</td>\n",
       "    </tr>\n",
       "    <tr>\n",
       "      <th>62</th>\n",
       "      <td>[UIOWA][Strings][Cello][Arco]</td>\n",
       "      <td>876</td>\n",
       "      <td>Cello</td>\n",
       "    </tr>\n",
       "    <tr>\n",
       "      <th>63</th>\n",
       "      <td>[UIOWA][Brass][Horn][unused]</td>\n",
       "      <td>140</td>\n",
       "      <td>noise</td>\n",
       "    </tr>\n",
       "  </tbody>\n",
       "</table>\n",
       "<p>64 rows × 3 columns</p>\n",
       "</div>"
      ],
      "text/plain": [
       "                                    Directory   Nos   Label\n",
       "0               [UIOWA][Piano][Piano][unused]   206   Piano\n",
       "1             [UIOWA][Guitar][Guitar][unused]   736  Guitar\n",
       "2               [UIOWA][Strings][Viola][Arco]   304   noise\n",
       "3          [UIOWA][Strings][Viola][Pizzicato]   781   noise\n",
       "4              [UIOWA][Strings][Violin][Arco]   325   noise\n",
       "..                                        ...   ...     ...\n",
       "59  [UIOWA][Percussion][Xylophone][Xylophone]   119   noise\n",
       "60     [UIOWA][Percussion][Xylophone][unused]   380   noise\n",
       "61         [UIOWA][Strings][Cello][Pizzicato]  1081   noise\n",
       "62              [UIOWA][Strings][Cello][Arco]   876   Cello\n",
       "63               [UIOWA][Brass][Horn][unused]   140   noise\n",
       "\n",
       "[64 rows x 3 columns]"
      ]
     },
     "execution_count": 88,
     "metadata": {},
     "output_type": "execute_result"
    }
   ],
   "source": [
    "restructure"
   ]
  },
  {
   "cell_type": "code",
   "execution_count": null,
   "metadata": {},
   "outputs": [],
   "source": []
  },
  {
   "cell_type": "markdown",
   "metadata": {},
   "source": [
    "### Restructure_2\n",
    "___"
   ]
  },
  {
   "cell_type": "code",
   "execution_count": 5,
   "metadata": {},
   "outputs": [],
   "source": [
    "inst_dict = {1:'cel', 2:'cla', 3:'flu', 4:'gac', 5:'gel',6:'org',7:'pia',8:'sax',9:'tru',10:'vio',11:'voi'}\n",
    "\n",
    "instrument = []\n",
    "Label = []\n",
    "Label_int = []\n",
    "restructure = structure.copy()\n",
    "\n",
    "for index, row in restructure.iterrows():\n",
    "    direc = row.Directory\n",
    "    inst = direc.split('][')[2]\n",
    "    if 'Pizzicato' in direc:\n",
    "        Label.append('noise')\n",
    "        instrument.append('various')\n",
    "        Label_int.append(0)\n",
    "    elif 'Percussion' in direc:\n",
    "        Label.append('noise')\n",
    "        instrument.append('various')\n",
    "        Label_int.append(0)\n",
    "    elif 'Trumpet' in direc:\n",
    "        instrument.append(inst)\n",
    "        Label.append('Trumpet')\n",
    "        Label_int.append(9)\n",
    "    elif 'Guitar' in direc:\n",
    "        instrument.append(inst)\n",
    "        Label.append('Guitar')\n",
    "        Label_int.append(4)\n",
    "    elif 'Piano' in direc:\n",
    "        instrument.append(inst)\n",
    "        Label.append('Piano')\n",
    "        Label_int.append(7)\n",
    "    elif 'Clarinet' in direc:\n",
    "        instrument.append(inst)\n",
    "        Label.append('Clarinet')\n",
    "        Label_int.append(2)\n",
    "    elif 'Saxophone' in direc:\n",
    "        instrument.append(inst)\n",
    "        Label.append('Saxophone')\n",
    "        Label_int.append(8)\n",
    "    elif 'Violine' in direc:\n",
    "        instrument.append(inst)\n",
    "        Label.append('Violine')\n",
    "        Label_int.append(10)\n",
    "    elif 'Flute' in direc:\n",
    "        instrument.append(inst)\n",
    "        Label.append('Flute')\n",
    "        Label_int.append(3)\n",
    "    elif 'Cello' in direc:\n",
    "        instrument.append(inst)\n",
    "        Label.append('Cello')\n",
    "        Label_int.append(1)\n",
    "        \n",
    "    else:\n",
    "        Label.append('noise')\n",
    "        instrument.append('various')\n",
    "        Label_int.append(0)\n",
    "restructure['Label'] = Label\n",
    "restructure['Instrument'] = instrument\n",
    "restructure['Label_int'] = Label_int\n",
    "\n",
    "inst = set(restructure.Instrument)\n",
    "\n",
    "instlist = []\n",
    "count = []\n",
    "label = []\n",
    "\n",
    "for item in inst:\n",
    "        pad = restructure.loc[restructure.Instrument == item]\n",
    "        instlist.append(item)\n",
    "        count.append(sum(pad.Nos))\n",
    "        label.append(pad.iloc[0].Label)\n",
    "        \n",
    "restructure_an = pd.DataFrame(list(zip(label, instlist, count)),\n",
    "                              columns = ['Label', 'Instrument', 'Number of samples'])\n",
    "\n",
    "data = wave_manipulator.create_dataframe(p_wav, restructure)"
   ]
  },
  {
   "cell_type": "code",
   "execution_count": 10,
   "metadata": {},
   "outputs": [],
   "source": [
    "data.to_pickle(p_home / ('UIWOA_restructure_2.pkl'))"
   ]
  },
  {
   "cell_type": "code",
   "execution_count": 107,
   "metadata": {},
   "outputs": [
    {
     "data": {
      "text/html": [
       "<div>\n",
       "<style scoped>\n",
       "    .dataframe tbody tr th:only-of-type {\n",
       "        vertical-align: middle;\n",
       "    }\n",
       "\n",
       "    .dataframe tbody tr th {\n",
       "        vertical-align: top;\n",
       "    }\n",
       "\n",
       "    .dataframe thead th {\n",
       "        text-align: right;\n",
       "    }\n",
       "</style>\n",
       "<table border=\"1\" class=\"dataframe\">\n",
       "  <thead>\n",
       "    <tr style=\"text-align: right;\">\n",
       "      <th></th>\n",
       "      <th>Label</th>\n",
       "      <th>Instrument</th>\n",
       "      <th>Number of samples</th>\n",
       "    </tr>\n",
       "  </thead>\n",
       "  <tbody>\n",
       "    <tr>\n",
       "      <th>12</th>\n",
       "      <td>Cello</td>\n",
       "      <td>Cello</td>\n",
       "      <td>876</td>\n",
       "    </tr>\n",
       "    <tr>\n",
       "      <th>2</th>\n",
       "      <td>Clarinet</td>\n",
       "      <td>Bass Clarinet</td>\n",
       "      <td>185</td>\n",
       "    </tr>\n",
       "    <tr>\n",
       "      <th>6</th>\n",
       "      <td>Clarinet</td>\n",
       "      <td>Eb Clarinet</td>\n",
       "      <td>158</td>\n",
       "    </tr>\n",
       "    <tr>\n",
       "      <th>10</th>\n",
       "      <td>Clarinet</td>\n",
       "      <td>Bb Clarinet</td>\n",
       "      <td>185</td>\n",
       "    </tr>\n",
       "    <tr>\n",
       "      <th>1</th>\n",
       "      <td>Flute</td>\n",
       "      <td>Alto Flute</td>\n",
       "      <td>135</td>\n",
       "    </tr>\n",
       "    <tr>\n",
       "      <th>3</th>\n",
       "      <td>Flute</td>\n",
       "      <td>Flute</td>\n",
       "      <td>303</td>\n",
       "    </tr>\n",
       "    <tr>\n",
       "      <th>11</th>\n",
       "      <td>Flute</td>\n",
       "      <td>Bass Flute</td>\n",
       "      <td>140</td>\n",
       "    </tr>\n",
       "    <tr>\n",
       "      <th>7</th>\n",
       "      <td>Guitar</td>\n",
       "      <td>Guitar</td>\n",
       "      <td>736</td>\n",
       "    </tr>\n",
       "    <tr>\n",
       "      <th>8</th>\n",
       "      <td>Piano</td>\n",
       "      <td>Piano</td>\n",
       "      <td>206</td>\n",
       "    </tr>\n",
       "    <tr>\n",
       "      <th>0</th>\n",
       "      <td>Saxophone</td>\n",
       "      <td>Eb Alto Saxophone</td>\n",
       "      <td>256</td>\n",
       "    </tr>\n",
       "    <tr>\n",
       "      <th>4</th>\n",
       "      <td>Saxophone</td>\n",
       "      <td>Bb Soprano Saxophone</td>\n",
       "      <td>256</td>\n",
       "    </tr>\n",
       "    <tr>\n",
       "      <th>9</th>\n",
       "      <td>Trumpet</td>\n",
       "      <td>Bb Trumpet</td>\n",
       "      <td>283</td>\n",
       "    </tr>\n",
       "    <tr>\n",
       "      <th>5</th>\n",
       "      <td>noise</td>\n",
       "      <td>various</td>\n",
       "      <td>7602</td>\n",
       "    </tr>\n",
       "  </tbody>\n",
       "</table>\n",
       "</div>"
      ],
      "text/plain": [
       "        Label            Instrument  Number of samples\n",
       "12      Cello                 Cello                876\n",
       "2    Clarinet         Bass Clarinet                185\n",
       "6    Clarinet           Eb Clarinet                158\n",
       "10   Clarinet           Bb Clarinet                185\n",
       "1       Flute            Alto Flute                135\n",
       "3       Flute                 Flute                303\n",
       "11      Flute            Bass Flute                140\n",
       "7      Guitar                Guitar                736\n",
       "8       Piano                 Piano                206\n",
       "0   Saxophone     Eb Alto Saxophone                256\n",
       "4   Saxophone  Bb Soprano Saxophone                256\n",
       "9     Trumpet            Bb Trumpet                283\n",
       "5       noise               various               7602"
      ]
     },
     "execution_count": 107,
     "metadata": {},
     "output_type": "execute_result"
    }
   ],
   "source": [
    "restructure_an.sort_values('Label')"
   ]
  },
  {
   "cell_type": "code",
   "execution_count": 108,
   "metadata": {},
   "outputs": [
    {
     "data": {
      "text/html": [
       "<div>\n",
       "<style scoped>\n",
       "    .dataframe tbody tr th:only-of-type {\n",
       "        vertical-align: middle;\n",
       "    }\n",
       "\n",
       "    .dataframe tbody tr th {\n",
       "        vertical-align: top;\n",
       "    }\n",
       "\n",
       "    .dataframe thead th {\n",
       "        text-align: right;\n",
       "    }\n",
       "</style>\n",
       "<table border=\"1\" class=\"dataframe\">\n",
       "  <thead>\n",
       "    <tr style=\"text-align: right;\">\n",
       "      <th></th>\n",
       "      <th>Directory</th>\n",
       "      <th>Nos</th>\n",
       "      <th>Label</th>\n",
       "      <th>Instrument</th>\n",
       "    </tr>\n",
       "  </thead>\n",
       "  <tbody>\n",
       "    <tr>\n",
       "      <th>0</th>\n",
       "      <td>[UIOWA][Piano][Piano][unused]</td>\n",
       "      <td>206</td>\n",
       "      <td>Piano</td>\n",
       "      <td>Piano</td>\n",
       "    </tr>\n",
       "    <tr>\n",
       "      <th>1</th>\n",
       "      <td>[UIOWA][Guitar][Guitar][unused]</td>\n",
       "      <td>736</td>\n",
       "      <td>Guitar</td>\n",
       "      <td>Guitar</td>\n",
       "    </tr>\n",
       "    <tr>\n",
       "      <th>2</th>\n",
       "      <td>[UIOWA][Strings][Viola][Arco]</td>\n",
       "      <td>304</td>\n",
       "      <td>noise</td>\n",
       "      <td>various</td>\n",
       "    </tr>\n",
       "    <tr>\n",
       "      <th>3</th>\n",
       "      <td>[UIOWA][Strings][Viola][Pizzicato]</td>\n",
       "      <td>781</td>\n",
       "      <td>noise</td>\n",
       "      <td>various</td>\n",
       "    </tr>\n",
       "    <tr>\n",
       "      <th>4</th>\n",
       "      <td>[UIOWA][Strings][Violin][Arco]</td>\n",
       "      <td>325</td>\n",
       "      <td>noise</td>\n",
       "      <td>various</td>\n",
       "    </tr>\n",
       "    <tr>\n",
       "      <th>...</th>\n",
       "      <td>...</td>\n",
       "      <td>...</td>\n",
       "      <td>...</td>\n",
       "      <td>...</td>\n",
       "    </tr>\n",
       "    <tr>\n",
       "      <th>59</th>\n",
       "      <td>[UIOWA][Percussion][Xylophone][Xylophone]</td>\n",
       "      <td>119</td>\n",
       "      <td>noise</td>\n",
       "      <td>various</td>\n",
       "    </tr>\n",
       "    <tr>\n",
       "      <th>60</th>\n",
       "      <td>[UIOWA][Percussion][Xylophone][unused]</td>\n",
       "      <td>380</td>\n",
       "      <td>noise</td>\n",
       "      <td>various</td>\n",
       "    </tr>\n",
       "    <tr>\n",
       "      <th>61</th>\n",
       "      <td>[UIOWA][Strings][Cello][Pizzicato]</td>\n",
       "      <td>1081</td>\n",
       "      <td>noise</td>\n",
       "      <td>various</td>\n",
       "    </tr>\n",
       "    <tr>\n",
       "      <th>62</th>\n",
       "      <td>[UIOWA][Strings][Cello][Arco]</td>\n",
       "      <td>876</td>\n",
       "      <td>Cello</td>\n",
       "      <td>Cello</td>\n",
       "    </tr>\n",
       "    <tr>\n",
       "      <th>63</th>\n",
       "      <td>[UIOWA][Brass][Horn][unused]</td>\n",
       "      <td>140</td>\n",
       "      <td>noise</td>\n",
       "      <td>various</td>\n",
       "    </tr>\n",
       "  </tbody>\n",
       "</table>\n",
       "<p>64 rows × 4 columns</p>\n",
       "</div>"
      ],
      "text/plain": [
       "                                    Directory   Nos   Label Instrument\n",
       "0               [UIOWA][Piano][Piano][unused]   206   Piano      Piano\n",
       "1             [UIOWA][Guitar][Guitar][unused]   736  Guitar     Guitar\n",
       "2               [UIOWA][Strings][Viola][Arco]   304   noise    various\n",
       "3          [UIOWA][Strings][Viola][Pizzicato]   781   noise    various\n",
       "4              [UIOWA][Strings][Violin][Arco]   325   noise    various\n",
       "..                                        ...   ...     ...        ...\n",
       "59  [UIOWA][Percussion][Xylophone][Xylophone]   119   noise    various\n",
       "60     [UIOWA][Percussion][Xylophone][unused]   380   noise    various\n",
       "61         [UIOWA][Strings][Cello][Pizzicato]  1081   noise    various\n",
       "62              [UIOWA][Strings][Cello][Arco]   876   Cello      Cello\n",
       "63               [UIOWA][Brass][Horn][unused]   140   noise    various\n",
       "\n",
       "[64 rows x 4 columns]"
      ]
     },
     "execution_count": 108,
     "metadata": {},
     "output_type": "execute_result"
    }
   ],
   "source": [
    "restructure"
   ]
  },
  {
   "cell_type": "code",
   "execution_count": null,
   "metadata": {},
   "outputs": [],
   "source": []
  }
 ],
 "metadata": {
  "kernelspec": {
   "display_name": "dsr",
   "language": "python",
   "name": "dsr"
  },
  "language_info": {
   "codemirror_mode": {
    "name": "ipython",
    "version": 3
   },
   "file_extension": ".py",
   "mimetype": "text/x-python",
   "name": "python",
   "nbconvert_exporter": "python",
   "pygments_lexer": "ipython3",
   "version": "3.6.9"
  }
 },
 "nbformat": 4,
 "nbformat_minor": 4
}
