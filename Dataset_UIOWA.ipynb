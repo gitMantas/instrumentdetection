{
 "cells": [
  {
   "cell_type": "code",
   "execution_count": 1,
   "metadata": {},
   "outputs": [],
   "source": [
    "import pandas as pd\n",
    "import numpy as np\n",
    "import os, pathlib\n",
    "import librosa\n",
    "from pathlib import Path\n",
    "import glob\n",
    "import pickle\n",
    "import shutil\n",
    "import datetime\n",
    "import wave_manipulator\n",
    "\n",
    "\n",
    "p_dsampled = Path.cwd() / 'data' / 'UIOWA' /'back'\n",
    "p_temp1 = Path.cwd() / 'data' / 'UIOWA' /'back' / 'tmp1'\n",
    "p_temp2 = Path.cwd() / 'data' / 'UIOWA' /'back' / 'tmp2'\n",
    "p_temp3 = Path.cwd() / 'data' / 'UIOWA' /'back' / 'tmp3'\n",
    "p_temp4 = Path.cwd() / 'data' / 'UIOWA' /'back' / 'tmp4'\n",
    "p_temp5 = Path.cwd() / 'data' / 'UIOWA' /'back' / 'tmp5'\n",
    "p_temp6 = Path.cwd() / 'data' / 'UIOWA' /'back' / 'tmp6'\n",
    "p_temp6 = Path.cwd() / 'data' / 'UIOWA' /'back' / 'tmp7'\n",
    "p_wavo = Path.cwd() / 'data' / 'UIOWA' /'back' / 'wavo'\n",
    "p_wav = Path.cwd() / 'data' / 'UIOWA' /'back' / 'wav'\n",
    "p_data = '/home/mirko/Documents/data/UIOWA/**'"
   ]
  },
  {
   "cell_type": "markdown",
   "metadata": {},
   "source": [
    "### Define Parameters for Instruments\n",
    "___"
   ]
  },
  {
   "cell_type": "code",
   "execution_count": 2,
   "metadata": {},
   "outputs": [],
   "source": [
    "Instruments = {'Piano' : ['skip', 0.0, 0, 0], 'Guitar' : ['run', 0.1, 20, 33000], 'Viola' : ['run', 0.1, 20, 25000],\n",
    "         'Violin' : ['run', 0.1, 20, 25000], 'Double Bass' : ['run', 0.1, 20, 25000], 'Cymbals' : ['skip', 0.0, 0, 0],\n",
    "         'Oboe' : ['run', 0.01, 20, 22000], 'Bass Clarinet' : ['run', 0.01, 20, 22000], 'Bass Flute' : ['run', 0.01, 20, 22000],\n",
    "         'Bb Clarinet' : ['run', 0.01, 20, 22000], 'Eb Alto Saxophone' : ['run', 0.01, 20, 22000], 'Alto Flute' : ['run', 0.01, 20, 22000],\n",
    "         'Flute' : ['run', 0.01, 20, 44000], 'Eb Clarinet' : ['run', 0.01, 20, 22000], 'Bb Soprano Saxophone' : ['run', 0.01, 20, 22000],\n",
    "         'Tuba' : ['run', 0.01, 20, 22000], 'Bass Trombone' : ['run', 0.01, 20, 22000], 'Tenor Trombone' : ['run', 0.01, 20, 22000],\n",
    "         'Bassoon' : ['run', 0.01, 20, 22000], 'Bb Trumpet' : ['run', 0.01, 20, 22000], 'Marimba' : ['run', 0.01, 20, 4000],\n",
    "         'Bells' : ['run', 0.01, 20, 4000], 'Crotales' : ['skip', 0.0, 0, 0], 'Cymbals' : ['skip', 0.0, 0, 0], 'Gongs' : ['skip', 0.0, 0, 0],\n",
    "         'Hand Percussion' : ['skip', 0.0, 0, 0], 'Tamtam' : ['skip', 0.0, 0, 0], 'Tambourines' : ['skip', 0.0, 0, 0],\n",
    "         'Vibraphone' : ['run', 0.01, 20, 34200], 'Xylophone' : ['run', 0.01, 20, 22000], 'Cello' : ['run', 0.1, 20, 25000]\n",
    "        }"
   ]
  },
  {
   "cell_type": "markdown",
   "metadata": {},
   "source": [
    "### Read and structure raw files from disc\n",
    "___"
   ]
  },
  {
   "cell_type": "code",
   "execution_count": null,
   "metadata": {},
   "outputs": [],
   "source": [
    "pathframe = wave_manipulator.create_pathfile(p_data) #Read the filestructure and dump to disc\n",
    "wave_manipulator.create_rawfiles2(pathframe, p_temp1)"
   ]
  },
  {
   "cell_type": "markdown",
   "metadata": {},
   "source": [
    "### Slice and trim the takeouts\n",
    "___"
   ]
  },
  {
   "cell_type": "code",
   "execution_count": null,
   "metadata": {},
   "outputs": [],
   "source": [
    "\n",
    "for instrument, value in Instruments.items():\n",
    "    if value[0] == 'skip':\n",
    "        shutil.copyfile(p_dsampled / (instrument + '.pkl'), p_temp2 / (instrument + '.pkl'))\n",
    "    else:\n",
    "        print(instrument, value)\n",
    "        data = pd.read_pickle(p_dsampled / (instrument + '.pkl'))\n",
    "        for i in range(60, 20, -1):\n",
    "            data = wave_manipulator.slice_recording2(data, Ignore=132000, min_loud=value[1], top_db=i, no_samples=value[3])\n",
    "            data = wave_manipulator.delete_trash(data, length=25000, top_db=100)\n",
    "        data.to_pickle(p_temp2 / (instrument + '.pkl'))"
   ]
  },
  {
   "cell_type": "markdown",
   "metadata": {},
   "source": [
    "### Iterate to trim until minimum value reached\n",
    "___"
   ]
  },
  {
   "cell_type": "code",
   "execution_count": null,
   "metadata": {},
   "outputs": [],
   "source": [
    "for instrument, value in Instruments.items():\n",
    "    data = pd.read_pickle(p_temp2 / (instrument + '.pkl'))\n",
    "    \n",
    "    for i in range(120, 20, -1):\n",
    "        n = i/2\n",
    "        data = wave_manipulator.trim_silence2(data, Ignore=44100*3, top_db=n)\n",
    "        \n",
    "data.to_pickle(p_temp3 / (instrument + '.pkl'))"
   ]
  },
  {
   "cell_type": "markdown",
   "metadata": {},
   "source": [
    "### Slice trailing end over given length\n",
    "___"
   ]
  },
  {
   "cell_type": "code",
   "execution_count": 3,
   "metadata": {},
   "outputs": [],
   "source": [
    "for instrument, value in Instruments.items():\n",
    "    data = pd.read_pickle(p_temp3 / (instrument + '.pkl'))\n",
    "    data = wave_manipulator.cut_end(data, length=132300)\n",
    "    data.to_pickle(p_temp4 / (instrument + '.pkl'))"
   ]
  },
  {
   "cell_type": "markdown",
   "metadata": {},
   "source": [
    "### Clean the edges\n",
    "___"
   ]
  },
  {
   "cell_type": "code",
   "execution_count": 4,
   "metadata": {},
   "outputs": [],
   "source": [
    "for instrument, value in Instruments.items():\n",
    "    data = pd.read_pickle(p_temp4 / (instrument + '.pkl'))\n",
    "    data = wave_manipulator.clean_edges(data, length=132300)\n",
    "    data.to_pickle(p_temp5 / (instrument + '.pkl'))"
   ]
  },
  {
   "cell_type": "markdown",
   "metadata": {},
   "source": [
    "### Once again drop too silent recordings\n",
    "___"
   ]
  },
  {
   "cell_type": "code",
   "execution_count": 5,
   "metadata": {},
   "outputs": [],
   "source": [
    "for instrument, value in Instruments.items():\n",
    "    data = pd.read_pickle(p_temp5 / (instrument + '.pkl'))\n",
    "    data = wave_manipulator.delete_trash(data, length=200000, top_db=0.01)\n",
    "    data.to_pickle(p_temp6 / (instrument + '.pkl'))"
   ]
  },
  {
   "cell_type": "markdown",
   "metadata": {},
   "source": [
    "### Drop to wave for Inspection\n",
    "___"
   ]
  },
  {
   "cell_type": "code",
   "execution_count": 6,
   "metadata": {},
   "outputs": [],
   "source": [
    "for instrument, value in Instruments.items():\n",
    "#     data = pd.read_pickle(p_dsampled / (instrument + '.pkl'))\n",
    "#     wave_manipulator.to_wav3(data, p=p_wav/(instrument+'_Original'), sr=44100)\n",
    "    data = pd.read_pickle(p_temp4 / (instrument + '.pkl'))\n",
    "    wave_manipulator.to_wav3(data, p=p_wav/(instrument+'_Sliced'), sr=44100)\n",
    "    data = pd.read_pickle(p_temp5 / (instrument + '.pkl'))\n",
    "    wave_manipulator.to_wav3(data, p=p_wav/(instrument+'_Dropped again'), sr=44100)\n",
    "    data = pd.read_pickle(p_temp6 / (instrument + '.pkl'))\n",
    "    wave_manipulator.to_wav3(data, p=p_wav/(instrument+'_Clean'), sr=44100)"
   ]
  },
  {
   "cell_type": "code",
   "execution_count": 161,
   "metadata": {},
   "outputs": [
    {
     "name": "stdout",
     "output_type": "stream",
     "text": [
      "12:44:09 : Creating Pandas Frame with path and labels\n"
     ]
    }
   ],
   "source": []
  },
  {
   "cell_type": "code",
   "execution_count": 17,
   "metadata": {},
   "outputs": [
    {
     "name": "stdout",
     "output_type": "stream",
     "text": [
      "0.0043640137\n"
     ]
    },
    {
     "data": {
      "text/plain": [
       "132186"
      ]
     },
     "execution_count": 17,
     "metadata": {},
     "output_type": "execute_result"
    }
   ],
   "source": [
    "instrument = 'Piano'\n",
    "x, sr = librosa.load(p_wav / (instrument + '_Clean') / '41_1.wav',  sr=None)\n",
    "print(np.max(x))\n",
    "x[0:12]\n",
    "z = librosa.zero_crossings(x)\n",
    "crossings = np.nonzero(z)\n",
    "crossings[0][-1]"
   ]
  },
  {
   "cell_type": "code",
   "execution_count": null,
   "metadata": {},
   "outputs": [],
   "source": []
  }
 ],
 "metadata": {
  "kernelspec": {
   "display_name": "dsr",
   "language": "python",
   "name": "dsr"
  },
  "language_info": {
   "codemirror_mode": {
    "name": "ipython",
    "version": 3
   },
   "file_extension": ".py",
   "mimetype": "text/x-python",
   "name": "python",
   "nbconvert_exporter": "python",
   "pygments_lexer": "ipython3",
   "version": "3.6.9"
  }
 },
 "nbformat": 4,
 "nbformat_minor": 4
}
