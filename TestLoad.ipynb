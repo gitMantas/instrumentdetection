{
 "cells": [
  {
   "cell_type": "code",
   "execution_count": 1,
   "metadata": {},
   "outputs": [],
   "source": [
    "from DataLoad import load_to_dataframe"
   ]
  },
  {
   "cell_type": "code",
   "execution_count": null,
   "metadata": {},
   "outputs": [],
   "source": [
    "df, df_raw, class_dict = load_to_dataframe()"
   ]
  },
  {
   "cell_type": "code",
   "execution_count": null,
   "metadata": {},
   "outputs": [],
   "source": [
    "df"
   ]
  },
  {
   "cell_type": "code",
   "execution_count": null,
   "metadata": {},
   "outputs": [],
   "source": [
    "df_raw"
   ]
  },
  {
   "cell_type": "code",
   "execution_count": 24,
   "metadata": {},
   "outputs": [],
   "source": [
    "inverted_dict = dict(map(reversed, class_dict.items()))"
   ]
  },
  {
   "cell_type": "code",
   "execution_count": 54,
   "metadata": {},
   "outputs": [],
   "source": [
    "labels = []\n",
    "for row in df.itertuples():\n",
    "    label_number = inverted_dict[row[1]]\n",
    "    labels.append(label_number)"
   ]
  },
  {
   "cell_type": "code",
   "execution_count": 55,
   "metadata": {},
   "outputs": [],
   "source": [
    "df['labels'] = labels"
   ]
  },
  {
   "cell_type": "code",
   "execution_count": 56,
   "metadata": {},
   "outputs": [
    {
     "data": {
      "text/html": [
       "<div>\n",
       "<style scoped>\n",
       "    .dataframe tbody tr th:only-of-type {\n",
       "        vertical-align: middle;\n",
       "    }\n",
       "\n",
       "    .dataframe tbody tr th {\n",
       "        vertical-align: top;\n",
       "    }\n",
       "\n",
       "    .dataframe thead th {\n",
       "        text-align: right;\n",
       "    }\n",
       "</style>\n",
       "<table border=\"1\" class=\"dataframe\">\n",
       "  <thead>\n",
       "    <tr style=\"text-align: right;\">\n",
       "      <th></th>\n",
       "      <th>tags</th>\n",
       "      <th>wav_path</th>\n",
       "      <th>labels</th>\n",
       "    </tr>\n",
       "  </thead>\n",
       "  <tbody>\n",
       "    <tr>\n",
       "      <th>0</th>\n",
       "      <td>sax</td>\n",
       "      <td>data/IRMAS-TrainingData/sax/[sax][jaz_blu]1651...</td>\n",
       "      <td>7</td>\n",
       "    </tr>\n",
       "    <tr>\n",
       "      <th>1</th>\n",
       "      <td>org</td>\n",
       "      <td>data/IRMAS-TrainingData/org/[org][pop_roc]1115...</td>\n",
       "      <td>5</td>\n",
       "    </tr>\n",
       "    <tr>\n",
       "      <th>2</th>\n",
       "      <td>cel</td>\n",
       "      <td>data/IRMAS-TrainingData/cel/[cel][pop_roc]0099...</td>\n",
       "      <td>0</td>\n",
       "    </tr>\n",
       "    <tr>\n",
       "      <th>3</th>\n",
       "      <td>gac</td>\n",
       "      <td>data/IRMAS-TrainingData/gac/[gac][jaz_blu]0638...</td>\n",
       "      <td>3</td>\n",
       "    </tr>\n",
       "    <tr>\n",
       "      <th>4</th>\n",
       "      <td>voi</td>\n",
       "      <td>data/IRMAS-TrainingData/voi/027__[voi][dru][co...</td>\n",
       "      <td>10</td>\n",
       "    </tr>\n",
       "    <tr>\n",
       "      <th>...</th>\n",
       "      <td>...</td>\n",
       "      <td>...</td>\n",
       "      <td>...</td>\n",
       "    </tr>\n",
       "    <tr>\n",
       "      <th>6700</th>\n",
       "      <td>org</td>\n",
       "      <td>data/IRMAS-TrainingData/org/[org][jaz_blu]1164...</td>\n",
       "      <td>5</td>\n",
       "    </tr>\n",
       "    <tr>\n",
       "      <th>6701</th>\n",
       "      <td>gac</td>\n",
       "      <td>data/IRMAS-TrainingData/gac/[gac][jaz_blu]0603...</td>\n",
       "      <td>3</td>\n",
       "    </tr>\n",
       "    <tr>\n",
       "      <th>6702</th>\n",
       "      <td>org</td>\n",
       "      <td>data/IRMAS-TrainingData/org/[org][pop_roc]1050...</td>\n",
       "      <td>5</td>\n",
       "    </tr>\n",
       "    <tr>\n",
       "      <th>6703</th>\n",
       "      <td>voi</td>\n",
       "      <td>data/IRMAS-TrainingData/voi/[voi][pop_roc]2502...</td>\n",
       "      <td>10</td>\n",
       "    </tr>\n",
       "    <tr>\n",
       "      <th>6704</th>\n",
       "      <td>gac</td>\n",
       "      <td>data/IRMAS-TrainingData/gac/[gac][jaz_blu]0640...</td>\n",
       "      <td>3</td>\n",
       "    </tr>\n",
       "  </tbody>\n",
       "</table>\n",
       "<p>6705 rows × 3 columns</p>\n",
       "</div>"
      ],
      "text/plain": [
       "     tags                                           wav_path  labels\n",
       "0     sax  data/IRMAS-TrainingData/sax/[sax][jaz_blu]1651...       7\n",
       "1     org  data/IRMAS-TrainingData/org/[org][pop_roc]1115...       5\n",
       "2     cel  data/IRMAS-TrainingData/cel/[cel][pop_roc]0099...       0\n",
       "3     gac  data/IRMAS-TrainingData/gac/[gac][jaz_blu]0638...       3\n",
       "4     voi  data/IRMAS-TrainingData/voi/027__[voi][dru][co...      10\n",
       "...   ...                                                ...     ...\n",
       "6700  org  data/IRMAS-TrainingData/org/[org][jaz_blu]1164...       5\n",
       "6701  gac  data/IRMAS-TrainingData/gac/[gac][jaz_blu]0603...       3\n",
       "6702  org  data/IRMAS-TrainingData/org/[org][pop_roc]1050...       5\n",
       "6703  voi  data/IRMAS-TrainingData/voi/[voi][pop_roc]2502...      10\n",
       "6704  gac  data/IRMAS-TrainingData/gac/[gac][jaz_blu]0640...       3\n",
       "\n",
       "[6705 rows x 3 columns]"
      ]
     },
     "execution_count": 56,
     "metadata": {},
     "output_type": "execute_result"
    }
   ],
   "source": [
    "df"
   ]
  },
  {
   "cell_type": "code",
   "execution_count": 7,
   "metadata": {},
   "outputs": [],
   "source": []
  },
  {
   "cell_type": "code",
   "execution_count": 14,
   "metadata": {},
   "outputs": [
    {
     "data": {
      "text/plain": [
       "0"
      ]
     },
     "execution_count": 14,
     "metadata": {},
     "output_type": "execute_result"
    }
   ],
   "source": [
    "inverted_dict[\"cel\"]"
   ]
  },
  {
   "cell_type": "code",
   "execution_count": 17,
   "metadata": {},
   "outputs": [
    {
     "data": {
      "text/plain": [
       "'org'"
      ]
     },
     "execution_count": 17,
     "metadata": {},
     "output_type": "execute_result"
    }
   ],
   "source": [
    "df['tags'][1]"
   ]
  },
  {
   "cell_type": "code",
   "execution_count": null,
   "metadata": {},
   "outputs": [],
   "source": []
  }
 ],
 "metadata": {
  "kernelspec": {
   "display_name": "dsr-dl",
   "language": "python",
   "name": "dl"
  },
  "language_info": {
   "codemirror_mode": {
    "name": "ipython",
    "version": 3
   },
   "file_extension": ".py",
   "mimetype": "text/x-python",
   "name": "python",
   "nbconvert_exporter": "python",
   "pygments_lexer": "ipython3",
   "version": "3.7.6"
  }
 },
 "nbformat": 4,
 "nbformat_minor": 4
}
