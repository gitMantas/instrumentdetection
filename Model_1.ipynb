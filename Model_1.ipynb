{
 "cells": [
  {
   "cell_type": "code",
   "execution_count": 6,
   "metadata": {},
   "outputs": [],
   "source": [
    "import pandas as pd\n",
    "import numpy as np\n",
    "import json\n",
    "from sklearn.model_selection import train_test_split\n",
    "from tensorflow.keras import layers, models\n",
    "from DataLoad import load_to_dataframe, filter_instruments\n",
    "from feature_generator import create_features, para_dict\n",
    "import tensorflow as tf\n",
    "import matplotlib.pyplot as plt\n",
    "import pickle\n",
    "from pathlib import Path"
   ]
  },
  {
   "cell_type": "code",
   "execution_count": 16,
   "metadata": {},
   "outputs": [
    {
     "name": "stdout",
     "output_type": "stream",
     "text": [
      "Description :  Only FFT transformation with 2 channels for real and imaginary part, linear absolute values between 0 and 1\n",
      "Data :  /home/mirko/Downloads/IRMAS_Raw.pkl\n",
      "Transformation :  FFT_Complex_1\n",
      "sampling_rate :  44100\n",
      "hop_length :  2048\n",
      "fft_window :  1024\n",
      "no_mel_bin :  27\n",
      "loudness_normalization :  linear\n",
      "fmin :  0.0\n",
      "fmax :  11025.0\n",
      "length_s :  3\n",
      "Input_Dim :  [513, 65]\n",
      "\n",
      "Labels:  (6705,)\n",
      "Features:  (6705, 513, 65)\n"
     ]
    }
   ],
   "source": [
    "# Read in Features, Labels and Parameter\n",
    "\n",
    "Model_Name = 'FFT_Complex_1'\n",
    "\n",
    "param_file = Model_Name + '_Param.txt'\n",
    "feature_file = Model_Name + '_features.npy'\n",
    "label_file = Model_Name + '_labels.npy'\n",
    "modelstore = Path.cwd() / 'models'\n",
    "\n",
    "\n",
    "\n",
    "with open(modelstore / param_file, 'r') as file:\n",
    "    Feature_Params = json.load(file)\n",
    "    \n",
    "Feature_Params   \n",
    " \n",
    "    \n",
    "    \n",
    "features = np.load(modelstore / feature_file)\n",
    "label = np.load(modelstore / label_file)\n",
    "\n",
    "for keys, values in Feature_Params.items():\n",
    "    print(keys, ': ', values)\n",
    "\n",
    "print()\n",
    "print('Labels: ', label.shape)\n",
    "print('Features: ', features.shape)\n",
    "    "
   ]
  },
  {
   "cell_type": "code",
   "execution_count": null,
   "metadata": {},
   "outputs": [],
   "source": []
  },
  {
   "cell_type": "code",
   "execution_count": 17,
   "metadata": {},
   "outputs": [],
   "source": [
    "# Train test split\n",
    "\n",
    "feature_train, feature_test, label_train, label_test = train_test_split(features, label, test_size=0.3)"
   ]
  },
  {
   "cell_type": "code",
   "execution_count": 18,
   "metadata": {},
   "outputs": [
    {
     "name": "stdout",
     "output_type": "stream",
     "text": [
      "(4693, 513, 65)\n",
      "(2012, 513, 65)\n",
      "(4693,)\n",
      "(2012,)\n"
     ]
    }
   ],
   "source": [
    "print(feature_train.shape)\n",
    "print(feature_test.shape)\n",
    "print(label_train.shape)\n",
    "print(label_test.shape)"
   ]
  },
  {
   "cell_type": "code",
   "execution_count": null,
   "metadata": {},
   "outputs": [],
   "source": []
  },
  {
   "cell_type": "code",
   "execution_count": 10,
   "metadata": {},
   "outputs": [],
   "source": [
    "#Define the model\n",
    "\n",
    "model = models.Sequential()\n",
    "model.add(layers.Conv2D(32, (2, 2), activation='relu', input_shape=(13, 65, 1)))\n",
    "model.add(layers.MaxPooling2D((2, 2)))\n",
    "model.add(layers.Conv2D(64, (2, 2), activation='relu'))\n",
    "model.add(layers.MaxPooling2D((2, 2)))\n",
    "model.add(layers.Conv2D(64, (2, 2), activation='relu'))\n",
    "model.add(layers.Flatten())\n",
    "model.add(layers.Dense(64, activation='relu'))\n",
    "model.add(layers.Dense(11))\n",
    "model.add(layers.Activation('softmax'))\n"
   ]
  },
  {
   "cell_type": "code",
   "execution_count": 11,
   "metadata": {},
   "outputs": [
    {
     "name": "stdout",
     "output_type": "stream",
     "text": [
      "Model: \"sequential\"\n",
      "_________________________________________________________________\n",
      "Layer (type)                 Output Shape              Param #   \n",
      "=================================================================\n",
      "conv2d (Conv2D)              (None, 12, 64, 32)        160       \n",
      "_________________________________________________________________\n",
      "max_pooling2d (MaxPooling2D) (None, 6, 32, 32)         0         \n",
      "_________________________________________________________________\n",
      "conv2d_1 (Conv2D)            (None, 5, 31, 64)         8256      \n",
      "_________________________________________________________________\n",
      "max_pooling2d_1 (MaxPooling2 (None, 2, 15, 64)         0         \n",
      "_________________________________________________________________\n",
      "conv2d_2 (Conv2D)            (None, 1, 14, 64)         16448     \n",
      "_________________________________________________________________\n",
      "flatten (Flatten)            (None, 896)               0         \n",
      "_________________________________________________________________\n",
      "dense (Dense)                (None, 64)                57408     \n",
      "_________________________________________________________________\n",
      "dense_1 (Dense)              (None, 11)                715       \n",
      "_________________________________________________________________\n",
      "activation (Activation)      (None, 11)                0         \n",
      "=================================================================\n",
      "Total params: 82,987\n",
      "Trainable params: 82,987\n",
      "Non-trainable params: 0\n",
      "_________________________________________________________________\n"
     ]
    }
   ],
   "source": [
    "model.summary()"
   ]
  },
  {
   "cell_type": "code",
   "execution_count": 12,
   "metadata": {},
   "outputs": [],
   "source": [
    "model.compile(optimizer='adam',\n",
    "              loss=tf.keras.losses.SparseCategoricalCrossentropy(from_logits=True),\n",
    "              metrics=['accuracy'])\n"
   ]
  },
  {
   "cell_type": "code",
   "execution_count": 13,
   "metadata": {},
   "outputs": [
    {
     "name": "stdout",
     "output_type": "stream",
     "text": [
      "Train on 4693 samples, validate on 2012 samples\n",
      "Epoch 1/50\n",
      "4693/4693 [==============================] - 1s 234us/sample - loss: 2.3799 - accuracy: 0.1225 - val_loss: 2.3614 - val_accuracy: 0.1710\n",
      "Epoch 2/50\n",
      "4693/4693 [==============================] - 1s 170us/sample - loss: 2.3523 - accuracy: 0.1658 - val_loss: 2.3416 - val_accuracy: 0.1849\n",
      "Epoch 3/50\n",
      "4693/4693 [==============================] - 1s 169us/sample - loss: 2.3469 - accuracy: 0.1762 - val_loss: 2.3412 - val_accuracy: 0.1899\n",
      "Epoch 4/50\n",
      "4693/4693 [==============================] - 1s 163us/sample - loss: 2.3384 - accuracy: 0.1869 - val_loss: 2.3570 - val_accuracy: 0.1675\n",
      "Epoch 5/50\n",
      "4693/4693 [==============================] - 1s 163us/sample - loss: 2.3326 - accuracy: 0.1922 - val_loss: 2.3224 - val_accuracy: 0.2073\n",
      "Epoch 6/50\n",
      "4693/4693 [==============================] - 1s 164us/sample - loss: 2.3312 - accuracy: 0.1896 - val_loss: 2.3298 - val_accuracy: 0.2008\n",
      "Epoch 7/50\n",
      "4693/4693 [==============================] - 1s 167us/sample - loss: 2.3212 - accuracy: 0.2043 - val_loss: 2.3453 - val_accuracy: 0.1804\n",
      "Epoch 8/50\n",
      "4693/4693 [==============================] - 1s 174us/sample - loss: 2.3194 - accuracy: 0.2092 - val_loss: 2.3170 - val_accuracy: 0.2083\n",
      "Epoch 9/50\n",
      "4693/4693 [==============================] - 1s 166us/sample - loss: 2.3048 - accuracy: 0.2240 - val_loss: 2.3041 - val_accuracy: 0.2286\n",
      "Epoch 10/50\n",
      "4693/4693 [==============================] - 1s 168us/sample - loss: 2.2948 - accuracy: 0.2359 - val_loss: 2.2959 - val_accuracy: 0.2237\n",
      "Epoch 11/50\n",
      "4693/4693 [==============================] - 1s 170us/sample - loss: 2.2813 - accuracy: 0.2538 - val_loss: 2.3140 - val_accuracy: 0.2058\n",
      "Epoch 12/50\n",
      "4693/4693 [==============================] - 1s 164us/sample - loss: 2.2754 - accuracy: 0.2593 - val_loss: 2.2688 - val_accuracy: 0.2709\n",
      "Epoch 13/50\n",
      "4693/4693 [==============================] - 1s 169us/sample - loss: 2.2734 - accuracy: 0.2612 - val_loss: 2.2662 - val_accuracy: 0.2808\n",
      "Epoch 14/50\n",
      "4693/4693 [==============================] - 1s 170us/sample - loss: 2.2662 - accuracy: 0.2691 - val_loss: 2.2641 - val_accuracy: 0.2704\n",
      "Epoch 15/50\n",
      "4693/4693 [==============================] - 1s 165us/sample - loss: 2.2556 - accuracy: 0.2811 - val_loss: 2.2624 - val_accuracy: 0.2788\n",
      "Epoch 16/50\n",
      "4693/4693 [==============================] - 1s 168us/sample - loss: 2.2499 - accuracy: 0.2885 - val_loss: 2.2641 - val_accuracy: 0.2714\n",
      "Epoch 17/50\n",
      "4693/4693 [==============================] - 1s 172us/sample - loss: 2.2554 - accuracy: 0.2832 - val_loss: 2.2557 - val_accuracy: 0.2803\n",
      "Epoch 18/50\n",
      "4693/4693 [==============================] - 1s 174us/sample - loss: 2.2486 - accuracy: 0.2917 - val_loss: 2.2507 - val_accuracy: 0.2843\n",
      "Epoch 19/50\n",
      "4693/4693 [==============================] - 1s 178us/sample - loss: 2.2389 - accuracy: 0.2981 - val_loss: 2.2636 - val_accuracy: 0.2719\n",
      "Epoch 20/50\n",
      "4693/4693 [==============================] - 1s 169us/sample - loss: 2.2394 - accuracy: 0.2970 - val_loss: 2.2587 - val_accuracy: 0.2828\n",
      "Epoch 21/50\n",
      "4693/4693 [==============================] - 1s 170us/sample - loss: 2.2304 - accuracy: 0.3107 - val_loss: 2.2537 - val_accuracy: 0.2818\n",
      "Epoch 22/50\n",
      "4693/4693 [==============================] - 1s 172us/sample - loss: 2.2390 - accuracy: 0.2973 - val_loss: 2.2429 - val_accuracy: 0.2982\n",
      "Epoch 23/50\n",
      "4693/4693 [==============================] - 1s 180us/sample - loss: 2.2263 - accuracy: 0.3141 - val_loss: 2.2539 - val_accuracy: 0.2749\n",
      "Epoch 24/50\n",
      "4693/4693 [==============================] - 1s 172us/sample - loss: 2.2392 - accuracy: 0.2979 - val_loss: 2.2408 - val_accuracy: 0.2917\n",
      "Epoch 25/50\n",
      "4693/4693 [==============================] - 1s 173us/sample - loss: 2.2243 - accuracy: 0.3149 - val_loss: 2.2532 - val_accuracy: 0.2808\n",
      "Epoch 26/50\n",
      "4693/4693 [==============================] - 1s 173us/sample - loss: 2.2201 - accuracy: 0.3181 - val_loss: 2.2314 - val_accuracy: 0.3082\n",
      "Epoch 27/50\n",
      "4693/4693 [==============================] - 1s 174us/sample - loss: 2.2175 - accuracy: 0.3186 - val_loss: 2.2464 - val_accuracy: 0.2833\n",
      "Epoch 28/50\n",
      "4693/4693 [==============================] - 1s 197us/sample - loss: 2.2116 - accuracy: 0.3273 - val_loss: 2.2285 - val_accuracy: 0.3181\n",
      "Epoch 29/50\n",
      "4693/4693 [==============================] - 1s 185us/sample - loss: 2.2154 - accuracy: 0.3273 - val_loss: 2.2619 - val_accuracy: 0.2749\n",
      "Epoch 30/50\n",
      "4693/4693 [==============================] - 1s 194us/sample - loss: 2.2127 - accuracy: 0.3271 - val_loss: 2.2194 - val_accuracy: 0.3176\n",
      "Epoch 31/50\n",
      "4693/4693 [==============================] - 1s 185us/sample - loss: 2.2013 - accuracy: 0.3390 - val_loss: 2.2226 - val_accuracy: 0.3067\n",
      "Epoch 32/50\n",
      "4693/4693 [==============================] - 1s 183us/sample - loss: 2.2041 - accuracy: 0.3330 - val_loss: 2.2277 - val_accuracy: 0.3106\n",
      "Epoch 33/50\n",
      "4693/4693 [==============================] - 1s 179us/sample - loss: 2.1959 - accuracy: 0.3482 - val_loss: 2.2200 - val_accuracy: 0.3211\n",
      "Epoch 34/50\n",
      "4693/4693 [==============================] - 1s 179us/sample - loss: 2.1931 - accuracy: 0.3456 - val_loss: 2.2173 - val_accuracy: 0.3241\n",
      "Epoch 35/50\n",
      "4693/4693 [==============================] - 1s 188us/sample - loss: 2.1911 - accuracy: 0.3531 - val_loss: 2.2257 - val_accuracy: 0.3141\n",
      "Epoch 36/50\n",
      "4693/4693 [==============================] - 1s 179us/sample - loss: 2.1893 - accuracy: 0.3509 - val_loss: 2.2118 - val_accuracy: 0.3290\n",
      "Epoch 37/50\n",
      "4693/4693 [==============================] - 1s 177us/sample - loss: 2.1837 - accuracy: 0.3578 - val_loss: 2.2110 - val_accuracy: 0.3255\n",
      "Epoch 38/50\n",
      "4693/4693 [==============================] - 1s 184us/sample - loss: 2.1836 - accuracy: 0.3561 - val_loss: 2.2153 - val_accuracy: 0.3241\n",
      "Epoch 39/50\n",
      "4693/4693 [==============================] - 1s 186us/sample - loss: 2.1827 - accuracy: 0.3590 - val_loss: 2.2197 - val_accuracy: 0.3221\n",
      "Epoch 40/50\n",
      "4693/4693 [==============================] - 1s 184us/sample - loss: 2.1791 - accuracy: 0.3584 - val_loss: 2.2131 - val_accuracy: 0.3275\n",
      "Epoch 41/50\n",
      "4693/4693 [==============================] - 1s 180us/sample - loss: 2.1727 - accuracy: 0.3671 - val_loss: 2.2112 - val_accuracy: 0.3260\n",
      "Epoch 42/50\n",
      "4693/4693 [==============================] - 1s 177us/sample - loss: 2.1675 - accuracy: 0.3750 - val_loss: 2.2140 - val_accuracy: 0.3216\n",
      "Epoch 43/50\n",
      "4693/4693 [==============================] - 1s 183us/sample - loss: 2.1714 - accuracy: 0.3720 - val_loss: 2.2163 - val_accuracy: 0.3156\n",
      "Epoch 44/50\n",
      "4693/4693 [==============================] - 1s 182us/sample - loss: 2.1721 - accuracy: 0.3674 - val_loss: 2.2155 - val_accuracy: 0.3221\n",
      "Epoch 45/50\n",
      "4693/4693 [==============================] - 1s 184us/sample - loss: 2.1661 - accuracy: 0.3748 - val_loss: 2.2174 - val_accuracy: 0.3191\n",
      "Epoch 46/50\n",
      "4693/4693 [==============================] - 1s 179us/sample - loss: 2.1546 - accuracy: 0.3902 - val_loss: 2.2132 - val_accuracy: 0.3290\n",
      "Epoch 47/50\n",
      "4693/4693 [==============================] - 1s 180us/sample - loss: 2.1509 - accuracy: 0.3912 - val_loss: 2.2170 - val_accuracy: 0.3136\n",
      "Epoch 48/50\n",
      "4693/4693 [==============================] - 1s 182us/sample - loss: 2.1544 - accuracy: 0.3889 - val_loss: 2.2123 - val_accuracy: 0.3275\n",
      "Epoch 49/50\n",
      "4693/4693 [==============================] - 1s 181us/sample - loss: 2.1549 - accuracy: 0.3844 - val_loss: 2.2081 - val_accuracy: 0.3350\n",
      "Epoch 50/50\n",
      "4693/4693 [==============================] - 1s 179us/sample - loss: 2.1499 - accuracy: 0.3951 - val_loss: 2.2101 - val_accuracy: 0.3330\n"
     ]
    }
   ],
   "source": [
    "history = model.fit(feature_train, label_train, epochs=50, \n",
    "                    validation_data=(feature_test, label_test))"
   ]
  },
  {
   "cell_type": "code",
   "execution_count": 15,
   "metadata": {},
   "outputs": [],
   "source": [
    "history_file = Model_Name + '_history.pkl'\n",
    "\n",
    "with open(modelstore / history_file, 'wb') as f:\n",
    "    pickle.dump(history.history, f)    "
   ]
  },
  {
   "cell_type": "code",
   "execution_count": 33,
   "metadata": {},
   "outputs": [
    {
     "name": "stdout",
     "output_type": "stream",
     "text": [
      "2012/2012 - 0s - loss: 2.2186 - accuracy: 0.3186\n"
     ]
    },
    {
     "data": {
      "image/png": "[encoded data removed]",
      "text/plain": [
       "<Figure size 432x288 with 1 Axes>"
      ]
     },
     "metadata": {
      "needs_background": "light"
     },
     "output_type": "display_data"
    }
   ],
   "source": [
    "plt.plot(history.history['accuracy'], label='accuracy')\n",
    "plt.plot(history.history['val_accuracy'], label = 'val_accuracy')\n",
    "plt.xlabel('Epoch')\n",
    "plt.ylabel('Accuracy')\n",
    "plt.ylim([0, 1])\n",
    "plt.legend(loc='lower right')\n",
    "\n",
    "test_loss, test_acc = model.evaluate(feature_test,  label_test, verbose=2)\n"
   ]
  },
  {
   "cell_type": "code",
   "execution_count": 78,
   "metadata": {},
   "outputs": [
    {
     "data": {
      "text/plain": [
       "numpy.float32"
      ]
     },
     "execution_count": 78,
     "metadata": {},
     "output_type": "execute_result"
    }
   ],
   "source": [
    "type(feature_train[1][1][1][0])"
   ]
  },
  {
   "cell_type": "code",
   "execution_count": 84,
   "metadata": {},
   "outputs": [],
   "source": [
    "label_train = np.array(label_train)\n",
    "label_test = np.array(label_test)"
   ]
  },
  {
   "cell_type": "code",
   "execution_count": 82,
   "metadata": {},
   "outputs": [
    {
     "data": {
      "text/plain": [
       "numpy.ndarray"
      ]
     },
     "execution_count": 82,
     "metadata": {},
     "output_type": "execute_result"
    }
   ],
   "source": [
    "type(label_train)"
   ]
  },
  {
   "cell_type": "code",
   "execution_count": 127,
   "metadata": {},
   "outputs": [
    {
     "data": {
      "text/plain": [
       "(1, 13, 65, 1)"
      ]
     },
     "execution_count": 127,
     "metadata": {},
     "output_type": "execute_result"
    }
   ],
   "source": [
    "example = feature_train[5]\n",
    "\n",
    "example = np.expand_dims(example, axis=0)\n",
    "example.shape"
   ]
  },
  {
   "cell_type": "code",
   "execution_count": 160,
   "metadata": {},
   "outputs": [],
   "source": [
    "x = 230\n",
    "\n",
    "example = feature_test[x]\n",
    "label = label_test[x]\n",
    "example = np.expand_dims(example, axis=0)\n",
    "result = model(example)"
   ]
  },
  {
   "cell_type": "code",
   "execution_count": 161,
   "metadata": {},
   "outputs": [
    {
     "name": "stdout",
     "output_type": "stream",
     "text": [
      "9\n",
      "9\n",
      "0.9472844 %\n"
     ]
    }
   ],
   "source": [
    "print(label)\n",
    "print(np.argmax(result))\n",
    "print(np.max(result),'%')"
   ]
  },
  {
   "cell_type": "code",
   "execution_count": 2,
   "metadata": {},
   "outputs": [],
   "source": [
    "para_dict()"
   ]
  },
  {
   "cell_type": "code",
   "execution_count": null,
   "metadata": {},
   "outputs": [],
   "source": []
  }
 ],
 "metadata": {
  "kernelspec": {
   "display_name": "dsr",
   "language": "python",
   "name": "dsr"
  },
  "language_info": {
   "codemirror_mode": {
    "name": "ipython",
    "version": 3
   },
   "file_extension": ".py",
   "mimetype": "text/x-python",
   "name": "python",
   "nbconvert_exporter": "python",
   "pygments_lexer": "ipython3",
   "version": "3.6.9"
  }
 },
 "nbformat": 4,
 "nbformat_minor": 4
}
